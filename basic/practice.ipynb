{
 "cells": [
  {
   "cell_type": "code",
   "execution_count": null,
   "id": "9637dc20",
   "metadata": {},
   "outputs": [],
   "source": [
    "a  = \"안녕하세\\\n",
    "요\"\n",
    "print(a)"
   ]
  },
  {
   "cell_type": "code",
   "execution_count": null,
   "id": "59ea992b",
   "metadata": {},
   "outputs": [],
   "source": [
    "print(len(a))\n",
    "\n",
    "print(a[len(a)-1])\n",
    "\n",
    "print(a[-1])\n",
    "\n",
    "print(a[:])\n",
    "\n",
    "print(a[1:2])   #한 글자!\n",
    "\n",
    "print(a[1:3])\n",
    "\n",
    "print(a[::-1])  #거꾸로\n",
    "\n",
    "print(a[0:4:2])"
   ]
  },
  {
   "cell_type": "code",
   "execution_count": 1,
   "id": "b25229ef",
   "metadata": {},
   "outputs": [
    {
     "name": "stdout",
     "output_type": "stream",
     "text": [
      "33\n",
      "2\n",
      "1\n",
      "-1\n",
      "0\n",
      "점!프!투!파!이!썬!쉽!게!배!우!는!데!이!터!분!석!파!이!썬\n",
      "점~프~투~파~이~썬~쉽~게~배~우~는~데~이~터~분~석~파~이~썬\n",
      "['점프', ' 투', ' 파이썬', ' 쉽게', ' 배우는', ' 데이터', ' 분석', ' 파이썬']\n"
     ]
    }
   ],
   "source": [
    "str1 = \"점프, 투, 파이썬, 쉽게, 배우는, 데이터, 분석, 파이썬\"\n",
    "\n",
    "print(len(str1))\n",
    "print(str1.count(\"썬\"))    #개수반환\n",
    "print(str1.find(\"프\"))     #위치반환\n",
    "print(str1.find(\"별\"))\n",
    "print(str1.index(\"점\"))    #위치반환\n",
    "\n",
    "\n",
    "str2 = \"점프투파이썬쉽게배우는데이터분석파이썬\"         # **\n",
    "print(\"!\".join(str2))            #글자 사이사이에 삽입 : join\n",
    "print(\"~\".join(str2))\n",
    "print(str1.split(\",\"))           #특정 기준으로 분리: split   (join과 형식은 반대)\n",
    "\n"
   ]
  },
  {
   "cell_type": "code",
   "execution_count": 2,
   "id": "3afa1fc6",
   "metadata": {},
   "outputs": [
    {
     "name": "stdout",
     "output_type": "stream",
     "text": [
      "파이썬쉽게배우는데이터분석파이썬\n",
      "쉽게배우는데이터분석파이썬\n",
      "점프투JAVA쉽게배우는데이터분석JAVA\n",
      "점프투 ~ R ~쉽게배우는데이터분석 ~ R ~\n",
      "일2삼4오육7팔구\n",
      "Lisa의 나이는24이다\n",
      "Lisa의 나이는24이다\n",
      "   제목은, 한여름밤의 꿈이다\n",
      "*****제목은, 한여름밤의 꿈이다\n",
      "***숫자: 0.25이다\n",
      "***숫자: 0.25******이다\n"
     ]
    }
   ],
   "source": [
    "print(str2.lstrip(\"점프투\"))    #왼/오/양쪽 특정글자 제거\n",
    "print(str2.lstrip(\"점프투, 파이썬\"))\n",
    "\n",
    "print(str2.replace(\"파이썬\", \"JAVA\"))    #특정글자 다른글자로 교체 : replace\n",
    "print(str2.replace(\"파이썬\", \" ~ R ~\" ))\n",
    "\n",
    "str3 = \"일이삼사오육칠팔구\"\n",
    "print(str3.translate(str3.maketrans(\"이사칠십\", \"2471\" )))   #문자열 여러글자 한번에 교체\n",
    "\n",
    "print(\"{}의 나이는{}이다\".format(\"Lisa\", \"24\"))\n",
    "print(\"{이름}의 나이는{나이}이다\".format(이름 = \"Lisa\", 나이  = 24))\n",
    "print(\"{:>5}은, {}이다\".format(\"제목\", \"한여름밤의 꿈\" ))\n",
    "print(\"{:*>7}은, {}이다\".format(\"제목\", \"한여름밤의 꿈\" ))\n",
    "print(\"{:*>5}: {:0.2f}이다\".format(\"숫자\",.24666 ))\n",
    "print(\"{:*>5}: {:*<10.2f}이다\".format(\"숫자\",.24666 ))\n"
   ]
  },
  {
   "cell_type": "code",
   "execution_count": null,
   "id": "c22442e1",
   "metadata": {},
   "outputs": [],
   "source": [
    "a = [1, 2, 3, \"가\", 3.14, ['a', 'b', 'c']]\n",
    "\n",
    "print(a[3])\n",
    "print(a[5])\n",
    "print(a[5][0])\n",
    "print(a[-1][0])"
   ]
  },
  {
   "cell_type": "code",
   "execution_count": null,
   "id": "35e7e40c",
   "metadata": {},
   "outputs": [],
   "source": [
    "a = [1,2,3,4,5,6,7]\n",
    "\n",
    "\n",
    "b = a         #얕은복사 (주소만복사)\n",
    "b[3] = \"hey\"\n",
    "print(a)\n",
    "\n",
    "b[5] = \"yo\"\n",
    "print(a)\n",
    "\n",
    "\n",
    "\n",
    "print(\"_______________________\\n\")\n",
    "\n",
    "\n",
    "\n",
    "c = [1,2,3,4,5,6,7]\n",
    "\n",
    "d = c[:]    #깊은 복사   (데이터를 복사)\n",
    "d[3] = \"hey\"\n",
    "print(d)\n",
    "print(c)          #또 다른 별개의 하나가 만들어진것"
   ]
  },
  {
   "cell_type": "code",
   "execution_count": null,
   "id": "dfbbf688",
   "metadata": {},
   "outputs": [],
   "source": [
    "a = 100 \n",
    "\n",
    "print(type(a))\n",
    "print(type(str(a)))   # int -> str\n",
    "print(type(bool(a)))\n",
    "\n",
    "b = '가나'\n",
    "print(list(b), type(list(b)))\n",
    "print(list([b]), type(list([b])))\n"
   ]
  },
  {
   "cell_type": "code",
   "execution_count": 3,
   "id": "756017e6",
   "metadata": {},
   "outputs": [
    {
     "name": "stdout",
     "output_type": "stream",
     "text": [
      "[0, 1, 2, 3, 4, 5, 6, 7, 8, 9, 10, 11, 12, 13, 14, 15, 16, 17, 18, 19]\n",
      "[3, 6, 9, 12, 15, 18, 21, 24, 27]\n",
      "[10, 9, 8, 7, 6, 5, 4, 3, 2, 1]\n"
     ]
    }
   ],
   "source": [
    "a = list(range(20))\n",
    "print(a)\n",
    "\n",
    "a = list(range(3,28,3))\n",
    "print(a)\n",
    "\n",
    "a = list(range(10, 0, -1))\n",
    "print(a)"
   ]
  },
  {
   "cell_type": "code",
   "execution_count": 4,
   "id": "4c063fad",
   "metadata": {},
   "outputs": [
    {
     "name": "stdout",
     "output_type": "stream",
     "text": [
      "['가', '나', '다', '라']\n",
      "['가', '나', '다', 500, '라']\n",
      "['가', '나', '다', 500, '라', 1000]\n",
      "['가', '나', '다', 500, '라', 1000, [600, 700, 800]]\n",
      "['가', '나', '다', 500, '라', 1000, [600, 700, 800], 900, 1000]\n"
     ]
    }
   ],
   "source": [
    "a = [\"가\", \"나\", \"다\", \"라\"]     #배열일 경우 insert, append, extend 한다는 것 기억\n",
    "print(a)\n",
    "\n",
    "a.insert(3, 500)\n",
    "print(a)\n",
    "\n",
    "a.append(1000)\n",
    "print(a)\n",
    "\n",
    "a.append([600, 700, 800])\n",
    "print(a)\n",
    "\n",
    "a.extend(list([900, 1000]))\n",
    "print(a)\n"
   ]
  },
  {
   "cell_type": "markdown",
   "id": "b7845fa8",
   "metadata": {},
   "source": [
    "### 2장 연습문제 (p.112)  [9.12]"
   ]
  },
  {
   "cell_type": "code",
   "execution_count": 5,
   "id": "4fcf04ab",
   "metadata": {},
   "outputs": [
    {
     "name": "stdout",
     "output_type": "stream",
     "text": [
      "홍길동씨의 평균 점수 = (80 + 75 55)/3 = 70.0\n",
      "70.0\n",
      "-----------------------------------------------------------\n",
      "1\n",
      "-----------------------------------------------------------\n",
      "yyyymmdd = 881120\n",
      "num = 1068234\n",
      "-----------------------------------------------------------\n",
      "1\n",
      "-----------------------------------------------------------\n",
      "a#b#c#d\n",
      "-----------------------------------------------------------\n",
      "[1, 2, 3, 4, 5]\n",
      "[5, 4, 3, 2, 1]\n",
      "-----------------------------------------------------------\n",
      "Life is too short\n",
      "-----------------------------------------------------------\n",
      "[1, 4, 3]\n"
     ]
    }
   ],
   "source": [
    "###1\n",
    "\n",
    "print(\"{}씨의 평균 점수 = ({국어} + {영어} {수학})/3 = {평균}\" .format(\"홍길동\", 국어 = 80, 영어 = 75, 수학 = 55, 평균 = ((80+75+55)/3)))\n",
    "  #or\n",
    "    \n",
    "    \n",
    "국어 = 80\n",
    "영어 = 75\n",
    "수학 = 55\n",
    "print((국어+영어+수학)/3)\n",
    "\n",
    "\n",
    "print(\"-----------------------------------------------------------\")\n",
    "\n",
    "\n",
    "###2\n",
    "a = 13%2\n",
    "print(a)\n",
    "\n",
    "\n",
    "print(\"-----------------------------------------------------------\")\n",
    "\n",
    "\n",
    "###3\n",
    "pin = \"881120-1068234\"\n",
    "\n",
    "yyyymmdd = pin[:6]\n",
    "num = pin[7:14]\n",
    "\n",
    "print(\"yyyymmdd = \" + yyyymmdd)\n",
    "print(\"num = \"+ num)\n",
    "\n",
    "\n",
    "print(\"-----------------------------------------------------------\")\n",
    "\n",
    "\n",
    "###4\n",
    "pin = \"881120-1068234\"\n",
    "print(pin[7])\n",
    "\n",
    "\n",
    "print(\"-----------------------------------------------------------\")\n",
    "\n",
    "\n",
    "###5\n",
    "a = \"a:b:c:d\"\n",
    "b = a.replace(\":\", \"#\")\n",
    "print(b)\n",
    "\n",
    "\n",
    "print(\"-----------------------------------------------------------\")\n",
    "\n",
    "\n",
    "###6   애매\n",
    "a = [1,3,5,4,2]\n",
    "a[1] = 2\n",
    "a[2] = 3\n",
    "a[4] = 5\n",
    "print(a[:])\n",
    "\n",
    "print(a[::-1])\n",
    "\n",
    "\n",
    "print(\"-----------------------------------------------------------\")\n",
    "\n",
    "\n",
    "\n",
    "###7    \n",
    "a = ['Life', 'is', 'too', 'short']\n",
    "result = a[0] +\" \"+ a[1] +\" \"+ a[2] +\" \"+ a[3]\n",
    "\n",
    "\n",
    "print(result)\n",
    "\n",
    "\n",
    "\n",
    "print(\"-----------------------------------------------------------\")\n",
    "\n",
    "\n",
    "\n",
    "###12\n",
    "a = b = [1,2,3]\n",
    "a[1] = 4\n",
    "print(b)    #이유:a는 b를 얕은 복사한 것이므로 동일한 값을 가르킨다. 따라서 a의 값을 바꾸면 b의 값도 바뀐다.\n",
    "\n",
    "\n"
   ]
  },
  {
   "cell_type": "code",
   "execution_count": 7,
   "id": "0b5ae41c",
   "metadata": {},
   "outputs": [
    {
     "name": "stdout",
     "output_type": "stream",
     "text": [
      "39603178\n",
      "980980\n"
     ]
    }
   ],
   "source": [
    "data = 980980\n",
    "key = 38976542\n",
    "\n",
    "encode = data^key\n",
    "print(encode)\n",
    "\n",
    "decode = encode^key\n",
    "print(decode)"
   ]
  },
  {
   "cell_type": "markdown",
   "id": "9e35302c",
   "metadata": {},
   "source": [
    "### 3. 제어문 복습"
   ]
  },
  {
   "cell_type": "code",
   "execution_count": 22,
   "id": "deef6ef8",
   "metadata": {},
   "outputs": [
    {
     "name": "stdout",
     "output_type": "stream",
     "text": [
      "[0, 1, 2, 3, 4, 5, 6, 7, 8, 9]\n",
      "[0, 2, 4, 6, 8]\n",
      "['AD', 'AE', 'AA', 'BD', 'BE', 'BA', 'CD', 'CE', 'CA']\n",
      "['AD', 'AE', 'BD', 'BE', 'BA', 'CD', 'CE', 'CA']\n"
     ]
    }
   ],
   "source": [
    "\n",
    "result = []\n",
    "\n",
    "result = [i for i in range(10)]\n",
    "print(result)\n",
    "\n",
    "\n",
    "result = []\n",
    "result = [i for i in range(10) if i % 2 == 0]\n",
    "print(result)\n",
    "\n",
    "\n",
    "\n",
    "c1 = [\"A\", \"B\", \"C\"]\n",
    "c2 = [\"D\", \"E\", \"A\"]\n",
    "\n",
    "result  = [i+v for i in c1 for v in c2]    #중첩 반복문\n",
    "print(result)\n",
    "\n",
    "\n",
    "result = [i+v for i in c1 for v in c2 if i != v ]\n",
    "print(result)\n",
    "\n"
   ]
  },
  {
   "cell_type": "code",
   "execution_count": 52,
   "id": "1f737a2d",
   "metadata": {},
   "outputs": [
    {
     "name": "stdout",
     "output_type": "stream",
     "text": [
      "[['AD', 'AE', 'AA'], ['BD', 'BE', 'BA'], ['CD', 'CE', 'CA']]\n"
     ]
    }
   ],
   "source": [
    "# 묶어서 [[\"AD\", \"AE\", \"AA\"], [   ]] \n",
    "\n",
    "\n",
    "c1 = [\"A\", \"B\", \"C\"]\n",
    "c2 = [\"D\", \"E\", \"A\"]\n",
    "\n",
    "result = []\n",
    "for row in c1:\n",
    "    line = []\n",
    "    for col in c2:\n",
    "        line.append(row + col)\n",
    "    result.append(line)\n",
    "print(result)\n"
   ]
  },
  {
   "cell_type": "code",
   "execution_count": 57,
   "id": "2751bcd1",
   "metadata": {},
   "outputs": [
    {
     "name": "stdout",
     "output_type": "stream",
     "text": [
      "['SOME', 'some', 4]\n",
      "['WHERE', 'where', 5]\n",
      "['OVER', 'over', 4]\n",
      "['THE', 'the', 3]\n",
      "['RAINBOW', 'rainbow', 7]\n",
      "['WAY', 'way', 3]\n",
      "['UP', 'up', 2]\n",
      "['HIGH', 'high', 4]\n"
     ]
    }
   ],
   "source": [
    "\"\"\"\n",
    "words = \"some where over the rainbow way up high\"\n",
    "\n",
    "['SOME', 'some', 4]\n",
    "['WHERE', 'where', 5]\n",
    "['OVER', 'over', 4]\n",
    "['THE', 'the', 3]\n",
    "['RAINBOW', 'rainbow', 7]\n",
    "['WAY', 'way', 3]\n",
    "['UP', 'up', 2]\n",
    "['HIGH', 'high', 4]\n",
    "\n",
    "\"\"\"\n",
    "\n",
    "words = \"some where over the rainbow way up high\"\n",
    "a = []\n",
    "\n",
    "a = words.split(\" \")\n",
    "\n",
    "for word in a:\n",
    "    result = [word.upper(), word, len(word)]            # 한 변수에 여러 값 : 자동으로 packing : tuple로!!! 따라서 배열은 따로 표시해줘야 함\n",
    "    print(result)"
   ]
  },
  {
   "cell_type": "markdown",
   "id": "f0d88ac0",
   "metadata": {},
   "source": [
    "### 4. 함수 복습"
   ]
  },
  {
   "cell_type": "code",
   "execution_count": 65,
   "id": "8b1bba6f",
   "metadata": {},
   "outputs": [
    {
     "name": "stdout",
     "output_type": "stream",
     "text": [
      "0 a1 b1 c1\n",
      "1 a2 b2 c2\n",
      "2 a3 b3 c3\n"
     ]
    }
   ],
   "source": [
    "\n",
    "\"\"\"\n",
    "0 a1 b1 c1\n",
    "1 a2 b2 c2\n",
    "2 a3 b3 c3\n",
    "\n",
    "\"\"\"\n",
    "\n",
    "a = [\"a1\", \"a2\", \"a3\"]\n",
    "b = [\"b1\", \"b2\", \"b3\"]\n",
    "c = [\"c1\", \"c2\", \"c3\"]\n",
    "\n",
    "\n",
    "for i, v in enumerate(zip(a, b, c)):\n",
    "    print(i, *v)"
   ]
  },
  {
   "cell_type": "code",
   "execution_count": 80,
   "id": "014d1e8d",
   "metadata": {},
   "outputs": [
    {
     "name": "stdout",
     "output_type": "stream",
     "text": [
      "2021-09-23\n",
      "2021 9 23\n",
      "2021-09-23 07:22:52.651371\n",
      "7시 22분\n",
      "어제 : 2021-09-22\n"
     ]
    }
   ],
   "source": [
    "import datetime\n",
    "\n",
    "#오늘 날짜\n",
    "\n",
    "today = datetime.date.today()\n",
    "print(today)\n",
    "print(today.year, today.month, today.day)\n",
    "\n",
    "\n",
    "#현재 시간\n",
    "time = datetime.datetime.today()\n",
    "print(time)\n",
    "print(str(time.hour)+\"시\", str(time.minute)+\"분\")\n",
    "\n",
    "\n",
    "mydays = datetime.timedelta(days = -1)        \n",
    "print(\"어제 : {}\".format(today + mydays))\n",
    "\n",
    "\n",
    "# 날짜를 문자열로: strftime(), 문자열을 날짜로: strptime()"
   ]
  },
  {
   "cell_type": "code",
   "execution_count": 98,
   "id": "da25ad1e",
   "metadata": {},
   "outputs": [
    {
     "name": "stdout",
     "output_type": "stream",
     "text": [
      "(1, 2, 3, 4)\n"
     ]
    }
   ],
   "source": [
    "# p.114\n",
    "\n",
    "#문제 8\n",
    "a = (1,2,3)\n",
    "a = a + (4,)     #새로운 tuple추가: 기존 튜플 + (추가할 숫자,)\n",
    "print(a)"
   ]
  },
  {
   "cell_type": "code",
   "execution_count": 104,
   "id": "d4caadc5",
   "metadata": {},
   "outputs": [
    {
     "name": "stdout",
     "output_type": "stream",
     "text": [
      "{'A': 90, 'C': 70}\n",
      "80\n",
      "[1, 2, 3, 4, 5]\n"
     ]
    }
   ],
   "source": [
    "# 10\n",
    "a = {'A':90,'B':80,'C':70}\n",
    "result = a.pop('B')\n",
    "print(a)\n",
    "print(result)\n",
    "\n",
    "#11\n",
    "a = [1,1,1,2,2,3,3,3,4,4,5]\n",
    "aSet = set(a)\n",
    "b = list(aSet)\n",
    "print(b)"
   ]
  },
  {
   "cell_type": "code",
   "execution_count": 112,
   "id": "e2c2450f",
   "metadata": {},
   "outputs": [
    {
     "name": "stdout",
     "output_type": "stream",
     "text": [
      "166833\n",
      "*\n",
      "**\n",
      "***\n",
      "****\n",
      "*****\n",
      "79.0\n",
      "[2, 6, 10]\n",
      "[2, 6, 10]\n"
     ]
    }
   ],
   "source": [
    "##3장 p.146\n",
    "\n",
    "#2\n",
    "result = 0\n",
    "i = 1\n",
    "while i <= 1000:\n",
    "    if i % 3 == 0:\n",
    "        result += i\n",
    "    i += 1\n",
    "print(result)\n",
    "\n",
    "#3\n",
    "i = 0\n",
    "while True:\n",
    "    i += 1\n",
    "    if i > 5:break\n",
    "    print(i * '*')\n",
    "    \n",
    "    \n",
    "#5\n",
    "A = [70,60,55,75,95,90,80,80,85,100]\n",
    "\n",
    "total = 0\n",
    "for score in A:\n",
    "    total += score\n",
    "average = total/len(A)\n",
    "print(average)\n",
    "\n",
    "\n",
    "#6\n",
    "numbers = [1,2,3,4,5]\n",
    "result = []\n",
    "for n in numbers:\n",
    "    if n%2 ==1:\n",
    "        result.append(n*2)\n",
    "print(result)    \n",
    "\n",
    "#-------------------------\n",
    "\n",
    "result = []\n",
    "numbers = [1,2,3,4,5]\n",
    "result = [n*2 for n in numbers if n%2 ==1]\n",
    "print(result)"
   ]
  },
  {
   "cell_type": "code",
   "execution_count": 119,
   "id": "07195be7",
   "metadata": {},
   "outputs": [
    {
     "name": "stdout",
     "output_type": "stream",
     "text": [
      "False\n",
      "1.5\n",
      "3.0\n",
      "첫번째 숫자 입력: 3\n",
      "두번째 숫자 입력: 6\n",
      "두 수의 합은 9이다\n"
     ]
    }
   ],
   "source": [
    "## 4장 p.179\n",
    "#1\n",
    "\n",
    "def is_odd(number):\n",
    "    if number % 2 == 1:\n",
    "        return True\n",
    "    else:\n",
    "        return False\n",
    "\n",
    "a = is_odd(10)\n",
    "print(a)\n",
    "\n",
    "\n",
    "\n",
    "#2\n",
    "def avg_numbers(*args):\n",
    "    result = 0\n",
    "    for i in args:\n",
    "        result += i\n",
    "    return result/len(args)\n",
    "\n",
    "print(avg_numbers(1,2))\n",
    "print(avg_numbers(1,2,3,4,5))\n",
    "\n",
    "\n",
    "\n",
    "#3\n",
    "input1 = int(input(\"첫번째 숫자 입력: \"))\n",
    "input2 = int(input(\"두번째 숫자 입력: \"))\n",
    "\n",
    "total = input1 + input2\n",
    "print(\"두 수의 합은 %d이다\" % total)\n"
   ]
  },
  {
   "cell_type": "code",
   "execution_count": 126,
   "id": "30330906",
   "metadata": {},
   "outputs": [
    {
     "name": "stdout",
     "output_type": "stream",
     "text": [
      "youneedpython\n",
      "you need python\n",
      "youneedpython\n"
     ]
    }
   ],
   "source": [
    "#4\n",
    "print(\"you\" \"need\" \"python\")  #되네\n",
    "print(\"you\",\"need\",\"python\")\n",
    "print(\"\".join([\"you\",\"need\",\"python\"]))\n",
    "\n",
    "\n",
    "#5   :open했으면 close해야 다음에 읽어올 수 있다.\n"
   ]
  },
  {
   "cell_type": "code",
   "execution_count": 130,
   "id": "d92e486e",
   "metadata": {},
   "outputs": [
    {
     "name": "stdout",
     "output_type": "stream",
     "text": [
      "숫자1:3\n",
      "숫자2:6\n",
      "숫자3:7\n",
      "숫자4:1\n",
      "숫자5:0\n",
      "짝수의 합:6\n",
      "홀수의 합:11\n"
     ]
    }
   ],
   "source": [
    "# Question 3 복습\n",
    "\n",
    "\"\"\"\n",
    "\n",
    "숫자를 입력받아 짝수의 합과 홀수의 합을 구하시오.(0을 입력하면 종료)\n",
    "\n",
    "숫자1: 2\n",
    "숫자2: 3\n",
    "숫자3: 1\n",
    "숫자4: 6\n",
    "숫자5: 0\n",
    "\n",
    "짝수의 합:?\n",
    "홀수의 합:?\n",
    "\n",
    "\"\"\"\n",
    "cnt = 0\n",
    "odd = 0\n",
    "even =0\n",
    "\n",
    "\n",
    "while True:\n",
    "    cnt += 1\n",
    "    num = int(input(\"숫자{}:\".format(cnt)))\n",
    "    if num % 2 == 0:\n",
    "        if num == 0:\n",
    "            break\n",
    "        even += num\n",
    "        \n",
    "    else:\n",
    "        odd += num\n",
    "    \n",
    "print(\"짝수의 합:{}\".format(even))\n",
    "print(\"홀수의 합:{}\".format(odd))\n",
    "\n",
    "\n"
   ]
  },
  {
   "cell_type": "code",
   "execution_count": 141,
   "id": "7db5dee0",
   "metadata": {},
   "outputs": [
    {
     "name": "stdout",
     "output_type": "stream",
     "text": [
      "정수 입력: 6\n",
      "0\n"
     ]
    }
   ],
   "source": [
    "\"\"\"\n",
    "정수 입력 : 3(엔터)\n",
    "결과 : 3의 팩터리얼은 6이다.\n",
    "\"\"\"\n",
    "\n",
    "num = int(input(\"정수 입력: \"))\n",
    "\n",
    "for i in range(num,0,-1):\n",
    "    i = i*(i-1)\n",
    "\n",
    "print(i)"
   ]
  },
  {
   "cell_type": "code",
   "execution_count": 148,
   "id": "f7671a57",
   "metadata": {},
   "outputs": [
    {
     "name": "stdout",
     "output_type": "stream",
     "text": [
      "정수 입력 : 5\n",
      "결과: 5의 팩터리얼은 120이다.\n"
     ]
    }
   ],
   "source": [
    "num = int(input(\"정수 입력 : \")) \n",
    "result = 1 \n",
    "for i in range(1, num+1): \n",
    "    result *= i \n",
    "print(\"결과: {}의 팩터리얼은 {}이다.\".format(num, result))\n"
   ]
  },
  {
   "cell_type": "code",
   "execution_count": 154,
   "id": "445bc0ca",
   "metadata": {},
   "outputs": [
    {
     "name": "stdout",
     "output_type": "stream",
     "text": [
      "지불할 금액: 3000\n",
      "커피 맛있게 드세요.\n",
      "남은 커피의 양은 2잔 입니다.\n",
      "\n",
      "지불할 금액: 4000\n",
      "거스름 돈은 1000원\n",
      "커피 맛있게 드세요.\n",
      "남은 커피의 양은 1잔 입니다.\n",
      "\n",
      "지불할 금액: 1000\n",
      "금액이 부족합니다.\n",
      "남은 커피의 양은 1잔 입니다.\n",
      "\n",
      "지불할 금액: 4500\n",
      "거스름 돈은 1500원\n",
      "커피 맛있게 드세요.\n",
      "남은 커피의 양은 0잔 입니다.\n",
      "\n",
      "\n",
      "커피가 없어요~~. 장사 끝!!!\n"
     ]
    }
   ],
   "source": [
    "\"\"\"\n",
    "print (\"여기는 커피 전문점입니다.\")\n",
    "print (\"커피는 아메리카노만 팔아요.\")\n",
    "print (\"가격은 3000원 입니다.\")\n",
    "print (\"오늘 커피 남은 양은 3잔입니다\")\n",
    "print (\"1회 주문시 1잔 씩만 판매합니다\")\n",
    "print (\"==\" * 10)\n",
    "\n",
    "# 여기서부터 코딩\n",
    "지불할 금액:1000 (엔터)\n",
    "금액이 부족합니다\n",
    "남은 커피의 양은 3잔입니다.\n",
    "\n",
    "지불할 금액:5000 (엔터)\n",
    "거스름 돈은2000원\n",
    "커피 맛있게 드세요.\n",
    "남은 커피의 양은 2잔입니다.\n",
    "\n",
    "지불할 금액:3000 (엔터)\n",
    "커피 맛있게 드세요.\n",
    "남은 커피의 양은 1잔입니다.\n",
    "\n",
    "지불할 금액:3000 (엔터)\n",
    "커피 맛있게 드세요.\n",
    "남은 커피의 양은 0잔입니다.\n",
    "\n",
    "커피가 없어요~~ .장사 끝!!!\n",
    "\n",
    "\n",
    "\"\"\"\n",
    "coffee = 3\n",
    "\n",
    "\n",
    "\n",
    "while coffee != 0:\n",
    "    cost = int(input(\"지불할 금액: \"))\n",
    "    \n",
    "    if cost < 3000:\n",
    "        print(\"금액이 부족합니다.\")\n",
    "        print(\"남은 커피의 양은 {}잔 입니다.\\n\".format(coffee))\n",
    "    \n",
    "    elif cost == 3000:\n",
    "        print(\"커피 맛있게 드세요.\")\n",
    "        coffee = coffee-1\n",
    "        print(\"남은 커피의 양은 {}잔 입니다.\\n\".format(coffee))\n",
    "        if coffee == 0:\n",
    "            print(\"커피가 없어요~~. 장사 끝!!!\")\n",
    "            break\n",
    "    \n",
    "    else:\n",
    "        print(\"거스름 돈은 {}원\".format(cost-3000))\n",
    "        print(\"커피 맛있게 드세요.\")\n",
    "        coffee = coffee-1\n",
    "        print(\"남은 커피의 양은 {}잔 입니다.\\n\".format(coffee))\n",
    "        if coffee == 0:\n",
    "            print(\"\\n커피가 없어요~~. 장사 끝!!!\")\n",
    "            break"
   ]
  },
  {
   "cell_type": "code",
   "execution_count": null,
   "id": "5714a39e",
   "metadata": {},
   "outputs": [],
   "source": []
  }
 ],
 "metadata": {
  "kernelspec": {
   "display_name": "Python 3",
   "language": "python",
   "name": "python3"
  },
  "language_info": {
   "codemirror_mode": {
    "name": "ipython",
    "version": 3
   },
   "file_extension": ".py",
   "mimetype": "text/x-python",
   "name": "python",
   "nbconvert_exporter": "python",
   "pygments_lexer": "ipython3",
   "version": "3.8.8"
  }
 },
 "nbformat": 4,
 "nbformat_minor": 5
}
