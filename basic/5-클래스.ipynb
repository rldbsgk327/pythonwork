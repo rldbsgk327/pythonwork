{
 "cells": [
  {
   "cell_type": "markdown",
   "id": "2e6d40bb",
   "metadata": {},
   "source": [
    "## 1. 특징\n",
    "\n",
    "+ 묶음(코드 블럭)\n",
    "    - 변수(멤버 변수, 속성, 필드), 함수(멤버 함수, 메서드)\n",
    "        - 클래스안 변수를 속성필드라 부르는 것은 밖에서 불러 쓸 수 있기 때문, 그냥 함수 안의 변수는 속성필드라 부르지 않음\n",
    "    - 여러 개의 함수를 묶어서 좀 더 큰 단위의 모듈로 관리\n",
    "    \n",
    "+ 설계도(추상적) <- 클래스\n",
    "    - 인스턴스(instance), 객체(object)  <- 클래스를 통해 만들어진 것들\n",
    "    \n",
    "+ 객체 지향 언어\n",
    "\n",
    "+ 사용자 정의 자료형\n",
    "\n",
    "+ 객체의 조건\n",
    "    - 상속성(Inheritance)\n",
    "    - 다형성(Polymorphism)\n",
    "    - 캡슐화(Encapsulation)"
   ]
  },
  {
   "cell_type": "markdown",
   "id": "ffbeb188",
   "metadata": {},
   "source": [
    "---\n",
    "## 2. 작성방법\n",
    "    class 이름:\n",
    "        변수\n",
    "        함수\n",
    "        \n",
    "     또는\n",
    "     \n",
    "     class 이름(...):\n",
    "         변수\n",
    "         함수"
   ]
  },
  {
   "cell_type": "code",
   "execution_count": 6,
   "id": "a82f329e",
   "metadata": {},
   "outputs": [
    {
     "name": "stdout",
     "output_type": "stream",
     "text": [
      "10\n",
      "Test 클래스\n",
      "<class 'int'>\n"
     ]
    }
   ],
   "source": [
    "##### 인스턴스(객체)의 생성 방법\n",
    "\n",
    "class Test:           #클래스 안에는 함수 1개 이상 무조건.\n",
    "    a = 10\n",
    "    def show(self):\n",
    "        return \"Test 클래스\"\n",
    "        \n",
    "        \n",
    "        \n",
    "############################################################\n",
    "# 클래스 안의 변수는 전역변수! \n",
    "\n",
    "\n",
    "\n",
    "ob = Test()         # 반드시 객체를 생성해야 클래스 사용 가능\n",
    "print(ob.a)         # 인스턴스, 객체 생성(!=  함수 호출),  Test.a (객체.변수) :   Test 주소에 가서 a를 꺼내옴   \n",
    "                    ## Test를 새로 호출하면 기존의 것은 가비지 되고 또 새로운 Test가 생성될 것 -> 변수(ob)에 저장해야.\n",
    "print(ob.show())    # show 뒤에도 ()붙히는 것 주의. 함수임. 호출안하면 show의 주소만 나온다.\n",
    "\n",
    "print(type(a))     # 기본 자료형도 class로 쓰였다. a도 class라 a. 의 형태로 쓸 수 있다."
   ]
  },
  {
   "cell_type": "code",
   "execution_count": 13,
   "id": "4e5c4ece",
   "metadata": {
    "scrolled": false
   },
   "outputs": [
    {
     "name": "stdout",
     "output_type": "stream",
     "text": [
      "국적:  한국\n",
      "이름:  홍길동\n",
      "나이:  35\n",
      "신장:  185.9\n",
      "취미:  ['운동하기', '그림 그리기']\n",
      "\n",
      "-----------------------------------------\n",
      "국적:  France\n",
      "이름:  한나\n",
      "나이:  24\n",
      "신장:  163\n",
      "취미:  ['DP보기', '음악듣기']\n",
      "\n",
      "-----------------------------------------\n",
      "국적:  Canada\n",
      "이름:  Lisa\n",
      "나이:  28\n",
      "신장:  170\n",
      "취미:  ['전시회가기', '맛집가기']\n",
      "\n",
      "-----------------------------------------\n",
      "-----------------------------------------------------------------\n",
      "국적:  한국\n",
      "이름:  홍길동\n",
      "나이:  35\n",
      "신장:  185.9\n",
      "취미:  ['운동하기', '그림 그리기']\n",
      "\n",
      "-----------------------------------------\n",
      "국적:  France\n",
      "이름:  한나\n",
      "나이:  24\n",
      "신장:  163\n",
      "취미:  ['DP보기', '음악듣기']\n",
      "\n",
      "-----------------------------------------\n",
      "국적:  Canada\n",
      "이름:  Lisa\n",
      "나이:  28\n",
      "신장:  170\n",
      "취미:  ['전시회가기', '맛집가기']\n",
      "\n",
      "-----------------------------------------\n"
     ]
    }
   ],
   "source": [
    "##### 사용자 정의 자료형   -> 이 경우 클래스의 대부분은 변수만 사용\n",
    "# 국적, 이름, 나이, 신장, 취미\n",
    "\n",
    "\n",
    "class Person:\n",
    "    nation = \"한국\"\n",
    "    name = str()\n",
    "    age = int()\n",
    "    height = float()\n",
    "    hobbies = []\n",
    "    \n",
    "    def show(self):\n",
    "        print(\"국적: \", self.nation)\n",
    "        print(\"이름: \", self.name)\n",
    "        print(\"나이: \", self.age)\n",
    "        print(\"신장: \", self.height)\n",
    "        print(\"취미: \", self.hobbies)\n",
    "        print(\"\\n-----------------------------------------\")\n",
    "        \n",
    "        \n",
    "        \n",
    "#####################################################################\n",
    "\n",
    "p1 = Person()\n",
    "p2 = Person()\n",
    "p3 = Person()\n",
    "\n",
    "\n",
    "p1.name = \"홍길동\"             # . 있으면 무조건 객체\n",
    "p1.age = 35\n",
    "p1.height = 185.9\n",
    "p1.hobbies = [\"운동하기\", \"그림 그리기\"]\n",
    "\n",
    "p2.nation = \"France\"\n",
    "p2.name = \"한나\"             # . 있으면 무조건 객체\n",
    "p2.age = 24\n",
    "p2.height = 163\n",
    "p2.hobbies = [\"DP보기\", \"음악듣기\"]\n",
    "\n",
    "\n",
    "p3.nation = \"Canada\"\n",
    "p3.name = \"Lisa\"             # . 있으면 무조건 객체\n",
    "p3.age = 28\n",
    "p3.height = 170\n",
    "p3.hobbies = [\"전시회가기\", \"맛집가기\"]\n",
    "\n",
    "\n",
    "################################################\n",
    "\n",
    "\n",
    "p1.show()\n",
    "p2.show()\n",
    "p3.show()\n",
    "\n",
    "print(\"-----------------------------------------------------------------\")\n",
    "\n",
    "\n",
    "data = [p1, p2, p3]\n",
    "\n",
    "for i in range(len(data)):\n",
    "    data[i].show()             #data[i].show\n",
    "\n"
   ]
  },
  {
   "cell_type": "markdown",
   "id": "cbf0432b",
   "metadata": {},
   "source": [
    "---\n",
    "\n",
    "## (1) self\n",
    "\n",
    "+ 현재 사용중인 객체의 주소를 저장하고 있는 참조변수\n",
    "+ read only"
   ]
  },
  {
   "cell_type": "code",
   "execution_count": 27,
   "id": "89787239",
   "metadata": {},
   "outputs": [],
   "source": [
    "class Test:\n",
    "    a = int()\n",
    "    b = float()\n",
    "    c = str()\n",
    "    \n",
    "    def show(self):            #클래스 안의 함수에는 항상 매개변수 있어야 함\n",
    "        print(self.a, self.b, self.c)\n",
    "        print(\"현재 주소: \", id(self))\n",
    "        \n",
    "    def setValue(self, a, b, c):       #일일히 값을 변수대입 안해도 된다.\n",
    "        # 검증 또는 방어코드\n",
    "        self.a = a\n",
    "        self.b = b\n",
    "        self.c = c"
   ]
  },
  {
   "cell_type": "code",
   "execution_count": 30,
   "id": "d9ef2040",
   "metadata": {},
   "outputs": [
    {
     "name": "stdout",
     "output_type": "stream",
     "text": [
      "10 3.14 알랄라\n",
      "현재 주소:  3046233877856\n",
      "78 2.111 파사삭\n",
      "현재 주소:  3046233877088\n",
      "10 5.05 오호라\n",
      "현재 주소:  3046233876848\n"
     ]
    }
   ],
   "source": [
    "t1 = Test()\n",
    "t2 = Test()\n",
    "\n",
    "\n",
    "t1.a = 10\n",
    "t1.b = 3.14\n",
    "t1.c = \"알랄라\"\n",
    "t1.show()         #t1이 가르키는 주소가 ()안에 파라미터로 있다.\n",
    "\n",
    "\n",
    "t2.a = 78\n",
    "t2.b = 2.111\n",
    "t2.c = \"파사삭\"\n",
    "t2.show()\n",
    "\n",
    "\n",
    "t3 = Test()\n",
    "t3.setValue(10, 5.05, \"오호라\")        #일일히 변수대입 할 필요 X\n",
    "t3.show()"
   ]
  },
  {
   "cell_type": "markdown",
   "id": "0918a1c8",
   "metadata": {},
   "source": [
    "---\n",
    "### (2) 생성자(Constructor)와 소멸자(Deconstructor)\n",
    "\n",
    "+ 메서드\n",
    "+ 객체(인스턴스)를 생성하는 용도\n",
    "+ 생성자의 경우 객체를 처음 만들때 호출된다.(단 한번만 호출: 한 위치엔 하나만)\n",
    "+ 참고: 객체는 첫글자 -> 대문자로 /  함수는 첫글자 -> 소문자로 만들기\n",
    "+ 초기화"
   ]
  },
  {
   "cell_type": "code",
   "execution_count": 63,
   "id": "4575ba23",
   "metadata": {},
   "outputs": [],
   "source": [
    "class Test:\n",
    "    a = int()\n",
    "    b = str()\n",
    "    \n",
    "    \"\"\"\n",
    "    def __init__(self):   #밑에서 객체(t1)생성 시마다 이것이 실행되고 있었음 \n",
    "        print(\"생성자 호출됨. 객체 생성 시 내부적으로 생긴다\")\n",
    "        self.a = 5             #초기화\n",
    "        self.b = \"제니씨\"\n",
    "        \n",
    "    \"\"\"\n",
    "   \n",
    "    def __init__(self, a=0, b=\"_\"):   #불필요한 파라미터 없애기 위해 초깃값 설정\n",
    "        self.a = a\n",
    "        self.b = b\n",
    "        \n",
    "        \n",
    "    def __del__(self):\n",
    "        print(\"소멸자 호출\")\n",
    "        \n",
    "    \n",
    "    def setValue(self, a, b):\n",
    "        self.a = a\n",
    "        self.b = b"
   ]
  },
  {
   "cell_type": "code",
   "execution_count": 64,
   "id": "fa6d007d",
   "metadata": {},
   "outputs": [
    {
     "name": "stdout",
     "output_type": "stream",
     "text": [
      "50 점프!\n",
      "---------------------------------------\n",
      "202 뛰어라~\n",
      "---------------------------------------\n",
      "0 _\n",
      "---------------------------------------\n",
      "40 고길동\n"
     ]
    }
   ],
   "source": [
    "t1 = Test()                 #객체생성 : 메모리에 공간생성 : __init__ 호출\n",
    "t1.setValue(50, \"점프!\")\n",
    "print(t1.a, t1.b)\n",
    "\n",
    "print(\"---------------------------------------\")\n",
    "\n",
    "t2 = Test()                 #객체생성 : 메모리에 공간생성\n",
    "t2.setValue(202, \"뛰어라~\")\n",
    "print(t2.a, t2.b)\n",
    "\n",
    "print(\"---------------------------------------\")\n",
    "\n",
    "t3 = Test()\n",
    "print(t3.a, t3.b)     #생성자(__init__)에 초기화된 기본값(default)이 호출\n",
    "\n",
    "print(\"---------------------------------------\")\n",
    "\n",
    "t4 = Test(40, \"고길동\")\n",
    "print(t4.a, t4.b)"
   ]
  },
  {
   "cell_type": "code",
   "execution_count": 65,
   "id": "a5e193a1",
   "metadata": {},
   "outputs": [
    {
     "name": "stdout",
     "output_type": "stream",
     "text": [
      "소멸자 호출\n"
     ]
    }
   ],
   "source": [
    "del t4"
   ]
  },
  {
   "cell_type": "markdown",
   "id": "feda6288",
   "metadata": {},
   "source": [
    "___\n",
    "### (3) static\n",
    "\n",
    "+ 인스턴스와 구별\n",
    "+ 동일한 공간을 모든 객체들이 공동으로 사용\n",
    "+ 참고: 변수, 함수를 static으로 쓸 수 있다. \n",
    "+ 정적(클래스)변수, 정적(클래스)메서드"
   ]
  },
  {
   "cell_type": "code",
   "execution_count": 82,
   "id": "02735182",
   "metadata": {},
   "outputs": [],
   "source": [
    "# company = \"~~\"  :전역변수. 소속이 없다는 점에서 static의 company와 다르다.\n",
    "\n",
    "\n",
    "class Person:             #클래스 생성만으로 하나의 static 공간 생긴다.\n",
    "    nation = \"한국\"\n",
    "    name = str()\n",
    "    age = int()\n",
    "    height = float()\n",
    "    hobbies = []\n",
    "    company = str()\n",
    "    \n",
    "    \n",
    "    def show(self):\n",
    "        print(\"국적: \", self.nation)\n",
    "        print(\"이름: \", self.name)\n",
    "        print(\"나이: \", self.age)\n",
    "        print(\"신장: \", self.height)\n",
    "        print(\"취미: \", self.hobbies)\n",
    "        print(\"회사명: \", Person.company)  # static: 객체가 많이 생성돼도 company는 1개만 존재 \n",
    "        print(\"\\n-----------------------------------------\")\n",
    "        \n",
    "        \n",
    "    @staticmethod          # 데코레이션, static함수 명시\n",
    "    def funcCompany():    # static(정적 함수): 유일한 1개 이므로  self 등 매개변수 넣어놓지 않아도 o  ***\n",
    "        Person.company = \"라라의 주식회사\"\n",
    "        return \"회사명: \"+ Person.company"
   ]
  },
  {
   "cell_type": "code",
   "execution_count": 78,
   "id": "2fd31c68",
   "metadata": {},
   "outputs": [
    {
     "name": "stdout",
     "output_type": "stream",
     "text": [
      "한국\n",
      "-----------------------------------------\n",
      "한국 한국\n",
      "-----------------------------------------\n",
      "독일 프랑스\n",
      "한국\n"
     ]
    }
   ],
   "source": [
    "print(Person.nation)   # 클래스이름. ~  ==>  static: 모두가 사용 가능한, 공동작업 공간\n",
    "\n",
    "print(\"-----------------------------------------\")\n",
    "\n",
    "p1 = Person()\n",
    "p2 = Person()\n",
    "\n",
    "print(p1.nation, p2.nation)     #인스턴스주소.~  : 본인만 사용 가능한 공간\n",
    "\n",
    "\n",
    "print(\"-----------------------------------------\")\n",
    "\n",
    "\n",
    "p1.nation = \"독일\"        #데이터 변경\n",
    "p2.nation = \"프랑스\"\n",
    "print(p1.nation, p2.nation)     # 본인만의 공간이므로 변경되었음\n",
    "print(Person.nation)            # 모두의 공간 static이므로 영향없음"
   ]
  },
  {
   "cell_type": "code",
   "execution_count": 86,
   "id": "581020f5",
   "metadata": {},
   "outputs": [
    {
     "name": "stdout",
     "output_type": "stream",
     "text": [
      "python 주식회사\n",
      "python 주식회사\n",
      "python 주식회사\n",
      "-----------------------------------------\n"
     ]
    }
   ],
   "source": [
    "Person.company = \"python 주식회사\"\n",
    "print(p1.company)   #본인만의 인스턴스 값.  현재 없고, static값으로 지정해놓았다.\n",
    "print(p2.company)\n",
    "#p1.show()\n",
    "print(Person.company)\n",
    "\n",
    "print(\"-----------------------------------------\")\n"
   ]
  },
  {
   "cell_type": "code",
   "execution_count": 85,
   "id": "fb12420e",
   "metadata": {},
   "outputs": [
    {
     "data": {
      "text/plain": [
       "'회사명: 라라의 주식회사'"
      ]
     },
     "execution_count": 85,
     "metadata": {},
     "output_type": "execute_result"
    }
   ],
   "source": [
    "Person.funcCompany()    # static함수는 반드시 클래스 이름. ~ 으로 호출해야 함"
   ]
  },
  {
   "cell_type": "code",
   "execution_count": 130,
   "id": "e7fa200b",
   "metadata": {},
   "outputs": [],
   "source": [
    "#### 객체의 수를 카운팅\n",
    "\n",
    "class Counter:\n",
    "    m_cnt = 0\n",
    "    \n",
    "   \n",
    "    def __init__(self):\n",
    "        Counter.m_cnt += 1\n",
    "        \n",
    "    @staticmethod    \n",
    "    def printCount():\n",
    "        print(\"총 객체의 수: \", Counter.m_cnt)"
   ]
  },
  {
   "cell_type": "code",
   "execution_count": 131,
   "id": "31ebddc7",
   "metadata": {},
   "outputs": [
    {
     "name": "stdout",
     "output_type": "stream",
     "text": [
      "총 객체의 수:  3\n",
      "총 객체의 수:  3\n"
     ]
    }
   ],
   "source": [
    "a,b,c = Counter(), Counter(), Counter()\n",
    "\n",
    "a.printCount()\n",
    "Counter.printCount()\n"
   ]
  },
  {
   "cell_type": "code",
   "execution_count": 176,
   "id": "b476953c",
   "metadata": {},
   "outputs": [
    {
     "name": "stdout",
     "output_type": "stream",
     "text": [
      "결과:\n",
      "\t사번:  1111\n",
      "\t이름:  홍길동\n",
      "\t급여:  1000000\n",
      "\t취미:  여행 낚시 운동\n",
      "\n",
      "인원수 :  3\n",
      "\n",
      "결과:\n",
      "\t사번:  1113\n",
      "\t이름:  신돌석\n",
      "\t급여:  2500000\n",
      "\t취미:  독서 피아노 드론\n"
     ]
    }
   ],
   "source": [
    "\"\"\"\n",
    "\n",
    "e1 = Employee(1111, \"홍길동\", 1000000, [\"여행\", \"낚시\", \"운동\"])\n",
    "e1.display()\n",
    "\n",
    "결과 :\n",
    "    사번 : 1111\n",
    "    이름 : 홍길동\n",
    "    급여 : 1000000\n",
    "    취미 : 여행, 낚시, 운동\n",
    "    \n",
    "e2 = Employee(1112, \"임꺽정\", 1200000, [\"자전거\", \"볼링\"])\n",
    "e3 = Employee(1113, \"신돌석\", 1400000, [\"독서\"])\n",
    "\n",
    "total = Employee.getCount()\n",
    "print(\"인원수 : \", total)\n",
    "---------------------------------------------\n",
    "# 데이터 수정\n",
    "e3.setSalary(2000000)\n",
    "e3.appendHobby(\"피아노\", \"드론\")\n",
    "e3.display()\n",
    "\n",
    "결과 :\n",
    "    사번 : 1113\n",
    "    이름 : 신돌석\n",
    "    급여 : 2000000\n",
    "    취미 : 독서, 피아노, 드론\n",
    "\"\"\"\n",
    "\n",
    "class Employee:\n",
    "    num = int()\n",
    "    name = str()\n",
    "    salary = int()\n",
    "    hobby = []\n",
    "    cnt = 0\n",
    "    \n",
    "    def __init__(self, num, name, salary, hobby):\n",
    "        self.num = num\n",
    "        self.name = name\n",
    "        self.salary = salary\n",
    "        self.hobby = hobby\n",
    "        Employee.cnt += 1\n",
    "        \n",
    "    def display(self):\n",
    "        print(\"결과:\")\n",
    "        print(\"\\t사번: \", self.num)\n",
    "        print(\"\\t이름: \", self.name)\n",
    "        print(\"\\t급여: \", self.salary)\n",
    "        print(\"\\t취미: \", *self.hobby)\n",
    "        \n",
    "    @staticmethod\n",
    "    def getCount():\n",
    "        return Employee.cnt\n",
    "\n",
    "    \n",
    "    def setSalary(self, salary):\n",
    "        self.salary = salary\n",
    "        \n",
    "        \n",
    "    def appendHobby(self, *hobby):\n",
    "        self.hobby.extend(*hobby)\n",
    "        \n",
    "\n",
    "\n",
    "\n",
    "\n",
    "e1 = Employee(1111, \"홍길동\", 1000000, [\"여행\", \"낚시\", \"운동\"])\n",
    "e1.display()\n",
    "\n",
    "e2 = Employee(1112, \"임꺽정\", 1200000, [\"자전거\", \"볼링\"])\n",
    "e3 = Employee(1113, \"신돌석\", 1400000, [\"독서\"])\n",
    "\n",
    "\n",
    "print(\"\")\n",
    "\n",
    "total = Employee.getCount()\n",
    "print(\"인원수 : \", total)\n",
    "\n",
    "print(\"\")\n",
    "\n",
    "e3.setSalary(2500000)\n",
    "e3.appendHobby([\"피아노\", \"드론\"])\n",
    "e3.display()\n",
    "\n"
   ]
  },
  {
   "cell_type": "markdown",
   "id": "54d73a44",
   "metadata": {},
   "source": [
    "### (4) 원래 설계된 멤버변수외에 객체별로 멤버변수를 추가할 수 있다."
   ]
  },
  {
   "cell_type": "code",
   "execution_count": 1,
   "id": "c9d39e97",
   "metadata": {},
   "outputs": [],
   "source": [
    "class Test:\n",
    "    a = 0\n",
    "    \n",
    "    def display(self):\n",
    "        print(self.a)"
   ]
  },
  {
   "cell_type": "code",
   "execution_count": 7,
   "id": "4698ed7d",
   "metadata": {},
   "outputs": [
    {
     "name": "stdout",
     "output_type": "stream",
     "text": [
      "0\n",
      "0\n",
      "10 100\n",
      "10\n"
     ]
    }
   ],
   "source": [
    "ob1 = Test()\n",
    "ob1.display()\n",
    "\n",
    "ob2 = Test()\n",
    "ob2.display()\n",
    "\n",
    "ob2.a = 10         # 이 객체가 실행될 때 '임시로' 변수가 추가된다.\n",
    "ob2.b = 100\n",
    "print(ob2.a, ob2.b)\n",
    "\n",
    "ob2.display()"
   ]
  },
  {
   "cell_type": "markdown",
   "id": "afede558",
   "metadata": {},
   "source": [
    "---\n",
    "### (5) _ 와 __\n",
    "\n",
    "+ 기본 인터프리터(파이썬툴)에서 사용(마지막으로 사용한 값을 저장하고 불러오기): _\n",
    "+ 값을 무시: _\n",
    "+ 접근 권한: _, __"
   ]
  },
  {
   "cell_type": "code",
   "execution_count": 16,
   "id": "4ef31a35",
   "metadata": {},
   "outputs": [
    {
     "name": "stdout",
     "output_type": "stream",
     "text": [
      "20 30\n",
      "10\n"
     ]
    }
   ],
   "source": [
    "_, b, c= (10, 20, 30)\n",
    "a, _, c = (10, 20, 30)\n",
    "\n",
    "print(b, c)\n",
    "print(a)"
   ]
  },
  {
   "cell_type": "code",
   "execution_count": 17,
   "id": "4fa7a4fd",
   "metadata": {},
   "outputs": [
    {
     "name": "stdout",
     "output_type": "stream",
     "text": [
      "10 60\n"
     ]
    }
   ],
   "source": [
    "a, *_, b = (10, 20, 30, 40, 50, 60)   #첫, 마지막 데이터만 가져오고 중간은 스킵\n",
    "\n",
    "print(a, b)"
   ]
  },
  {
   "cell_type": "code",
   "execution_count": 35,
   "id": "7ab18999",
   "metadata": {},
   "outputs": [],
   "source": [
    "class Test:\n",
    "    str1 = \"안녕하세요!\"\n",
    "    _str2 = \"사실 나는 홍길동입니다.\"    #외부에서 접근하지 말라는 의사표현\n",
    "    __str3 = \"이것은 건드리지 마세요.\"   #보다 강력한 저지\n",
    "\n",
    "    def __funcTest(self):\n",
    "        print(\"funcTest입니다.\", self.str1)\n",
    "    \n",
    "    def setStr3(self, a):   #__변수에게 접근하는 함수를 통해 대신 접근한다.(변경)\n",
    "        self.__str3 = a\n",
    "        \n",
    "    def getStr3(self):     #__변수에게 접근하는 함수를 통해 대신 접근한다.(출력)\n",
    "        return self.__str3"
   ]
  },
  {
   "cell_type": "code",
   "execution_count": 36,
   "id": "8d3739e2",
   "metadata": {},
   "outputs": [
    {
     "name": "stdout",
     "output_type": "stream",
     "text": [
      "안녕하세요!\n",
      "사실 나는 홍길동입니다.\n",
      "임꺽정입니다.\n",
      "이것은 건드리지 마세요.\n",
      "funcTest입니다. 안녕하세요!\n",
      "수정하였음..\n"
     ]
    }
   ],
   "source": [
    "ob1 = Test()\n",
    "print(ob1.str1)\n",
    "print(ob1._str2)    #가져다 쓸수는 있지만 책임 못짐. 안쓰는게 좋다.\n",
    "ob1._str2 = \"임꺽정입니다.\"   # 수정도 가능\n",
    "print(ob1._str2)\n",
    "\n",
    "#print(ob1.__str3)\n",
    "print(ob1._Test__str3)\n",
    "\n",
    "#print(dir(ob1))\n",
    "\n",
    "ob1._Test__funcTest()  #좋지 않음\n",
    "\n",
    "ob1.setStr3(\"수정하였음..\")\n",
    "print(ob1.getStr3())"
   ]
  },
  {
   "cell_type": "markdown",
   "id": "77071901",
   "metadata": {},
   "source": [
    "---\n",
    "## 3. 상속(Inheritance)  \n",
    "+ 부모(super), 자식(sub) 클래스\n",
    "    - 부모 클래스는 최소한의 코드로 작성(모든 자식들이 공통적으로 필요로 하는것들)\n",
    "    - 상속받는 자식 클래스는 반드시 기능을 추가(확장)시켜야 한다.\n",
    "    - 중복된 기능이 있어서는 안된다.\n",
    "    \n",
    "+ override(재 정의: 물려받은 걸 고쳐쓴다.)  => 표준화 !\n",
    "+ overload(중복정의: 똑같은 이름의 함수를 여러 개 만든다. 상속과는 크게 관련없고 파이썬에서는 X. 다른 기능을 같은 이름으로..=> 다형성)"
   ]
  },
  {
   "cell_type": "code",
   "execution_count": 37,
   "id": "6b78f5b0",
   "metadata": {},
   "outputs": [],
   "source": [
    "class Animal:\n",
    "    def move(self):\n",
    "        print(\"움직인다.\")\n",
    "        \n",
    "class Dog(Animal):     #상속받\n",
    "    def bark(self):\n",
    "        print(\"멍멍~\")\n",
    "    \n",
    "class Horse(Animal):\n",
    "    def speed(self, s):\n",
    "        print(\"현재 속도는\", s)"
   ]
  },
  {
   "cell_type": "code",
   "execution_count": 39,
   "id": "ddb8988f",
   "metadata": {},
   "outputs": [
    {
     "name": "stdout",
     "output_type": "stream",
     "text": [
      "멍멍~\n",
      "움직인다.\n"
     ]
    }
   ],
   "source": [
    "d1 = Dog()\n",
    "d1.bark()\n",
    "d1.move()     # 상속받았으므로 Animal의 함수 사용 가능"
   ]
  },
  {
   "cell_type": "code",
   "execution_count": 63,
   "id": "6c50874f",
   "metadata": {},
   "outputs": [],
   "source": [
    "#전자계산기\n",
    "\n",
    "class Calculator:\n",
    "    first = 0\n",
    "    second = 0\n",
    "    \n",
    "    def __init__(self, first=None, second=None):\n",
    "        self.first = first\n",
    "        self.second = second\n",
    "        \n",
    "    def setData(self, first=None, second=None):\n",
    "        self.first = first\n",
    "        self.second = second\n",
    "        \n",
    "    def sum(self):\n",
    "        return self.first + self.second\n",
    "    \n",
    "    def sub(self):\n",
    "        return self.first - self.second\n",
    "\n",
    "    def mul(self):\n",
    "        return self.first * self.second\n",
    "    \n",
    "    def div(self):\n",
    "        return self.first / self.second\n",
    "       \n",
    "\n",
    "class Calculator2(Calculator):          #상속! Calculator는 더이상 직접쓰이진 않고 상속해주는 역할 할 것\n",
    "    \n",
    "    def pow(self):\n",
    "        return self.first ** self.second  #거듭제곱\n",
    "    \n",
    "    \n",
    "    \n",
    "    "
   ]
  },
  {
   "cell_type": "code",
   "execution_count": 67,
   "id": "3f90ad13",
   "metadata": {},
   "outputs": [
    {
     "name": "stdout",
     "output_type": "stream",
     "text": [
      "15\n",
      "5\n",
      "50\n",
      "2.0\n",
      "-------------------------------------------\n",
      "10\n",
      "6\n",
      "16\n",
      "4.0\n",
      "-------------------------------------------\n",
      "32\n",
      "7\n",
      "0.4\n",
      "-------------------------------------------\n",
      "16\n"
     ]
    }
   ],
   "source": [
    "c1 = Calculator(10,5)   #처음부터 __init__ 에 값 전달해서 setData 안쓰고도 가능\n",
    "\n",
    "print(c1.sum())\n",
    "print(c1.sub())\n",
    "print(c1.mul())\n",
    "print(c1.div())\n",
    "\n",
    "print(\"-------------------------------------------\")\n",
    "\n",
    "c2 = Calculator()\n",
    "c2.setData(8, 2)    # 객체 생성(윗줄)부터 인자 전달하지 않고() setData에서 해도 가능\n",
    "\n",
    "print(c2.sum())\n",
    "print(c2.sub())\n",
    "print(c2.mul())\n",
    "print(c2.div())\n",
    "\n",
    "print(\"-------------------------------------------\")\n",
    "\n",
    "c3 = Calculator2(2, 5)\n",
    "\n",
    "print(c3.pow())\n",
    "print(c3.sum())\n",
    "print(c3.div())\n",
    "\n",
    "print(\"-------------------------------------------\")\n",
    "\n",
    "c4 = Calculator2()\n",
    "c4.setData(4, 2)\n",
    "\n",
    "print(c4.pow())\n"
   ]
  },
  {
   "cell_type": "code",
   "execution_count": null,
   "id": "54d7f0db",
   "metadata": {},
   "outputs": [],
   "source": [
    "class Phone:\n",
    "    def call(self):\n",
    "        print(\"전화 걸기\")\n",
    "        \n",
    "class FolderPhone(Phone):\n",
    "    def call(self):    # 오버라이딩: 부모의 모양과 똑같이 선언 후, 내용만 변경해야 함\n",
    "        print(\"전화걸기 + 게임\")\n",
    "        \n",
    "\n",
    "class CameraPhone(Phone):\n",
    "    def call(self):\n",
    "        print(\"전화걸기+ 카메라로 사진찍기\")\n",
    "\n",
    "class SmartPhone(Phone):\n",
    "    def call(self):\n",
    "        print(\"전화걸기+ 카메라로 사진찍기+ 인터넷 기능\")"
   ]
  },
  {
   "cell_type": "code",
   "execution_count": 73,
   "id": "9741fba7",
   "metadata": {},
   "outputs": [],
   "source": [
    "### super()\n",
    "\n",
    "class Person:\n",
    "    say = \"난 사람이다.\"\n",
    "    age = 20\n",
    "    \n",
    "    def info(self):\n",
    "        print(\"나이: {}, 하고 싶은 말: {}\".format(self.age, self.say))\n",
    "        \n",
    "    def __init__(self):\n",
    "        print(\"Person 클래스\")\n",
    "        \n",
    "class Employee(Person):\n",
    "    def __init__(self):\n",
    "        print(\"Employee 클래스\")\n",
    "        \n",
    "    say = \"난 회사원이다.\"      #변수 오버라이딩\n",
    "    \n",
    "    def info(self):\n",
    "        print(self.say)\n",
    "        print(self.age)\n",
    "        print(super().say)"
   ]
  },
  {
   "cell_type": "code",
   "execution_count": 74,
   "id": "f5de3909",
   "metadata": {},
   "outputs": [
    {
     "name": "stdout",
     "output_type": "stream",
     "text": [
      "Employee 클래스\n",
      "난 회사원이다.\n",
      "20\n",
      "난 사람이다.\n"
     ]
    }
   ],
   "source": [
    "e1 = Employee()\n",
    "e1.info()"
   ]
  },
  {
   "cell_type": "markdown",
   "id": "ec7a1579",
   "metadata": {},
   "source": [
    "___\n",
    "### 4. 다중 상속\n"
   ]
  },
  {
   "cell_type": "code",
   "execution_count": 75,
   "id": "f361fdde",
   "metadata": {},
   "outputs": [],
   "source": [
    "class Phone:\n",
    "    def call(self):\n",
    "        print(\"전화걸기\")\n",
    "        \n",
    "class Camera:\n",
    "    def picture(self):\n",
    "        print(\"사진찍기\")\n",
    "        \n",
    "class Game:\n",
    "    def rendering(self):\n",
    "        print(\"화면그리기\")\n",
    "        \n",
    "class SmartPhone(Phone, Camera):\n",
    "    pass"
   ]
  },
  {
   "cell_type": "code",
   "execution_count": 76,
   "id": "b8b4c8ee",
   "metadata": {},
   "outputs": [
    {
     "name": "stdout",
     "output_type": "stream",
     "text": [
      "전화걸기\n",
      "사진찍기\n"
     ]
    }
   ],
   "source": [
    "sp = SmartPhone()\n",
    "sp.call()\n",
    "sp.picture()"
   ]
  },
  {
   "cell_type": "markdown",
   "id": "4d68fd17",
   "metadata": {},
   "source": [
    "___\n",
    "\n",
    "### 5. object\n",
    "\n",
    "+ 파이썬 클래스들 중에서 가장 상위 클래스"
   ]
  },
  {
   "cell_type": "code",
   "execution_count": 77,
   "id": "73ed2dfc",
   "metadata": {},
   "outputs": [
    {
     "name": "stdout",
     "output_type": "stream",
     "text": [
      "['__class__', '__delattr__', '__dir__', '__doc__', '__eq__', '__format__', '__ge__', '__getattribute__', '__gt__', '__hash__', '__init__', '__init_subclass__', '__le__', '__lt__', '__ne__', '__new__', '__reduce__', '__reduce_ex__', '__repr__', '__setattr__', '__sizeof__', '__str__', '__subclasshook__']\n"
     ]
    }
   ],
   "source": [
    "print(dir(object))"
   ]
  },
  {
   "cell_type": "code",
   "execution_count": 78,
   "id": "f7efc50f",
   "metadata": {},
   "outputs": [],
   "source": [
    "class Test:\n",
    "    a = 10"
   ]
  },
  {
   "cell_type": "code",
   "execution_count": 79,
   "id": "03881ffb",
   "metadata": {},
   "outputs": [
    {
     "name": "stdout",
     "output_type": "stream",
     "text": [
      "['__class__', '__delattr__', '__dict__', '__dir__', '__doc__', '__eq__', '__format__', '__ge__', '__getattribute__', '__gt__', '__hash__', '__init__', '__init_subclass__', '__le__', '__lt__', '__module__', '__ne__', '__new__', '__reduce__', '__reduce_ex__', '__repr__', '__setattr__', '__sizeof__', '__str__', '__subclasshook__', '__weakref__', 'a']\n"
     ]
    }
   ],
   "source": [
    "print(dir(Test))"
   ]
  },
  {
   "cell_type": "markdown",
   "id": "577e67bd",
   "metadata": {},
   "source": [
    "___\n",
    "### 3. 고급함수"
   ]
  },
  {
   "cell_type": "markdown",
   "id": "497323c9",
   "metadata": {},
   "source": [
    "#### (1)변수의 생존 범위: global, nonlocal"
   ]
  },
  {
   "cell_type": "code",
   "execution_count": 85,
   "id": "42bcae0c",
   "metadata": {},
   "outputs": [
    {
     "name": "stdout",
     "output_type": "stream",
     "text": [
      "지역 대표\n"
     ]
    }
   ],
   "source": [
    "player = \"전국대표\"\n",
    "\n",
    "def funcSoccer():\n",
    "    global player\n",
    "    name = \"홍길동\"\n",
    "    player= \"지역 대표\"\n",
    "    \n",
    "##########################################\n",
    "\n",
    "print(player)\n",
    "funcSoccer()  #이 함수를 실행해야 지역대표로 나온다.\n",
    "print(player)"
   ]
  },
  {
   "cell_type": "code",
   "execution_count": 111,
   "id": "fc7ae000",
   "metadata": {},
   "outputs": [
    {
     "name": "stdout",
     "output_type": "stream",
     "text": [
      "100\n",
      "kbs2 함수 내부:  2\n",
      "kbs1함수 내부:  1\n",
      "2\n"
     ]
    }
   ],
   "source": [
    "a = 100\n",
    "\n",
    "def kbs1():\n",
    "    a = 1\n",
    "    \n",
    "    def kbs2():\n",
    "        global a\n",
    "        a = 2\n",
    "        print(\"kbs2 함수 내부: \", a)\n",
    "        \n",
    "    kbs2()   #kbs1 안에서 호출해야 kbs2 가능\n",
    "    print(\"kbs1함수 내부: \", a)\n",
    "\n",
    "##########################################\n",
    "\n",
    "print(a)\n",
    "kbs1()      #kbs2도 실행되어 global a 가 실행. -> kbs2의 a 가 출력된다.\n",
    "print(a)"
   ]
  },
  {
   "cell_type": "code",
   "execution_count": 102,
   "id": "b80c8f4e",
   "metadata": {},
   "outputs": [
    {
     "name": "stdout",
     "output_type": "stream",
     "text": [
      "100\n",
      "kbs2 함수 내부:  2\n",
      "kbs1함수 내부:  2\n",
      "100\n"
     ]
    }
   ],
   "source": [
    "a = 100\n",
    "\n",
    "def kbs1():\n",
    "    a = 1\n",
    "    \n",
    "    def kbs2():\n",
    "        nonlocal a      #'밖에 있는' 지역변수를 가져다 쓸 때 **\n",
    "        a = 2\n",
    "        print(\"kbs2 함수 내부: \", a)\n",
    "        \n",
    "    kbs2()   #kbs1 안에서 호출해야 kbs2 가능\n",
    "    print(\"kbs1함수 내부: \", a)\n",
    "\n",
    "    \n",
    "####################################\n",
    "print(a)\n",
    "kbs1()\n",
    "print(a)"
   ]
  },
  {
   "cell_type": "markdown",
   "id": "ae1d7003",
   "metadata": {},
   "source": [
    "#### (2) 클로저(closer)\n",
    "\n",
    "+ 함수 밖에서 임의의 함수 안에 선언된 지역변수를 계속 참조할 수 있게 하는 방법"
   ]
  },
  {
   "cell_type": "code",
   "execution_count": 110,
   "id": "6b24eab9",
   "metadata": {},
   "outputs": [
    {
     "name": "stdout",
     "output_type": "stream",
     "text": [
      "1\n",
      "2\n",
      "3\n",
      "4\n",
      "5\n"
     ]
    }
   ],
   "source": [
    "count = 0        # 전역변수 이용하여 카운트 but, 값이 잘못들어갔을 때 어디서 잘못됐는지 찾기가 힘들다. 막 쓰지 말기!!! ***\n",
    "\n",
    "def out():\n",
    "    count = 0\n",
    "    \n",
    "    def inn():\n",
    "        global count\n",
    "        count += 1\n",
    "        print(count)\n",
    "    \n",
    "    inn()\n",
    "    \n",
    "##################################\n",
    "\n",
    "out()\n",
    "out()\n",
    "out()\n",
    "out()\n",
    "out()"
   ]
  },
  {
   "cell_type": "code",
   "execution_count": 117,
   "id": "7b034377",
   "metadata": {},
   "outputs": [
    {
     "name": "stdout",
     "output_type": "stream",
     "text": [
      "1\n",
      "2\n",
      "3\n",
      "1\n",
      "2\n",
      "3\n"
     ]
    }
   ],
   "source": [
    "\n",
    "\n",
    "def out():\n",
    "    count = 0\n",
    "    \n",
    "    def inn():\n",
    "        nonlocal count    # out 함수에 있는 count 가져다 사용\n",
    "        count += 1\n",
    "        print(count)\n",
    "    \n",
    "    return inn   # (내부함수를) 밖에서 호출할 수 있게 주소값을 리턴 => closer\n",
    "    \n",
    "##################################\n",
    "# return inn 대신 inn() 으로 적었으면 : 밖에서는 호출 안됨\n",
    "\n",
    "a = out()    # => closer\n",
    "a()\n",
    "a()\n",
    "a()\n",
    "\n",
    "b = out()    # => closer\n",
    "b()\n",
    "b()\n",
    "b()\n",
    "\n"
   ]
  },
  {
   "cell_type": "code",
   "execution_count": 120,
   "id": "ab596036",
   "metadata": {},
   "outputs": [
    {
     "name": "stdout",
     "output_type": "stream",
     "text": [
      "2500.0\n",
      "-----------------------\n",
      "3600.0\n"
     ]
    }
   ],
   "source": [
    "def outer(tax):\n",
    "    def inner(su, dan):\n",
    "        amount = su * dan * tax\n",
    "        return amount\n",
    "    \n",
    "    return inner\n",
    "\n",
    "\n",
    "################################\n",
    "\n",
    "tax_rate = outer(0.1)     # tax설정과 inner 주소\n",
    "\n",
    "mouse = tax_rate(5, 5000)   #inner(주소)에 su, dan값 전달\n",
    "print(mouse)\n",
    "\n",
    "print(\"-----------------------\")\n",
    "\n",
    "usb = tax_rate(3, 12000)   #inner(주소)에 su, dan값 전달/ tax는 동일.. \n",
    "print(usb)\n",
    "\n",
    "print(\"-----------------------\")\n",
    "\n",
    "tax_rate2 = outer(0.05)     #tax 변경 \n",
    "mouse = tax_rate(5, 5000)   #inner(주소)에 su, dan값 전달\n",
    "print(usb)"
   ]
  },
  {
   "cell_type": "markdown",
   "id": "ec1f39ec",
   "metadata": {},
   "source": [
    "#### (3) 람다 함수(무명 함수, 익명 함수)  : 주소를 모른다, 다시는 호출하지 X"
   ]
  },
  {
   "cell_type": "code",
   "execution_count": 1,
   "id": "7b601a05",
   "metadata": {},
   "outputs": [
    {
     "name": "stdout",
     "output_type": "stream",
     "text": [
      "30\n"
     ]
    }
   ],
   "source": [
    "def hap(x, y):\n",
    "    return x+y\n",
    "\n",
    "\n",
    "#################################\n",
    "result = hap(10, 20)\n",
    "print(result)"
   ]
  },
  {
   "cell_type": "code",
   "execution_count": 3,
   "id": "3ace1300",
   "metadata": {},
   "outputs": [
    {
     "data": {
      "text/plain": [
       "30"
      ]
     },
     "execution_count": 3,
     "metadata": {},
     "output_type": "execute_result"
    }
   ],
   "source": [
    "(lambda x, y: x+y)(10, 20)   # :현재 위치에서 함수를 만들고 실행한다."
   ]
  },
  {
   "cell_type": "code",
   "execution_count": 8,
   "id": "50b707d6",
   "metadata": {},
   "outputs": [
    {
     "name": "stdout",
     "output_type": "stream",
     "text": [
      "50\n",
      "40\n"
     ]
    }
   ],
   "source": [
    "add = (lambda x, y: x+y)\n",
    "print(add(20, 30))\n",
    "\n",
    "add = (lambda x, y=10: x+y)\n",
    "print(add(30))"
   ]
  },
  {
   "cell_type": "code",
   "execution_count": 14,
   "id": "53a4d857",
   "metadata": {},
   "outputs": [
    {
     "name": "stdout",
     "output_type": "stream",
     "text": [
      "1 (2, 3, 4, 5) {'m': 6, 'n': 7, 'o': 8}\n",
      "1 (2, 3, 4, 5) {'m': 6, 'n': 7, 'o': 8}\n"
     ]
    }
   ],
   "source": [
    "def func_test(a, *b, **c):    # *는 가변인수, 튜플로 / ** 도 가변인수, 딕셔너리로\n",
    "        print(a,b,c)\n",
    "        \n",
    "####################################\n",
    "\n",
    "func_test(1,2,3,4,5,m=6, n=7, o=8)\n",
    "\n",
    "\n",
    "#####################################\n",
    "\n",
    "(lambda a, *b,  **c: print(a, b, c))(1,2,3,4,5, m=6, n=7, o=8)\n",
    "    \n",
    "    \n",
    "    \n",
    "    \n",
    "    "
   ]
  },
  {
   "cell_type": "code",
   "execution_count": 32,
   "id": "b36c7b98",
   "metadata": {},
   "outputs": [
    {
     "name": "stdout",
     "output_type": "stream",
     "text": [
      "[1, 4, 3, 16, 5]\n",
      "[1, 4, 3, 16, 5]\n",
      "[1, 4, 3, 16, 5]\n"
     ]
    }
   ],
   "source": [
    "ex = [1,2,3,4,5]\n",
    "\n",
    "def func_test(x):\n",
    "     if x % 2 == 0:\n",
    "        return x**2\n",
    "     else: return x\n",
    "\n",
    "        \n",
    "################################\n",
    "#방법1\n",
    "    \n",
    "result = []\n",
    "for i in ex:\n",
    "    result.append(func_test(i))\n",
    "print(result)\n",
    "\n",
    "\n",
    "################################\n",
    "#더 간단한 방법2: map\n",
    "\n",
    "print(list(map(func_test, ex)))\n",
    "\n",
    "\n",
    "##############################\n",
    "# map + lambda + list comprehesion\n",
    "\n",
    "print(list(map((lambda x: x**2 if x%2==0 else x), ex)))\n"
   ]
  },
  {
   "cell_type": "markdown",
   "id": "8853299a",
   "metadata": {},
   "source": [
    "#### (4) 함수 장식자(decorator)\n",
    "\n",
    "+ 일종의 함수 감싸기(wrapping)을 해주는 디자인 패턴\n",
    "+ 메타 프로그래밍 기법\n",
    "+ @staticmethod @classmethod, @abstract"
   ]
  },
  {
   "cell_type": "code",
   "execution_count": 50,
   "id": "1451ffc0",
   "metadata": {},
   "outputs": [
    {
     "name": "stdout",
     "output_type": "stream",
     "text": [
      "반가워홍길동\n",
      "------------------------\n",
      "반가워홍길동\n"
     ]
    }
   ],
   "source": [
    "#바로바로 함수 호출이 아니라, 놔뒀다가 필요할 때 호출\n",
    "\n",
    "def make1(fn):\n",
    "    return lambda: \"반가워\" + fn()\n",
    "\n",
    "def hello():\n",
    "    return \"홍길동\"\n",
    "\n",
    "\n",
    "\n",
    "m1 = make1(hello)\n",
    "print(m1())\n",
    "\n",
    "print(\"------------------------\")\n",
    "\n",
    "print(make1(hello)())"
   ]
  },
  {
   "cell_type": "code",
   "execution_count": 51,
   "id": "d62ee937",
   "metadata": {},
   "outputs": [
    {
     "name": "stdout",
     "output_type": "stream",
     "text": [
      "------------------------\n",
      "안녕반가워홍길동\n"
     ]
    }
   ],
   "source": [
    "def make1(fn):\n",
    "    return lambda: \"안녕\" + fn()\n",
    "\n",
    "def make2(fn):\n",
    "    return lambda: \"반가워\" + fn()\n",
    "\n",
    "def hello():\n",
    "    return \"홍길동\"\n",
    "\n",
    "\n",
    "\n",
    "####################################\n",
    "\n",
    "print(make1(make2(hello))())    "
   ]
  },
  {
   "cell_type": "code",
   "execution_count": 53,
   "id": "9e21bd3f",
   "metadata": {},
   "outputs": [
    {
     "name": "stdout",
     "output_type": "stream",
     "text": [
      "반가워안녕홍길동\n"
     ]
    }
   ],
   "source": [
    "def make1(fn):\n",
    "    return lambda: \"안녕\" + fn()\n",
    "\n",
    "def make2(fn):\n",
    "    return lambda: \"반가워\" + fn()\n",
    "\n",
    "\n",
    "@make2          # 아래 처리된 주소값을 make2에 넘겨주겠다\n",
    "@make1          #이 함수(hello)의 주소값을 make1에 넘겨주겠다\n",
    "def hello():\n",
    "    return \"홍길동\"\n",
    "\n",
    "####################################\n",
    "\n",
    "\n",
    "print(hello())"
   ]
  },
  {
   "cell_type": "code",
   "execution_count": 66,
   "id": "23a2ab8e",
   "metadata": {},
   "outputs": [
    {
     "name": "stdout",
     "output_type": "stream",
     "text": [
      "결과는 40이다.\n",
      "결과는 30이다.\n"
     ]
    }
   ],
   "source": [
    "def outer(fn):\n",
    "    def inner(n1, n2):\n",
    "        print(\"결과는 {}이다.\".format(fn(n1, n2)))  \n",
    "    return inner\n",
    "\n",
    "def func(n1, n2):\n",
    "    return n1+ n2\n",
    "\n",
    "#####################################\n",
    "\n",
    "result = outer(func)\n",
    "result(10, 30)\n",
    "\n",
    "\n",
    "#####################################\n",
    "\n",
    "\n",
    "def outer(fn):\n",
    "    def inner(n1, n2):\n",
    "        print(\"결과는 {}이다.\".format(fn(n1, n2)))  \n",
    "    return inner\n",
    "\n",
    "@outer\n",
    "def func(n1, n2):\n",
    "    return n1+ n2\n",
    "\n",
    "#####################################\n",
    "\n",
    "func(10,20)\n"
   ]
  },
  {
   "cell_type": "code",
   "execution_count": 72,
   "id": "3e64f462",
   "metadata": {},
   "outputs": [
    {
     "data": {
      "text/plain": [
       "'결과는 15이다.'"
      ]
     },
     "execution_count": 72,
     "metadata": {},
     "output_type": "execute_result"
    }
   ],
   "source": [
    "def outer(fn):\n",
    "    return lambda n1, n2: \"결과는 {}이다.\".format(fn(n1, n2))\n",
    "    \n",
    "\n",
    "def func(n1, n2):\n",
    "    return n1+ n2\n",
    "\n",
    "#####################################\n",
    "\n",
    "result = outer(func)\n",
    "result(1, 14)"
   ]
  },
  {
   "cell_type": "code",
   "execution_count": null,
   "id": "780622fd",
   "metadata": {},
   "outputs": [],
   "source": []
  }
 ],
 "metadata": {
  "kernelspec": {
   "display_name": "Python 3",
   "language": "python",
   "name": "python3"
  },
  "language_info": {
   "codemirror_mode": {
    "name": "ipython",
    "version": 3
   },
   "file_extension": ".py",
   "mimetype": "text/x-python",
   "name": "python",
   "nbconvert_exporter": "python",
   "pygments_lexer": "ipython3",
   "version": "3.8.8"
  }
 },
 "nbformat": 4,
 "nbformat_minor": 5
}
