{
 "cells": [
  {
   "cell_type": "markdown",
   "id": "bc97f898",
   "metadata": {},
   "source": [
    "## 1. 파이썬과 MySQL활용\n",
    "\n",
    "+ 파이썬과 MySQL을 연결해주는 모듈: mysqlclient, PyMySQL  둘 중 암거나\n",
    "    - pip install mysqlclient\n",
    "    - pip install PyMySQL"
   ]
  },
  {
   "cell_type": "code",
   "execution_count": 5,
   "id": "d92483cb",
   "metadata": {},
   "outputs": [
    {
     "name": "stdout",
     "output_type": "stream",
     "text": [
      "<_mysql.connection open to '127.0.0.1' at 000002BCA23B63C0>\n"
     ]
    }
   ],
   "source": [
    "#### mysqlclient 모듈을 이용한 연결 테스트\n",
    "\n",
    "import MySQLdb\n",
    "\n",
    "conn = MySQLdb.connect(host=\"127.0.0.1\", user=\"root\", password=\"1111\", database=\"testdb\")\n",
    "print(conn)     ##testdb의 주소값\n",
    "conn.close()"
   ]
  },
  {
   "cell_type": "code",
   "execution_count": 8,
   "id": "6e411df2",
   "metadata": {},
   "outputs": [
    {
     "name": "stdout",
     "output_type": "stream",
     "text": [
      "<pymysql.connections.Connection object at 0x000002BCA2FF1FA0>\n"
     ]
    }
   ],
   "source": [
    "#### PyMySQL 모듈을 이용한 연결 테스트\n",
    "\n",
    "import pymysql\n",
    "\n",
    "conn = pymysql.connect(host=\"127.0.0.1\", user=\"root\", password=\"1111\", database=\"testdb\")\n",
    "print(conn)\n",
    "conn.close()"
   ]
  },
  {
   "cell_type": "code",
   "execution_count": 9,
   "id": "018eb6ad",
   "metadata": {},
   "outputs": [],
   "source": [
    "config = {\"host\":\"127.0.0.1\", \"user\":\"root\", \"passwd\":\"1111\", \"database\":\"testdb\"}"
   ]
  },
  {
   "cell_type": "code",
   "execution_count": 11,
   "id": "05269787",
   "metadata": {},
   "outputs": [
    {
     "name": "stdout",
     "output_type": "stream",
     "text": [
      "<pymysql.connections.Connection object at 0x000002BCA2FF1CD0>\n"
     ]
    }
   ],
   "source": [
    "conn = pymysql.connect(**config)      ## dict형식에 주소 담아놓기\n",
    "print(conn)\n",
    "conn.close()"
   ]
  },
  {
   "cell_type": "markdown",
   "id": "71bb74d2",
   "metadata": {},
   "source": [
    "### (1) SELECT\n"
   ]
  },
  {
   "cell_type": "code",
   "execution_count": 26,
   "id": "579670c3",
   "metadata": {},
   "outputs": [
    {
     "name": "stdout",
     "output_type": "stream",
     "text": [
      "7369 SMITH CLERK 7902 1980-12-17 00:00:00 800.0 None 20\n",
      "7499 ALLEN SALESMAN 7698 1981-02-20 00:00:00 1600.0 300.0 30\n",
      "7521 WARD SALESMAN 7698 1981-02-22 00:00:00 1250.0 500.0 30\n",
      "7566 JONES MANAGER 7839 1981-04-02 00:00:00 2975.0 None 20\n",
      "7654 MARTIN SALESMAN 7698 1981-09-28 00:00:00 1250.0 1400.0 30\n",
      "-----------------------------------------------------------------\n",
      "[(7369, 'SMITH', 'CLERK', 7902, datetime.datetime(1980, 12, 17, 0, 0), 800.0, None, 20), (7499, 'ALLEN', 'SALESMAN', 7698, datetime.datetime(1981, 2, 20, 0, 0), 1600.0, 300.0, 30), (7521, 'WARD', 'SALESMAN', 7698, datetime.datetime(1981, 2, 22, 0, 0), 1250.0, 500.0, 30), (7566, 'JONES', 'MANAGER', 7839, datetime.datetime(1981, 4, 2, 0, 0), 2975.0, None, 20), (7654, 'MARTIN', 'SALESMAN', 7698, datetime.datetime(1981, 9, 28, 0, 0), 1250.0, 1400.0, 30)]\n"
     ]
    }
   ],
   "source": [
    "conn = MySQLdb.connect(**config)\n",
    "\n",
    "sql = \"select * from emp limit 5\"\n",
    "\n",
    "cur = conn.cursor()     #명령어를-> db, 실행, 결과있으면 가져오는 객체\n",
    "cur.execute(sql)\n",
    "\n",
    "#print(cur)      #결과값\n",
    "\n",
    "#for data in cur:\n",
    "#    print(data)\n",
    "\n",
    "for a, b, c, d, e, f, g, h in cur:\n",
    "    print(a, b, c, d, e, f, g, h)\n",
    "\n",
    "\n",
    "print(\"-----------------------------------------------------------------\")\n",
    "\n",
    "result = []\n",
    "for data in cur:\n",
    "    result.append(data)\n",
    "\n",
    "conn.close()          #데이터는 변수에 넣고, db연결은 짧을수록 좋다.\n",
    "\n",
    "print(result)"
   ]
  },
  {
   "cell_type": "markdown",
   "id": "1ce4210b",
   "metadata": {},
   "source": [
    "### (2) INSERT"
   ]
  },
  {
   "cell_type": "code",
   "execution_count": 36,
   "id": "f1d29e51",
   "metadata": {},
   "outputs": [],
   "source": [
    "conn = MySQLdb.connect(**config)\n",
    "\n",
    "sql = \"\"\"create table if not exists tbltest(\n",
    "    empno int,\n",
    "    ename  varchar(10),\n",
    "    sal int,\n",
    "    job varchar(10)\n",
    ")\"\"\"\n",
    "\n",
    "cur = conn.cursor()\n",
    "cur.execute(sql)\n",
    "\n",
    "sql = \"insert into tbltest(empno, ename, sal) values(1, 'scott', 5000)\"\n",
    "cur.execute(sql)\n",
    "conn.commit()       # 자동 커밋 아니므로 커밋 잊지말자!\n",
    " \n",
    "conn.close()    # close 전에 이 창 반복해서 실행하면 계속 insert되므로 참고"
   ]
  },
  {
   "cell_type": "code",
   "execution_count": 43,
   "id": "68434dd6",
   "metadata": {},
   "outputs": [],
   "source": [
    "empno = 2\n",
    "ename = \"miller\"\n",
    "sal = 1300\n",
    "\n",
    "conn = MySQLdb.connect(**config)\n",
    "cur = conn.cursor()\n",
    "\n",
    "sql = \"insert into tbltest(empno, ename, sal) values(\" \\\n",
    "     +str(empno) +\", '\"+ str(ename) + \"', \" + str(sal)+ \")\"      #앞뒤 +와, 문자열엔 홑따옴표 추가 잊지말자!\n",
    "#print(sql)         \n",
    "\n",
    "cur.execute(sql)\n",
    "conn.commit()\n",
    "\n",
    "conn.close()       # execute, commit, close를 쓰고 한번에 실행시켜야 두번 들어가지 않는다."
   ]
  },
  {
   "cell_type": "code",
   "execution_count": 45,
   "id": "8c21fca8",
   "metadata": {},
   "outputs": [],
   "source": [
    "# 추천방식! \n",
    "\n",
    "empno = 3\n",
    "ename = \"tom\"\n",
    "sal = 2000\n",
    "\n",
    "conn = MySQLdb.connect(**config)\n",
    "cur = conn.cursor()\n",
    "\n",
    "sql = \"insert into tbltest(empno, ename, sal) values(%s, %s, %s)\"   #자리만잡고 값 나중에 따로 넘겨주기\n",
    "sql_data = (str(empno), str(ename), str(sal))\n",
    "\n",
    "cur.execute(sql, sql_data)    # 2개 전달\n",
    "conn.commit()\n",
    "\n",
    "conn.close()"
   ]
  },
  {
   "cell_type": "code",
   "execution_count": 47,
   "id": "aa6e4445",
   "metadata": {},
   "outputs": [],
   "source": [
    "empno = 4\n",
    "ename = \"jerry\"\n",
    "sal = 2500\n",
    "\n",
    "try: \n",
    "    conn = MySQLdb.connect(**config)\n",
    "    cur = conn.cursor()\n",
    "    \n",
    "    sql = \"insert into tbltest(empno, ename, sal) values(%s, %s, %s)\"   #자리만잡고 값 나중에 따로 넘겨주기\n",
    "    sql_data = (str(empno), str(ename), str(sal))\n",
    "\n",
    "    cur.execute(sql, sql_data)    # 2개 전달\n",
    "    conn.commit()\n",
    "    \n",
    "except Exception as e:\n",
    "    print(\"error: \", e)\n",
    "    \n",
    "finally: \n",
    "    conn.close()    # 에러가 나도 db연결은 끊도록"
   ]
  },
  {
   "cell_type": "code",
   "execution_count": 48,
   "id": "375ae820",
   "metadata": {},
   "outputs": [],
   "source": [
    "#### 데이터 여러 개 입력하기\n",
    "\n",
    "conn = MySQLdb.connect(**config)\n",
    "cur = conn.cursor()\n",
    "\n",
    "for i in range(10):\n",
    "    sql = \"insert into tbltest(empno, ename, sal) values(5, 'jerry', 10000)\"\n",
    "    cur.execute(sql)\n",
    "    conn.commit()\n",
    "conn.close()"
   ]
  },
  {
   "cell_type": "markdown",
   "id": "066b8f4e",
   "metadata": {},
   "source": [
    "### (3) Cursor"
   ]
  },
  {
   "cell_type": "markdown",
   "id": "710fbae0",
   "metadata": {},
   "source": [
    "#### 1) fetchall(), fetchmany(), fetchone()\n",
    "   + default는 fetchall()"
   ]
  },
  {
   "cell_type": "code",
   "execution_count": 53,
   "id": "10f46a40",
   "metadata": {},
   "outputs": [
    {
     "name": "stdout",
     "output_type": "stream",
     "text": [
      "(1, 'scott', 5000, None)\n"
     ]
    }
   ],
   "source": [
    "try: \n",
    "    conn = MySQLdb.connect(**config)\n",
    "    cur = conn.cursor()\n",
    "    \n",
    "    cur.execute(\"select * from tbltest\")   # cur로 받아왔다\n",
    "   \n",
    "    #for i in cur.fetchall():       # 원래 fetchall()은 생략돼있었다.\n",
    "    #   print(i)\n",
    "    #for i in cur.fetchmany(5):     # 5개만 가져오겠다\n",
    "    #    print(i)\n",
    "    print(cur.fetchone())           # 1개만 가져온다. 결과가 1개일때 쓰면 좋다.\n",
    "    \n",
    "finally:\n",
    "    conn.close()"
   ]
  },
  {
   "cell_type": "markdown",
   "id": "65459447",
   "metadata": {},
   "source": [
    "#### 2) DictCursor\n",
    "\n",
    "+ 필드명을 인덱스 대신 키로 사용"
   ]
  },
  {
   "cell_type": "code",
   "execution_count": 56,
   "id": "0dd935e6",
   "metadata": {},
   "outputs": [
    {
     "name": "stdout",
     "output_type": "stream",
     "text": [
      "1 scott 5000\n",
      "1 scott 5000\n",
      "1 scott 5000\n",
      "2 miller 1300\n",
      "2 miller 1300\n",
      "3 tom 2000\n",
      "4 jerry 2500\n",
      "4 jerry 2500\n",
      "5 jerry 10000\n",
      "5 jerry 10000\n",
      "5 jerry 10000\n",
      "5 jerry 10000\n",
      "5 jerry 10000\n",
      "5 jerry 10000\n",
      "5 jerry 10000\n",
      "5 jerry 10000\n",
      "5 jerry 10000\n",
      "5 jerry 10000\n"
     ]
    }
   ],
   "source": [
    "try: \n",
    "    conn = MySQLdb.connect(**config)\n",
    "    cur = conn.cursor(MySQLdb.cursors.DictCursor)   # 괄호안에 명시\n",
    "    \n",
    "    cur.execute(\"select * from tbltest\")\n",
    "    \n",
    "    for i in cur.fetchall():\n",
    "        #print(i[0], i[1], i[2])\n",
    "        print(i[\"empno\"], i[\"ename\"], i[\"sal\"])    #키로 \n",
    "        \n",
    "finally:\n",
    "    conn.close()"
   ]
  },
  {
   "cell_type": "markdown",
   "id": "7aa77d5f",
   "metadata": {},
   "source": [
    "## 2. 응용 예제\n",
    "\n",
    "### (1) CSV파일을 DB에 저장"
   ]
  },
  {
   "cell_type": "code",
   "execution_count": 74,
   "id": "d7bac0e1",
   "metadata": {},
   "outputs": [],
   "source": [
    "import csv\n",
    "\n",
    "file  = csv.reader(open(\"data/input.csv\"))\n",
    "#print(file)\n",
    "\n",
    "#print(next(file))     # 첫번째 줄을 읽어오고, 그 포인터를 다음줄로 이동, 준비\n",
    "#print(next(file)) \n",
    "#print(next(file)) \n",
    "#print(next(file)) \n",
    "#print(next(file)) \n",
    "\n",
    "next(file)   # 첫 줄(컬럼명)은 뛰어넘기 위함(데이터만 넣을 수 있도록) \n",
    "\n",
    "try: \n",
    "    conn = MySQLdb.connect(**config)\n",
    "    cur = conn.cursor()   \n",
    "    \n",
    "    cur.execute(\"delete from suppliers\")   # 여러 번 실행해도 누적되지 않게 기존의 것 지운다\n",
    "    \n",
    "    for row in file:\n",
    "        #print(row)      # 한줄 \n",
    "        cur.execute(\"insert into suppliers values(%s, %s, %s, %s, %s)\", row)  #속성 갯수\n",
    "    conn.commit()\n",
    "        \n",
    "finally:\n",
    "    conn.close()"
   ]
  },
  {
   "cell_type": "markdown",
   "id": "a9feffe3",
   "metadata": {},
   "source": [
    "### (2) DB에서 가져운 데이터를 파일로 저장"
   ]
  },
  {
   "cell_type": "code",
   "execution_count": 81,
   "id": "56f5f982",
   "metadata": {},
   "outputs": [],
   "source": [
    "## 중요!!! 다시 보기\n",
    "\n",
    "try: \n",
    "    conn = MySQLdb.connect(**config)\n",
    "    cur = conn.cursor()   \n",
    "    \n",
    "    cur.execute(\"select * from suppliers where cost> 500000\") \n",
    "    \n",
    "    #for i in cur:\n",
    "    #    print(i)\n",
    "    \n",
    "    file = csv.writer(open(\"data/output.csv\", \"w\"), delimiter = \",\")    # 콤마를 기준으로 저장한다.\n",
    "    \n",
    "    header = [\" Supplier Name\", \"Invoice Number\", \"Part Number\",\"Cost\",\"Purchase Date\"]\n",
    "    file.writerow(header)  # 제목 먼저 저장..2번 실행해야 내용 들어간다~\n",
    "    \n",
    "    for row in cur:\n",
    "        file.writerow(row)    \n",
    "    \n",
    "finally:\n",
    "    conn.close()    "
   ]
  },
  {
   "cell_type": "markdown",
   "id": "f31886ec",
   "metadata": {},
   "source": [
    "## 3. 파이썬과  SQLite\n",
    "\n",
    "#### (1) 로컬로 사용할 수 있는 DBMS\n",
    "\n",
    "+ Access\n",
    "+ SQLite\n",
    "+ Microsoft SQL Server Compact Edition\n",
    "+ Firebird Embeded Server\n",
    "+ H2\n",
    "+ HSQL\n",
    "+ Apache Derby\n",
    "\n",
    "#### (2) 특징\n",
    "\n",
    "+ 파일기반의 DBMS, 저메모리, 빠른 처리 속도\n",
    "+ 오픈 소스\n",
    "+ 별도의 DB서버없이 쉽고 편리하게 사용할 수 있는 Embeded SQL DB엔진\n",
    "+ 안드로이드, 아이폰 등의 스마트폰에 기본 내장된 DB\n",
    "+ 파이썬에 내장\n",
    "+ 표준 SQL 지원\n",
    "\n",
    "---\n",
    "\n",
    "+ 컬럼을 삭제하거나 변경하는 것 등이 제한\n",
    "+ Left Outer Join만 지원\n",
    "+ 읽기 전용 뷰만 제공\n",
    "\n",
    "\n",
    "#### (3) 공식 사이트\n",
    "+ http://sqlite.org\n",
    "\n",
    "\n",
    "#### (4) 클라이언트 툴\n",
    "+ http://www.sqliteexpert.com    에서 sqllite64bit다운"
   ]
  },
  {
   "cell_type": "code",
   "execution_count": 1,
   "id": "cb75f795",
   "metadata": {},
   "outputs": [],
   "source": [
    "import sqlite3"
   ]
  },
  {
   "cell_type": "code",
   "execution_count": 2,
   "id": "fa4df8b2",
   "metadata": {},
   "outputs": [
    {
     "name": "stdout",
     "output_type": "stream",
     "text": [
      "2.6.0\n",
      "3.35.4\n"
     ]
    }
   ],
   "source": [
    "print(sqlite3.version)           # python과 DB연결 모듈\n",
    "print(sqlite3.sqlite_version)    # DB"
   ]
  },
  {
   "cell_type": "code",
   "execution_count": 4,
   "id": "65523606",
   "metadata": {},
   "outputs": [
    {
     "name": "stdout",
     "output_type": "stream",
     "text": [
      "<sqlite3.Connection object at 0x000001807D69F210>\n"
     ]
    }
   ],
   "source": [
    "conn = sqlite3.connect(\"data/sqlitetest.db\")            # DB와 바로 연결, 내 컴퓨터 안의 DB\n",
    "print(conn)              # 위 경로에 sqlitetest.db라는 DB 자동으로 만들어줌, 혼자쓰는 DB이므로 아이디, 비번 필요 없다.\n",
    "conn.close()"
   ]
  },
  {
   "cell_type": "code",
   "execution_count": 5,
   "id": "febe50e2",
   "metadata": {},
   "outputs": [
    {
     "name": "stdout",
     "output_type": "stream",
     "text": [
      "('최주현', '하늘과 땅')\n",
      "('최주현', '바다')\n",
      "('유은정', '바다')\n",
      "('박성우', '문')\n",
      "('최주현', '문')\n",
      "('박성우', '천국')\n",
      "('최지은', '천국')\n",
      "('최주현', '천국')\n",
      "('박성우', '고슴도치')\n",
      "('서금동', '나')\n"
     ]
    }
   ],
   "source": [
    "##### Select\n",
    "\n",
    "conn = sqlite3.connect(\"data/sqlitetest.db\")\n",
    "cur = conn.cursor()\n",
    "\n",
    "cur.execute(\"select * from tblbook\")\n",
    "for row in cur:\n",
    "    print(row)\n",
    "    \n",
    "conn.close()    "
   ]
  },
  {
   "cell_type": "code",
   "execution_count": 6,
   "id": "2b27e0b7",
   "metadata": {},
   "outputs": [
    {
     "name": "stdout",
     "output_type": "stream",
     "text": [
      "(1, '홍길동', '2020-12-25')\n",
      "(2, '임꺽정', '2022-01-05')\n"
     ]
    }
   ],
   "source": [
    "\n",
    "conn = sqlite3.connect(\"data/sqlitetest.db\")\n",
    "cur = conn.cursor()\n",
    "\n",
    "cur.execute(\"select * from tblMember\")\n",
    "for row in cur:\n",
    "    print(row)\n",
    "    \n",
    "conn.close()    "
   ]
  },
  {
   "cell_type": "code",
   "execution_count": 13,
   "id": "356c5ee3",
   "metadata": {},
   "outputs": [
    {
     "name": "stdout",
     "output_type": "stream",
     "text": [
      "(1, '홍길동')\n",
      "(1, '홍길동')\n",
      "(1, '홍길동')\n",
      "(1, '홍길동')\n",
      "(1, '홍길동')\n"
     ]
    }
   ],
   "source": [
    "##### 자동으로 DB생성하고 테이블 생성\n",
    "\n",
    "conn = sqlite3.connect(\"data/auto.db\")        \n",
    "cur = conn.cursor()           # 위 경로에 DB 자동으로 생성\n",
    "\n",
    "sql = \"\"\"\n",
    "    create table if not exists tblmember(       \n",
    "        id   int,\n",
    "        name   varchar(10)\n",
    "    )\n",
    "\"\"\"\n",
    "# if not exsits 부분 없으면 테이블 존재할경우, 에러남\n",
    "\n",
    "cur.execute(sql)\n",
    "conn.commit()          # 커밋해야 트랜잭션 처리가능\n",
    "\n",
    "cur.execute(\"insert into tblmember values(1, '홍길동')\")        # 실행할때마다 삽입\n",
    "conn.commit() \n",
    "\n",
    "cur.execute(\"select * from tblmember\")\n",
    "for row in cur:\n",
    "    print(row)\n",
    "    \n",
    "    \n",
    "conn.close()\n",
    "\n",
    "\n",
    "##### DB에 테이블 직접 생성 (sqlexpert 사용안하고)"
   ]
  },
  {
   "cell_type": "code",
   "execution_count": 21,
   "id": "a19bdaa7",
   "metadata": {},
   "outputs": [
    {
     "name": "stdout",
     "output_type": "stream",
     "text": [
      "tblmember\n",
      "tblInput\n"
     ]
    }
   ],
   "source": [
    "##### CSV파일을 읽어들여서 DB에 저장     (DB에 table구조는 만들어놔야함)\n",
    "\n",
    "import csv\n",
    "\n",
    "conn = sqlite3.connect(\"data/auto.db\")        \n",
    "cur = conn.cursor()           \n",
    "\n",
    "# 테이블 조회\n",
    "tables = cur.execute(\"select * from sqlite_master where type='table'\")   # sqlite_master : 기본 메타정보\n",
    "for i in tables:\n",
    "    print(i[1])         # auto.db 안 테이블 이름 조회\n",
    "    \n",
    "\n",
    "file = csv.reader(open(\"data/input.csv\", \"r\"), delimiter=\",\")       # 불러오기\n",
    "#for i in file:\n",
    "#    print(i)\n",
    "    \n",
    "next(file)\n",
    "\n",
    "for row in file:\n",
    "    cur.execute(\"insert into tblInput values(?, ?, ?, ?, ?)\", row)\n",
    "conn.commit()\n",
    "conn.close()"
   ]
  },
  {
   "cell_type": "code",
   "execution_count": null,
   "id": "aff36f4d",
   "metadata": {},
   "outputs": [],
   "source": []
  },
  {
   "cell_type": "code",
   "execution_count": null,
   "id": "52d850eb",
   "metadata": {},
   "outputs": [],
   "source": []
  },
  {
   "cell_type": "code",
   "execution_count": null,
   "id": "a87a6db1",
   "metadata": {},
   "outputs": [],
   "source": []
  },
  {
   "cell_type": "code",
   "execution_count": null,
   "id": "76d7f1d9",
   "metadata": {},
   "outputs": [],
   "source": []
  },
  {
   "cell_type": "code",
   "execution_count": null,
   "id": "ee649ee0",
   "metadata": {},
   "outputs": [],
   "source": []
  }
 ],
 "metadata": {
  "kernelspec": {
   "display_name": "Python 3",
   "language": "python",
   "name": "python3"
  },
  "language_info": {
   "codemirror_mode": {
    "name": "ipython",
    "version": 3
   },
   "file_extension": ".py",
   "mimetype": "text/x-python",
   "name": "python",
   "nbconvert_exporter": "python",
   "pygments_lexer": "ipython3",
   "version": "3.8.8"
  }
 },
 "nbformat": 4,
 "nbformat_minor": 5
}
