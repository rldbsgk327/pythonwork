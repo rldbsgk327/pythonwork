{
 "cells": [
  {
   "cell_type": "markdown",
   "id": "b8e3581f",
   "metadata": {},
   "source": [
    "## 1. 함수의 정의\n",
    "\n",
    "+ 일정한 작업을 수행하는 코드 블럭\n",
    "\n",
    "## 2. 함수의 장점\n",
    "\n",
    "+ 반복적인 코드를 없애주어 전체 코드의 길이를 짧게 만들어 준다(재사용)\n",
    "+ 프로그램의 유지보수를 쉽게 만들어 준다.\n",
    "\n",
    "## 3. 함수의 구현\n",
    "    def 함수명(...) :\n",
    "        코드 정의\n",
    "        ...\n",
    "        [return]  ..써도 되고 안써도 됨\n",
    "        \n",
    "        \n",
    "        \n",
    "## 4. 함수의 호출 방식\n",
    "\n",
    "    1) 인자(인수)가 없는 방식\n",
    "    2) 인자(인수)가 있는 방식\n",
    "    3) 반환값이 있는 경우\n",
    "        - return의 두 가지 기능\n",
    "            *. 값을 반환: 값은 1개만 반환\n",
    "            *. 함수의 강제 종료\n",
    "            \n",
    "## 함수 설계\n",
    "\n",
    "+ 단일 기능 : 함수 하나에 여러 기능 x. 메모리 낭비. 유지보수 시 힘듬. 함수의 정체성을 분명하게!\n",
    "+ 재사용성(이 있을 때 만들고, 재사용성 있게끔 만들기)\n",
    "+ ...함수로 모듈화 하는 연습 평소에 하기\n",
    "\n",
    "\n",
    "\n",
    "## 함수의 종류\n",
    "\n",
    "+ 사용자 정의 함수(User Define Function) \n",
    "+ 내장 함수(Built - in Function)\n",
    "+ 외장 함수(External Function)\n",
    "\n"
   ]
  },
  {
   "cell_type": "code",
   "execution_count": 5,
   "id": "7e3e2a0c",
   "metadata": {},
   "outputs": [],
   "source": [
    "def line(cnt, shape):  #매개 변수, 파라미터(parameter)라 한다.\n",
    "    \n",
    "    for v in range(cnt):            \n",
    "        print(shape, end = \"\")\n",
    "   \n",
    "    print()"
   ]
  },
  {
   "cell_type": "code",
   "execution_count": 7,
   "id": "76e80680",
   "metadata": {},
   "outputs": [
    {
     "name": "stdout",
     "output_type": "stream",
     "text": [
      "========================================\n",
      "         친구관리 프로그램         \n",
      "~~~~~~~~~~~~~~~~~~~~~~~~~~~~~~~~~~~~~~~~\n",
      "1. 리스트 출력\n",
      "2. 친구 추가\n",
      "3. 종료\n",
      "--------------------------------------------------\n"
     ]
    }
   ],
   "source": [
    "line(40, '=')  #30을 실인자, 실인수 라고 함, 매개변수의 갯수와 순서를 반드시 지켜야 함\n",
    "print(\"         친구관리 프로그램         \")\n",
    "line(40, '~')\n",
    "print(\"1. 리스트 출력\")\n",
    "print(\"2. 친구 추가\")\n",
    "print(\"3. 종료\")\n",
    "line(50, '-')"
   ]
  },
  {
   "cell_type": "code",
   "execution_count": 38,
   "id": "d4941515",
   "metadata": {},
   "outputs": [],
   "source": [
    "def swap(num1, num2):\n",
    "    temp = num1              #반드시 변수 하나 더 있어야\n",
    "    num1 = num2\n",
    "    num2 = temp\n",
    "    \n",
    "    return num1, num2      # 2가지 값 하나로 packing\n",
    "    "
   ]
  },
  {
   "cell_type": "code",
   "execution_count": 39,
   "id": "e0986fbf",
   "metadata": {},
   "outputs": [
    {
     "name": "stdout",
     "output_type": "stream",
     "text": [
      "두 수의 교환\n",
      "(80, 70)\n"
     ]
    }
   ],
   "source": [
    "print(\"두 수의 교환\")    \n",
    "\n",
    "#1\n",
    "swap(40 , 50)\n",
    "\n",
    "#2\n",
    "num1, num2 = 70, 80\n",
    "\n",
    "#print(swap(num1, num2))\n",
    "#n1, n2 = swap(num1, num2)   # def의 리턴값 num1, num2가 -> n1, n2로 저장됨, unpacking\n",
    "\n",
    "#print(\"교환 결과: \", n1, n2) # n1, n2\n",
    "print(swap(num1, num2))"
   ]
  },
  {
   "cell_type": "markdown",
   "id": "a59bdea2",
   "metadata": {},
   "source": [
    "---\n",
    "\n",
    "### 파이썬에서 함수를 지원하기 위한 문법"
   ]
  },
  {
   "cell_type": "code",
   "execution_count": 59,
   "id": "92ffbabf",
   "metadata": {},
   "outputs": [
    {
     "name": "stdout",
     "output_type": "stream",
     "text": [
      "전국 대표\n",
      "전국 대표\n",
      "리사 지역 대표~ 28\n"
     ]
    }
   ],
   "source": [
    "#### 변수의 유효(생존)범위: 지역변수, 전역변수\n",
    "                                                       # ===> 함수로 분리해보기\n",
    "player = \"전국 대표\"\n",
    "\n",
    "def funcScore():        # 함수 안 블럭 안에 (:) 사용된 변수들은 지역변수이므로 함수 밖에서 사용할 수 x\n",
    "    global player       # 전역변수 가져와 수정하였다. 라는 의미\n",
    "    name = \"리사\"\n",
    "    \n",
    "    #player = \"지역 대표~\"   # 함수 밖 같은 이름 변수 있어도 funcScore가 실행되면 \"지역대표\"가 표시. 다른 이름 하는게 원칙\n",
    "    \n",
    "    player = \"지역 대표~\"\n",
    "    age = \"28\"\n",
    "    print(name, player, age)\n",
    "    \n",
    "    \n",
    "###########################################\n",
    "\n",
    "print(player)\n",
    "\n",
    "funcScore()\n",
    "\n",
    "print(player)   #윗 줄에서 funcScore가 실행되었고, global이 표시되었으므로 ==> 지역 대표 \n"
   ]
  },
  {
   "cell_type": "code",
   "execution_count": 1,
   "id": "f2c82a50",
   "metadata": {},
   "outputs": [
    {
     "name": "stdout",
     "output_type": "stream",
     "text": [
      "*****\n",
      "**********\n",
      "안녕하세요~! 리사님^^ 좋은 아침입니다.\n",
      "반드시 이름을 입력해야 합니다.\n",
      "안녕하세요! 광주광역시에 사는 리사님... 당신의 나이는 23입니다\n",
      "안녕하세요! 서울에 사는 리사님... 당신의 나이는 23입니다\n",
      "안녕하세요! 서울에 사는 리사님... 당신의 나이는 25입니다\n",
      "안녕하세요! 서울에 사는 철수님... 당신의 나이는 25입니다\n"
     ]
    }
   ],
   "source": [
    "##### dafault 인수\n",
    "\n",
    "\n",
    "def line(cnt = 10):          # 기본값 default = 10  (인자 넘어오지 않을 때 기본값)\n",
    "    \n",
    "    for v in range(cnt):            \n",
    "        print(\"*\", end = \"\")\n",
    "   \n",
    "    print()\n",
    "\n",
    "    \n",
    "def hello1(name=None):\n",
    "    \n",
    "    if name == None:\n",
    "        print(\"반드시 이름을 입력해야 합니다.\")\n",
    "        return                                     #break는 반복문에서만, 일반 함수에선 return\n",
    "\n",
    "    print(\"안녕하세요~! {}님^^ 좋은 아침입니다.\".format(name))\n",
    "\n",
    "    \n",
    "    \n",
    "def hello2(name=\"철수\", age=25, addr=\"서울\"):               #default 인수는 반드시 맨 끝에서부터 채운다!\n",
    "    print(\"안녕하세요! %s에 사는 %s님... 당신의 나이는 %d입니다\" %(addr, name, age))\n",
    "\n",
    "\n",
    "\n",
    "\n",
    "\n",
    "########################################################\n",
    "\n",
    "\n",
    "line(5)\n",
    "line()       # default 인수로 출력\n",
    "\n",
    "hello1(\"리사\")\n",
    "\n",
    "\n",
    "hello1()\n",
    "\n",
    "hello2(\"리사\", 23, \"광주광역시\")\n",
    "hello2(\"리사\", 23)                   #입력하지 않은 마지막 인자 addr는 default값 서울로 출력\n",
    "hello2(\"리사\")\n",
    "hello2()"
   ]
  },
  {
   "cell_type": "code",
   "execution_count": 48,
   "id": "628049d1",
   "metadata": {},
   "outputs": [
    {
     "name": "stdout",
     "output_type": "stream",
     "text": [
      "('David',) 안녕하세요\n",
      "('David', 'Lisa', 'Summer', 'Herry') 안녕하세요\n",
      "\n",
      " --------------------------------------------------------\n",
      "\n",
      "80 187 정민 {'blood': 'O', 'age': 30, 'addr': '서울'}\n",
      "{'blood': 'O', 'age': 30, 'addr': '서울'}\n",
      "\n",
      " --------------------------------------------------------\n",
      "\n",
      "[1, 2] [3, 4] [5, 6]\n",
      "[1, 2] [3, 4] [5, 6]\n"
     ]
    }
   ],
   "source": [
    "#### 가변 인수\n",
    "#---------------------\n",
    "#  * : 곱셈, 반복, 매개변수(가변인수:여러 개의 입력값 받는다, tuple로 packing), 일반 변수(tuple이 unpacking)\n",
    "#  ** :제곱, 매개변수(dict로 packing)   **\n",
    "\n",
    "def greeting(*name):                    # *매개변수 : 튜플로 packing된다.\n",
    "    print(name, \"안녕하세요\")\n",
    "    \n",
    "    \n",
    "def info(weight, height, name, **other):    # **매개변수: dict\n",
    "    print(weight, height, name, other)\n",
    "    print(other)\n",
    "    \n",
    "\n",
    "###############################################\n",
    "\n",
    "\n",
    "greeting(\"David\")\n",
    "greeting(\"David\", \"Lisa\", \"Summer\", \"Herry\")\n",
    "\n",
    "print(\"\\n --------------------------------------------------------\\n\")\n",
    "\n",
    "\n",
    "info(80, 187, \"정민\", blood = \"O\", age = 30, addr = \"서울\")   # **other부분은 '키와 값'을 전달해야 한다.\n",
    "\n",
    "\n",
    "print(\"\\n --------------------------------------------------------\\n\")\n",
    "\n",
    "\n",
    "#unpacking    :데이터 갯수만큼 변수 생성해서 담는다.\n",
    "a, b, c = ([1,2], [3,4], [5,6])\n",
    "print(a,b,c)\n",
    "\n",
    "d = ([1,2], [3,4], [5,6])\n",
    "print(*d)                          # *: tuple의 unpacking이 자동으로 된다!!!!!-> 변수 갯수를 처음부터 알고 준비할 수 없을 때\n",
    "\n",
    "\n",
    "\n",
    "\n",
    "\n"
   ]
  },
  {
   "cell_type": "markdown",
   "id": "edb7ac44",
   "metadata": {},
   "source": [
    "## Built-in Function"
   ]
  },
  {
   "cell_type": "code",
   "execution_count": 2,
   "id": "59198348",
   "metadata": {},
   "outputs": [
    {
     "name": "stdout",
     "output_type": "stream",
     "text": [
      "True\n",
      "False\n",
      "False\n",
      "False\n",
      "---------------------------------------------\n",
      "True\n",
      "True\n",
      "True\n",
      "True\n"
     ]
    }
   ],
   "source": [
    "#--------------------------------------------------\n",
    "# all(), any()  =  and, or 연산자\n",
    "#--------------------------------------------------\n",
    "\n",
    "print(all([1, 2, 3, -1, -2]))       #all: and 연산자로 각자 다 확인하지 않아도 가능\n",
    "print(all([1, 2, 3, 0, -1, -2]))      # False: \"\"(공백아님), None, 0 \n",
    "print(all([1, 2, 3,\"\",  -1, -2]))    \n",
    "print(all([1, 2, 3, None,  -1, -2]))    \n",
    "\n",
    "print(\"---------------------------------------------\")\n",
    "\n",
    "print(any([1, 2, 3, -1, -2]))       #all: and 연산자로 각자 다 확인하지 않아도 가능\n",
    "print(any([1, 2, 3, 0, -1, -2]))      # False: \"\"(공백아님), None, 0 \n",
    "print(any([1, 2, 3,\"\",  -1, -2]))    \n",
    "print(any([1, 2, 3, None,  -1, -2]))  \n",
    "\n",
    "\n"
   ]
  },
  {
   "cell_type": "code",
   "execution_count": 65,
   "id": "653000ab",
   "metadata": {},
   "outputs": [
    {
     "name": "stdout",
     "output_type": "stream",
     "text": [
      "100 홍길동\n",
      "101 윤희\n",
      "102 Jerry\n",
      "103 Summer\n",
      "104 Tom\n"
     ]
    }
   ],
   "source": [
    "#--------------------------------------------------\n",
    "# enumerate(iterator)  :순서가 있는 자료형을 입력받아 인덱스 값을 포함하여 리턴(순서있는 집합자료형)\n",
    "#                      : enumerata(iterator , start값 = 디폴트 0)   //   순서, 값 2개의 리턴값 반환. \n",
    "#참고: 순서있는 자료형: list, tuple, 'str'  **\n",
    "#--------------------------------------------------\n",
    "\n",
    "for i, v in enumerate([\"홍길동\", \"윤희\", \"Jerry\", \"Summer\", \"Tom\"], start=100):    # enumerate: 리턴값 2개(인덱스, 값)\n",
    "    print(i, v)\n",
    "\n"
   ]
  },
  {
   "cell_type": "code",
   "execution_count": 90,
   "id": "93a12441",
   "metadata": {},
   "outputs": [
    {
     "name": "stdout",
     "output_type": "stream",
     "text": [
      "7\n",
      "7\n",
      "7\n",
      "print('안녕하세요')\n",
      "안녕하세요\n",
      "(2, 1)\n"
     ]
    }
   ],
   "source": [
    "#-------------------------------------------------- ************\n",
    "# eval(expression) :expression 표현식이 파이썬 문법에 맞는지 평가, 파이썬에서 실행 가능하게 만들어주는 역할 \n",
    "#--------------------------------------------------\n",
    "\n",
    "a = \"3+4\"\n",
    "print(int(a[0])+ int(a[(len(a)-1)]))\n",
    "print(int(a[0])+ int(a[-1]))\n",
    "print(eval(a))\n",
    "\n",
    "\n",
    "b = \"print('안녕하세요')\"\n",
    "print(b[:])\n",
    "eval(b)\n",
    "\n",
    "#--------------------------------------------------\n",
    "# divmod(9,4) : 몫과 나머지를 한번에 보여줌\n",
    "#--------------------------------------------------\n",
    "\n",
    "\n",
    "c = \"divmod(9,4)\"\n",
    "print(eval(c))\n"
   ]
  },
  {
   "cell_type": "code",
   "execution_count": 4,
   "id": "8c12b64d",
   "metadata": {},
   "outputs": [
    {
     "name": "stdout",
     "output_type": "stream",
     "text": [
      "12\n",
      "------------------------------------------------\n",
      "[12, 22, 32, 42, 52]\n",
      "------------------------------------------------\n",
      "12\n",
      "22\n",
      "32\n",
      "42\n",
      "52\n",
      "[12, 22, 32, 42, 52]\n"
     ]
    }
   ],
   "source": [
    "#----------------------------------------------------------------------------------\n",
    "# map(function, iterator) : 집합의 각 요소가 함수에 의해 수행된 결과를 묶어서 리턴\n",
    "#----------------------------------------------------------------------------------\n",
    "# 아주 중요**********\n",
    "\n",
    "def calc(x):                 # calc: 함수의 주소를 저장하는 변수 / calc() :주소로 찾아간다\n",
    "    return x + 2\n",
    "\n",
    "#############################################\n",
    "\n",
    "\n",
    "print(calc(10))\n",
    "\n",
    "print(\"------------------------------------------------\")\n",
    "\n",
    "#result.append(calc(data[0]))\n",
    "#result.append(calc(data[1]))\n",
    "#result.append(calc(data[2]))\n",
    "#result.append(calc(data[3]))\n",
    "#result.append(calc(data[4]))\n",
    "#print(result)\n",
    "\n",
    "\n",
    "\n",
    "data = [10, 20, 30, 40, 50]\n",
    "result = []\n",
    "\n",
    "for v in data:\n",
    "    temp = calc(v)\n",
    "    result.append(temp)\n",
    "    \n",
    "print(result)\n",
    "\n",
    "\n",
    "print(\"------------------------------------------------\")\n",
    "\n",
    "\n",
    "# map :data의 5개 값을 하나씩 꺼내서 함수calc와 각각 매칭해준다.\n",
    "#m = map(calc, data)       #결과값이 저장된 주소\n",
    "\n",
    "for v in map(calc, data):         #**********\n",
    "    print(v)\n",
    "\n",
    "\n",
    "print(list(map(calc, data)))      #간단!*****\n",
    "\n",
    "\n"
   ]
  },
  {
   "cell_type": "code",
   "execution_count": 112,
   "id": "2f44f268",
   "metadata": {},
   "outputs": [
    {
     "name": "stdout",
     "output_type": "stream",
     "text": [
      "('a1', 'b1', 'c1')\n",
      "('a2', 'b2', 'c2')\n",
      "('a3', 'b3', 'c3')\n",
      "[('a1', 'b1', 'c1'), ('a2', 'b2', 'c2'), ('a3', 'b3', 'c3')]\n",
      "0 a1\n",
      "1 a2\n",
      "2 a3\n",
      "0 b1\n",
      "1 b2\n",
      "2 b3\n",
      "0 c1\n",
      "1 c2\n",
      "2 c3\n",
      "------------------------------------------------\n",
      "0 a1 b1 c1\n",
      "1 a2 b2 c2\n",
      "2 a3 b3 c3\n",
      "------------------------------------------------\n",
      "0 a1 b1 c1\n",
      "1 a2 b2 c2\n",
      "2 a3 b3 c3\n"
     ]
    }
   ],
   "source": [
    "#-----------------------------------------------------------------\n",
    "# zip(iterator): 동일한 갯수로 이루어진 자료형을 (같은 열끼리)묶어주는 역할\n",
    "#-----------------------------------------------------------------\n",
    "\n",
    "\n",
    "a = [\"a1\", \"a2\", \"a3\"]\n",
    "b = [\"b1\", \"b2\", \"b3\"]\n",
    "c = [\"c1\", \"c2\", \"c3\"]\n",
    "\n",
    "for v in zip(a, b, c):\n",
    "    print(v)\n",
    "    \n",
    "    \n",
    "print(list(zip(a, b, c)))\n",
    "\n",
    "\n",
    "\n",
    "for i, v in enumerate(a):\n",
    "    print(i, v)\n",
    "for i, v in enumerate(b):\n",
    "    print(i, v)\n",
    "for i, v in enumerate(c):\n",
    "    print(i, v)\n",
    "    \n",
    "    #zip(a, b, c): \n",
    "    \n",
    "    \n",
    "    \n",
    "print(\"------------------------------------------------\")\n",
    "\n",
    "##### 문제\n",
    "\n",
    "\"\"\"\n",
    "0 a1 b1 c1\n",
    "1 a2 b2 c2\n",
    "2 a3 b3 c3\n",
    "\n",
    "\"\"\"\n",
    "\n",
    "\n",
    "result = []\n",
    "\n",
    "for v in zip(a, b, c):\n",
    "    result.append(v)\n",
    "for q, w in enumerate(result):\n",
    "    print(q, *w)\n",
    "\n",
    "\n",
    "print(\"------------------------------------------------\")\n",
    "\n",
    "# 또는 \n",
    "for i, v in enumerate(zip(a, b, c)):\n",
    "    print(i, *v)\n"
   ]
  },
  {
   "cell_type": "markdown",
   "id": "b6c56d08",
   "metadata": {},
   "source": [
    "----\n",
    "### External Function\n",
    "\n",
    "+ import 모듈명(.py)\n",
    "+ C:\\anaconda3\\Lib\\site-packages"
   ]
  },
  {
   "cell_type": "code",
   "execution_count": 120,
   "id": "de1fd846",
   "metadata": {},
   "outputs": [
    {
     "name": "stdout",
     "output_type": "stream",
     "text": [
      "['__breakpointhook__', '__displayhook__', '__doc__', '__excepthook__', '__interactivehook__', '__loader__', '__name__', '__package__', '__spec__', '__stderr__', '__stdin__', '__stdout__', '__unraisablehook__', '_base_executable', '_clear_type_cache', '_current_frames', '_debugmallocstats', '_enablelegacywindowsfsencoding', '_framework', '_getframe', '_git', '_home', '_xoptions', 'addaudithook', 'api_version', 'argv', 'audit', 'base_exec_prefix', 'base_prefix', 'breakpointhook', 'builtin_module_names', 'byteorder', 'call_tracing', 'callstats', 'copyright', 'displayhook', 'dllhandle', 'dont_write_bytecode', 'exc_info', 'excepthook', 'exec_prefix', 'executable', 'exit', 'flags', 'float_info', 'float_repr_style', 'get_asyncgen_hooks', 'get_coroutine_origin_tracking_depth', 'getallocatedblocks', 'getcheckinterval', 'getdefaultencoding', 'getfilesystemencodeerrors', 'getfilesystemencoding', 'getprofile', 'getrecursionlimit', 'getrefcount', 'getsizeof', 'getswitchinterval', 'gettrace', 'getwindowsversion', 'hash_info', 'hexversion', 'implementation', 'int_info', 'intern', 'is_finalizing', 'last_traceback', 'last_type', 'last_value', 'maxsize', 'maxunicode', 'meta_path', 'modules', 'path', 'path_hooks', 'path_importer_cache', 'platform', 'prefix', 'ps1', 'ps2', 'ps3', 'pycache_prefix', 'set_asyncgen_hooks', 'set_coroutine_origin_tracking_depth', 'setcheckinterval', 'setprofile', 'setrecursionlimit', 'setswitchinterval', 'settrace', 'stderr', 'stdin', 'stdout', 'thread_info', 'unraisablehook', 'version', 'version_info', 'warnoptions', 'winver']\n",
      "------------------------------------------------\n",
      "['C:\\\\datastudy\\\\pythonwork\\\\basic', 'C:\\\\anaconda3\\\\python38.zip', 'C:\\\\anaconda3\\\\DLLs', 'C:\\\\anaconda3\\\\lib', 'C:\\\\anaconda3', '', 'C:\\\\anaconda3\\\\lib\\\\site-packages', 'C:\\\\anaconda3\\\\lib\\\\site-packages\\\\locket-0.2.1-py3.8.egg', 'C:\\\\anaconda3\\\\lib\\\\site-packages\\\\win32', 'C:\\\\anaconda3\\\\lib\\\\site-packages\\\\win32\\\\lib', 'C:\\\\anaconda3\\\\lib\\\\site-packages\\\\Pythonwin', 'C:\\\\anaconda3\\\\lib\\\\site-packages\\\\IPython\\\\extensions', 'C:\\\\Users\\\\admin\\\\.ipython']\n",
      "------------------------------------------------\n",
      "win32\n",
      "------------------------------------------------\n",
      "3.8.8 (default, Apr 13 2021, 15:08:03) [MSC v.1916 64 bit (AMD64)]\n"
     ]
    }
   ],
   "source": [
    "import sys\n",
    "\n",
    "print(dir(sys))  # sys라는 모듈 안에 있는 함수 및 변수 보기\n",
    "print(\"------------------------------------------------\")\n",
    "print(sys.path)\n",
    "print(\"------------------------------------------------\")\n",
    "print(sys.platform)  # 내 컴퓨터 운영체제\n",
    "print(\"------------------------------------------------\")\n",
    "print(sys.version)   # 파이썬 시스템 버전"
   ]
  },
  {
   "cell_type": "code",
   "execution_count": 121,
   "id": "2fb26ce3",
   "metadata": {},
   "outputs": [
    {
     "name": "stdout",
     "output_type": "stream",
     "text": [
      "['DirEntry', 'F_OK', 'MutableMapping', 'O_APPEND', 'O_BINARY', 'O_CREAT', 'O_EXCL', 'O_NOINHERIT', 'O_RANDOM', 'O_RDONLY', 'O_RDWR', 'O_SEQUENTIAL', 'O_SHORT_LIVED', 'O_TEMPORARY', 'O_TEXT', 'O_TRUNC', 'O_WRONLY', 'P_DETACH', 'P_NOWAIT', 'P_NOWAITO', 'P_OVERLAY', 'P_WAIT', 'PathLike', 'R_OK', 'SEEK_CUR', 'SEEK_END', 'SEEK_SET', 'TMP_MAX', 'W_OK', 'X_OK', '_AddedDllDirectory', '_Environ', '__all__', '__builtins__', '__cached__', '__doc__', '__file__', '__loader__', '__name__', '__package__', '__spec__', '_check_methods', '_execvpe', '_exists', '_exit', '_fspath', '_get_exports_list', '_putenv', '_unsetenv', '_wrap_close', 'abc', 'abort', 'access', 'add_dll_directory', 'altsep', 'chdir', 'chmod', 'close', 'closerange', 'cpu_count', 'curdir', 'defpath', 'device_encoding', 'devnull', 'dup', 'dup2', 'environ', 'error', 'execl', 'execle', 'execlp', 'execlpe', 'execv', 'execve', 'execvp', 'execvpe', 'extsep', 'fdopen', 'fsdecode', 'fsencode', 'fspath', 'fstat', 'fsync', 'ftruncate', 'get_exec_path', 'get_handle_inheritable', 'get_inheritable', 'get_terminal_size', 'getcwd', 'getcwdb', 'getenv', 'getlogin', 'getpid', 'getppid', 'isatty', 'kill', 'linesep', 'link', 'listdir', 'lseek', 'lstat', 'makedirs', 'mkdir', 'name', 'open', 'pardir', 'path', 'pathsep', 'pipe', 'popen', 'putenv', 'read', 'readlink', 'remove', 'removedirs', 'rename', 'renames', 'replace', 'rmdir', 'scandir', 'sep', 'set_handle_inheritable', 'set_inheritable', 'spawnl', 'spawnle', 'spawnv', 'spawnve', 'st', 'startfile', 'stat', 'stat_result', 'statvfs_result', 'strerror', 'supports_bytes_environ', 'supports_dir_fd', 'supports_effective_ids', 'supports_fd', 'supports_follow_symlinks', 'symlink', 'sys', 'system', 'terminal_size', 'times', 'times_result', 'truncate', 'umask', 'uname_result', 'unlink', 'urandom', 'utime', 'waitpid', 'walk', 'write']\n",
      "------------------------------------------------\n",
      "C:\\datastudy\\pythonwork\\basic\n"
     ]
    }
   ],
   "source": [
    "import os\n",
    "print(dir(os))\n",
    "print(\"------------------------------------------------\")\n",
    "print(os.getcwd())   # 지금 작업하고 있는 위치"
   ]
  },
  {
   "cell_type": "code",
   "execution_count": 142,
   "id": "2bd56511",
   "metadata": {},
   "outputs": [
    {
     "name": "stdout",
     "output_type": "stream",
     "text": [
      "['__builtins__', '__cached__', '__doc__', '__file__', '__loader__', '__name__', '__package__', '__spec__', 'company', 'info', 'sum']\n",
      "----------------------------------------------------\n",
      "55\n",
      "----------------------------------------------------\n",
      "키:  164\n",
      "몸무게:  55\n",
      "기타:  {'age': 24}\n",
      "회사명:  파이썬 주식회사\n"
     ]
    }
   ],
   "source": [
    "import mymodule\n",
    "\n",
    "print(dir(mymodule))\n",
    "print(\"----------------------------------------------------\")\n",
    "print(mymodule.sum(20, 35))    \n",
    "print(\"----------------------------------------------------\")\n",
    "mymodule.info(55, 164, age = 24)\n",
    "print(\"회사명: \", mymodule.company)"
   ]
  },
  {
   "cell_type": "code",
   "execution_count": 8,
   "id": "2d2bf68a",
   "metadata": {
    "scrolled": false
   },
   "outputs": [
    {
     "name": "stdout",
     "output_type": "stream",
     "text": [
      "2021-09-23 , 2021 , 9 , 23\n",
      "----------------------------------------------------\n",
      "2021-09-23 07:32:11.760987\n",
      "----------------------------------------------------\n",
      "-1 day, 0:00:00\n",
      "어제 : 2021-09-22\n",
      "8시간 전: 2021-09-22 23:32:11.760987\n",
      "----------------------------------------------------\n",
      "09/23/21\n",
      "<class 'str'>\n",
      "2021~09~23 07^32^11\n",
      "----------------------------------------------------\n",
      "<class 'str'>\n",
      "2021-05-05 11:56:57\n",
      "<class 'datetime.datetime'>\n"
     ]
    }
   ],
   "source": [
    "import datetime\n",
    "\n",
    "# 현재 날짜\n",
    "today = datetime.date.today()\n",
    "print(today, ',', today.year,',', today.month,',', today.day)\n",
    "\n",
    "print(\"----------------------------------------------------\")\n",
    "\n",
    "\n",
    "#현재 시간\n",
    "ctime = datetime.datetime.today()\n",
    "print(ctime)\n",
    "\n",
    "\n",
    "print(\"----------------------------------------------------\")\n",
    "\n",
    "\n",
    "#날짜와 시간을 계산\n",
    "mydays = datetime.timedelta(days = -1)        #날짜, 시간 등을 숫자형식으로 바꾸는 함수 ** .timedelta(식)\n",
    "print(mydays)\n",
    "print(\"어제 : {}\".format(today + mydays))\n",
    "\n",
    "myhours = datetime.timedelta(hours = -8)\n",
    "print(\"8시간 전: {}\".format(ctime + myhours))\n",
    "\n",
    "\n",
    "print(\"----------------------------------------------------\")\n",
    "\n",
    "# 날짜와 시간의 형식\n",
    "print(today.strftime(\"%m/%d/%y\"))\n",
    "print(type(today.strftime(\"%m/%d/%y\")))    # 문자열 형식\n",
    "print(ctime.strftime(\"%Y~%m~%d %H^%M^%S\"))     #기호 변경\n",
    "\n",
    "\n",
    "print(\"----------------------------------------------------\")\n",
    "\n",
    "\n",
    "# 날짜의 형식 변환\n",
    "# 날짜를 문자열로: strftime(), 문자열을 날짜로: strptime()\n",
    "\n",
    "\n",
    "str1 = \"2021-5-5 11:56:57\"\n",
    "print(type(str1))\n",
    "\n",
    "d1 = datetime.datetime.strptime(str1, \"%Y-%m-%d %H:%M:%S\")\n",
    "print(d1)\n",
    "print(type(d1))\n"
   ]
  },
  {
   "cell_type": "markdown",
   "id": "1d7f82d3",
   "metadata": {},
   "source": [
    "---\n",
    "## 파일 출력\n",
    "+ 입력: 파일 불러오기, 키보드 표준입력장치, input()\n",
    "+ 출력: 파일 저장하기, 모니터 콘솔 표준출력장치, print()\n",
    "+ I/O 관점          \n",
    "+ 2. data persistence\n",
    "+ 사용함수\n",
    "    - open(파일명(경로 포함), 모드)    : 같은 위치에 있으면 그냥 o\n",
    "        * 모드 : r(read only), w(쓰기전용), a(추가하기), rb, wb, ab   \"\"써서 쓰기\n",
    "    - close()\n",
    "    - 읽어올 때: readline(), readlines(), read()    \n",
    "        * readlines(각각 줄을 구별하여 리스트로), read(전체 데이터를 하나의 문자열로) 둘다 전체데이터 읽어온다.\n",
    "    - 저장할 때: write()\n",
    "    \n",
    "+ 보조기억장치 -> 주기억장치 : load  ,  메모리에 loading해야 cpu에서 접근 사용 가능\n",
    "+ 메모리(주기억장치) -> 보조기억장치 : save"
   ]
  },
  {
   "cell_type": "code",
   "execution_count": 1,
   "id": "9e2c7b1c",
   "metadata": {
    "scrolled": false
   },
   "outputs": [
    {
     "name": "stdout",
     "output_type": "stream",
     "text": [
      "<_io.TextIOWrapper name='mymodule.py' mode='r' encoding='cp949'>\n",
      "def sum(num1, num2):\n",
      "\n",
      "<class 'str'>\n",
      "\n",
      "    return hap \n",
      "\n",
      "    \n",
      "\n",
      " \n",
      "\n",
      "def info(weight, height, **other):\n",
      "\n",
      "    print(\"키: \", height)\n",
      "\n",
      "    print(\"몸무게: \", weight)\n",
      "\n",
      "    print(\"기타: \", other)\n",
      "\n",
      "    \n",
      "\n",
      "company = \"파이썬 주식회사\"\n"
     ]
    }
   ],
   "source": [
    "f = open(\"mymodule.py\",\"r\")      #메모리에 load하는 것, load후 메모리에 주소 올라가는데, 이를 저장해놓을 변수 필요, 변수에 저장하기\n",
    "print(f)   #메모리 주소, 위치\n",
    "\n",
    "print(f.readline())     #이 때 notepad++의 파일 인코딩을 ANSI로 바꿔야 맞춰짐\n",
    "print(type(f.readline()))\n",
    "\n",
    "print()\n",
    "\n",
    "\n",
    "\n",
    "while True:\n",
    "    line = f.readline()\n",
    "    \n",
    "    if line == \"\":    ## if not line   ## if line ==''\n",
    "        break\n",
    "    print(line)   \n",
    "\n",
    "\n",
    "\n"
   ]
  },
  {
   "cell_type": "code",
   "execution_count": 3,
   "id": "a5d9cae0",
   "metadata": {},
   "outputs": [
    {
     "name": "stdout",
     "output_type": "stream",
     "text": [
      "abcd\n",
      "dfasdg\n",
      "glflfl\n",
      "1234455\n",
      "랄랄랄라\n",
      "즐거운\n",
      "오늘\n",
      "랄라랄\n"
     ]
    }
   ],
   "source": [
    "f = open(\"C:\\\\datastudy\\\\pythonwork\\\\basic\\\\data\\\\filetest1.txt\", \"r\")     #경로 특수문자화 막기 위해 \\ 하나씩 더 추가한다. \n",
    "#f = open(\"./data/filetest1.txt\", \"r\")           # 또는 |하나로 바꿈,   # .는 현재 위치를 나타낸다.  ## 상위폴더는 .. 아마도(?)\n",
    "#f = open(\"data/filetest1.txt\", \"r\")\n",
    "\n",
    "\n",
    "while True:\n",
    "    line = f.readline()\n",
    "    \n",
    "    if line == \"\":    ## if not line   ## if line ==''\n",
    "        break\n",
    "    print(line, end = \"\")   \n",
    "\n",
    "f.close()       # open했으면 close하기!"
   ]
  },
  {
   "cell_type": "code",
   "execution_count": 2,
   "id": "ad5140fd",
   "metadata": {},
   "outputs": [
    {
     "name": "stdout",
     "output_type": "stream",
     "text": [
      "['abcd\\n', 'dfasdg\\n', 'glflfl\\n', '1234455\\n', '랄랄랄라\\n', '즐거운\\n', '오늘\\n', '랄라랄\\n']\n"
     ]
    }
   ],
   "source": [
    "f = open(\"data/filetest1.txt\", \"r\")\n",
    "\n",
    "lines = f.readlines()                #전체 데이터를 '리스트에' 담아 온다.\n",
    "print(lines)\n",
    "\n",
    "f.close()"
   ]
  },
  {
   "cell_type": "code",
   "execution_count": 26,
   "id": "f2275484",
   "metadata": {},
   "outputs": [
    {
     "name": "stdout",
     "output_type": "stream",
     "text": [
      "abcd\n",
      "dfasdg\n",
      "glflfl\n",
      "1234455\n",
      "랄랄랄라\n",
      "즐거운\n",
      "오늘\n",
      "랄라랄\n",
      "\n",
      "<class 'str'>\n"
     ]
    }
   ],
   "source": [
    "f = open(\"data/filetest1.txt\", \"r\")\n",
    "\n",
    "data = f.read()\n",
    "print(data)\n",
    "print(type(data))\n",
    "\n",
    "\n",
    "f.close()"
   ]
  },
  {
   "cell_type": "code",
   "execution_count": 11,
   "id": "bb58fa00",
   "metadata": {},
   "outputs": [
    {
     "name": "stdout",
     "output_type": "stream",
     "text": [
      "1 : abcd\n",
      "2 : dfasdg\n",
      "3 : glflfl\n",
      "4 : 1234455\n",
      "5 : 랄랄랄라\n",
      "6 : 즐거운\n",
      "7 : 오늘\n",
      "8 : 랄라랄\n",
      "------------------------------------------------\n",
      "['abcd', 'dfasdg', 'glflfl', '1234455', '랄랄랄라', '즐거운', '오늘', '랄라랄', '']\n",
      "1 : abcd\n",
      "2 : dfasdg\n",
      "3 : glflfl\n",
      "4 : 1234455\n",
      "5 : 랄랄랄라\n",
      "6 : 즐거운\n",
      "7 : 오늘\n",
      "8 : 랄라랄\n",
      "9 : \n"
     ]
    }
   ],
   "source": [
    "##### 문제\n",
    "\"\"\"\n",
    "1: abcd\n",
    "2: efgh\n",
    "3: ijk~~~\n",
    "\n",
    "줄번호 붙히기\n",
    "\n",
    "\"\"\"\n",
    "\n",
    "\n",
    "f = open(\"data/filetest1.txt\", \"r\")\n",
    "\n",
    "lines = f.readlines()               \n",
    "#print(lines)\n",
    "\n",
    "for i, v in enumerate(lines, start = 1):\n",
    "    print(i, \":\",v, end = \"\")\n",
    "    \n",
    "    \n",
    "    \n",
    "print(\"------------------------------------------------\")  \n",
    "    \n",
    "\n",
    "# 다른 풀이\n",
    "\n",
    "f = open(\"data/filetest1.txt\", \"r\")\n",
    "\n",
    "data = f.read()\n",
    "sdata = data.split(\"\\n\")\n",
    "#print(sdata)\n",
    "\n",
    "\n",
    "\n",
    "cnt = 1\n",
    "\n",
    "for line in sdata:\n",
    "    print(cnt, \":\", line)\n",
    "    cnt += 1\n",
    "    \n",
    "    \n"
   ]
  },
  {
   "cell_type": "code",
   "execution_count": 25,
   "id": "4e6dcf19",
   "metadata": {},
   "outputs": [
    {
     "name": "stdout",
     "output_type": "stream",
     "text": [
      "1 : \n"
     ]
    }
   ],
   "source": [
    "sdata = data.split(\"\\n\")\n",
    "#print(sdata)\n",
    "cnt = 1\n",
    "\n",
    "for line in sdata:\n",
    "    print(cnt, \":\", line)\n",
    "    cnt += 1"
   ]
  },
  {
   "cell_type": "code",
   "execution_count": 41,
   "id": "82156014",
   "metadata": {},
   "outputs": [],
   "source": [
    "f = open(\"data/filetest2.txt\", \"w\")           # 쓰기 용도 \"w\"로 불러올 때 파일이 없으면 자동으로 새로만들어준다.\n",
    "\n",
    "f.write(\"이름: 홍길동, \")\n",
    "f.write(\"phone:010-0101-0101, \")\n",
    "f.write(\"주소: 서울시 강남구 \\n\")\n",
    "\n",
    "f.write(\"이름: 제니, \")\n",
    "f.write(\"phone:010-0202-0202, \")\n",
    "f.write(\"주소: 서울시 강북구 \\n\")\n",
    "\n",
    "f.close()"
   ]
  },
  {
   "cell_type": "code",
   "execution_count": 43,
   "id": "1770fc88",
   "metadata": {},
   "outputs": [],
   "source": [
    "f = open(\"data/filetest2.txt\", \"a\")     #이미 파일 있는데 write 하면 기존 데이터 다 사라지로 덮어씌워진다.\n",
    "\n",
    "f.write(\"이름: 리사, \")\n",
    "f.write(\"phone:010-0303-0303, \")\n",
    "f.write(\"주소: 광주광역시 방구 \\n\")\n",
    "\n",
    "f.write(\"이름: 창민, \")\n",
    "f.write(\"phone:010-0202-0202, \")\n",
    "f.write(\"주소: 경기도 안양 \\n\")\n",
    "\n",
    "f.close()"
   ]
  },
  {
   "cell_type": "code",
   "execution_count": 46,
   "id": "9e848ab2",
   "metadata": {},
   "outputs": [],
   "source": [
    "nums = [22,13,45,66,33,78,92]   \n",
    "\n",
    "f = open(\"data/filetest3.txt\", \"w\")\n",
    "\n",
    "f.write(str(nums))\n",
    "\n",
    "f.close()"
   ]
  },
  {
   "cell_type": "code",
   "execution_count": 49,
   "id": "3158ee42",
   "metadata": {},
   "outputs": [],
   "source": [
    "#### CSV형식으로 저장: 콤마로 구분하는 형식\n",
    "\n",
    "f = open(\"data/filetest3.txt\", \"w\")\n",
    "\n",
    "\n",
    "cnt = len(nums)\n",
    "for i in range(cnt):\n",
    "    if( i < cnt - 1):   \n",
    "        f.write(str(nums[i])+ \",\")\n",
    "    else:\n",
    "        f.write(str(nums[i]))\n",
    "    \n",
    "f.close()"
   ]
  },
  {
   "cell_type": "code",
   "execution_count": 55,
   "id": "195a31c3",
   "metadata": {},
   "outputs": [],
   "source": [
    "# 간단 python의 장점\n",
    "\n",
    "f = open(\"data/filetest3.txt\", \"w\")\n",
    "\n",
    "f.write(\",\".join([str(i) for i in nums]))             #join : 특정 문자 기준으로 합치기\n",
    "\n",
    "f.close()"
   ]
  },
  {
   "cell_type": "code",
   "execution_count": 61,
   "id": "0ddae577",
   "metadata": {},
   "outputs": [
    {
     "name": "stdout",
     "output_type": "stream",
     "text": [
      "['1-markdown.ipynb', '2-변수와 자료형.ipynb', '3-제어문.ipynb', '4-함수.ipynb', 'practice.ipynb', 'Question.ipynb']\n"
     ]
    }
   ],
   "source": [
    "##### 동시에 여러 개의 파일을 읽어오는 방법\n",
    "\n",
    "\n",
    "import glob\n",
    "\n",
    "#files = glob.glob(\"*\")    #현재 위치의 모든 것을 가져온다.\n",
    "#files = glob.glob(\"*.*\")   #현재 위치의 폴더는 빼고, 파일만 가져온다! (확장자 있는 것)\n",
    "files = glob.glob(\"*.ipynb\") \n",
    "\n",
    "print(files)\n",
    "\n"
   ]
  },
  {
   "cell_type": "code",
   "execution_count": null,
   "id": "fb96ba6f",
   "metadata": {},
   "outputs": [],
   "source": []
  }
 ],
 "metadata": {
  "kernelspec": {
   "display_name": "Python 3",
   "language": "python",
   "name": "python3"
  },
  "language_info": {
   "codemirror_mode": {
    "name": "ipython",
    "version": 3
   },
   "file_extension": ".py",
   "mimetype": "text/x-python",
   "name": "python",
   "nbconvert_exporter": "python",
   "pygments_lexer": "ipython3",
   "version": "3.8.8"
  }
 },
 "nbformat": 4,
 "nbformat_minor": 5
}
