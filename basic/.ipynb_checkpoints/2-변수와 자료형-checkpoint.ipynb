{
 "cells": [
  {
   "cell_type": "markdown",
   "id": "5621396b",
   "metadata": {},
   "source": [
    "## 1. 변수(Variable)의 정의\n",
    "    - 임시 기억(저장)공간...주기억장치(RAM)은 휘발성\n",
    "     \n",
    "## 2. 변수의 특징\n",
    " - 묵시적 선언\n",
    " - 동적 바인딩 (실행할 때 형식이 결정)\n",
    " - immutable(불변성. 값이 있는 주소를 저장)\n",
    " - 수정 가능성에 대한 분류\n",
    "     + 수정 불가능:  int, float, str, bool, tuple\n",
    "     + 수정 가능: list, dict, set"
   ]
  },
  {
   "cell_type": "code",
   "execution_count": 12,
   "id": "b55d3ab7",
   "metadata": {},
   "outputs": [
    {
     "name": "stdout",
     "output_type": "stream",
     "text": [
      "10\n",
      "11\n",
      "3.14\n",
      "Hi, Hello\n",
      "Hi, Hello\n",
      "True\n"
     ]
    }
   ],
   "source": [
    "a = 10 \n",
    "print(a)\n",
    "\n",
    "a = 11\n",
    "print(a)\n",
    "\n",
    "a = 3.14\n",
    "print(a) \n",
    "\n",
    "a = \"Hi, Hello\"\n",
    "print(a)\n",
    "\n",
    "#a= 3\n",
    "print(a)\n",
    "\n",
    "a = True \n",
    "print(a)"
   ]
  },
  {
   "cell_type": "markdown",
   "id": "abb483e8",
   "metadata": {},
   "source": [
    "## 3.  Data type: 자료형\n",
    "\n",
    "+ 종류\n",
    "    1. 기본 자료형 (하나의 데이터만 사용 가능)...immutable(변경불가능)\n",
    "        * int\n",
    "        * float\n",
    "        * str  (중요)\n",
    "        * bool\n",
    "    \n",
    "    2. 집합 자료형 (여러 개의 데이터 사용 가능) !!! \n",
    "        * list\n",
    "        * tuple\n",
    "        * dict\n",
    "        * set"
   ]
  },
  {
   "cell_type": "code",
   "execution_count": 14,
   "id": "9f0707a5",
   "metadata": {},
   "outputs": [
    {
     "name": "stdout",
     "output_type": "stream",
     "text": [
      "<class 'int'>\n",
      "<class 'float'>\n"
     ]
    }
   ],
   "source": [
    "a = 10\n",
    "print(type(a))\n",
    "\n",
    "a = 3.14\n",
    "print(type(a))"
   ]
  },
  {
   "cell_type": "markdown",
   "id": "77481bd5",
   "metadata": {},
   "source": [
    "### (1) str"
   ]
  },
  {
   "cell_type": "code",
   "execution_count": 29,
   "id": "041f74c3",
   "metadata": {},
   "outputs": [
    {
     "name": "stdout",
     "output_type": "stream",
     "text": [
      "<class 'int'>\n",
      "<class 'str'>\n",
      "안녕 나는 윤하입니다\n",
      "제 이름은 \"기윤하\"라고 합니다\n",
      "안녕하세요\n",
      "    제 이름은 기윤하입니다.\n",
      "    만나서 반갑습니다~.\n"
     ]
    }
   ],
   "source": [
    "#문자열 저장, 주석!!! (code에서는 주석 != markdown에서는 글자크기)\n",
    "#코드에 적절한 주석은 반드시 필수적이다. but  너무 당연한 것은 하지 않음\n",
    "\n",
    "a = 10\n",
    "print(type(a))\n",
    "\n",
    "a = '10'\n",
    "print(type(a))\n",
    "\n",
    "a = '안녕 나는 윤하입니다'\n",
    "print(a)\n",
    "\n",
    "a = '제 이름은 \"기윤하\"라고 합니다'\n",
    "print(a)\n",
    "\n",
    "\n",
    "a = \"\"\"안녕하세요\n",
    "    제 이름은 기윤하입니다.\n",
    "    만나서 반갑습니다~.\"\"\"\n",
    "print(a)"
   ]
  },
  {
   "cell_type": "code",
   "execution_count": 46,
   "id": "610f8568",
   "metadata": {},
   "outputs": [
    {
     "name": "stdout",
     "output_type": "stream",
     "text": [
      "이것은 파이썬입니다. \n",
      "열심히 공부합시다.\n",
      "이것은 파이썬입니다. \\n열심히 공부합시다.\n",
      "\n",
      "여기서부터 \n",
      "\n",
      "두번 줄바꿈을 해보겠습니다.\n",
      "현재 시간은 \t4시 입니다\n",
      "\"\\t는 탭키의 기능이다.\"\n"
     ]
    }
   ],
   "source": [
    "## 특수문자(제어 문자) :\\문자 ...  \\(escape문자)  (\\n,\\t)주로 출력 모양을 조정\n",
    "\n",
    "a = '이것은 파이썬입니다. \\n열심히 공부합시다.'\n",
    "print(a)\n",
    "\n",
    "a = '이것은 파이썬입니다. \\\\n열심히 공부합시다.'  #기능 해제\n",
    "print(a)\n",
    "\n",
    "a = '\\n여기서부터 \\n\\n두번 줄바꿈을 해보겠습니다.' \n",
    "print(a)\n",
    "\n",
    "a = '현재 시간은 \\t4시 입니다'  #탭 키 기능\n",
    "print(a)\n",
    "\n",
    "\n",
    "#문제:  \"\\t는 탭키의 기능이다.\"\n",
    "a = '\"\\\\t는 탭키의 기능이다.\"'   #또는 print(\"\\\"\\\\t는  ~ \")\n",
    "print(a)\n"
   ]
  },
  {
   "cell_type": "code",
   "execution_count": 49,
   "id": "f9e3be16",
   "metadata": {},
   "outputs": [
    {
     "name": "stdout",
     "output_type": "stream",
     "text": [
      "10 + 2 - 3 + 5 * 2\n"
     ]
    }
   ],
   "source": [
    "###  \\를 줄바꿈의 용도로 사용, 결과상으로는 이어지지만 코드는 다음 줄에 이어진다.\n",
    "\n",
    "a = \"10 + 2 - 3 \\\n",
    "+ 5 * 2\"\n",
    "print(a)"
   ]
  },
  {
   "cell_type": "code",
   "execution_count": 54,
   "id": "8a806a6e",
   "metadata": {},
   "outputs": [
    {
     "name": "stdout",
     "output_type": "stream",
     "text": [
      "('python', ' is fun', ' and great')\n",
      "python is fun and great\n"
     ]
    }
   ],
   "source": [
    "### 문자열을 연결하기\n",
    "\n",
    "a = \"python\"\n",
    "b = \" is fun\"\n",
    "c = \" and great\"\n",
    "\n",
    "d = a, b, c\n",
    "print(d)\n",
    "\n",
    "d = a + b + c\n",
    "print(d)"
   ]
  },
  {
   "cell_type": "code",
   "execution_count": 56,
   "id": "a834850a",
   "metadata": {},
   "outputs": [
    {
     "name": "stdout",
     "output_type": "stream",
     "text": [
      "pythonpythonpython\n"
     ]
    }
   ],
   "source": [
    "#### 문자열 곱하기(반복)\n",
    "\n",
    "print(a * 3)"
   ]
  },
  {
   "cell_type": "code",
   "execution_count": 57,
   "id": "579fcb2d",
   "metadata": {},
   "outputs": [
    {
     "name": "stdout",
     "output_type": "stream",
     "text": [
      "6\n",
      "7\n",
      "10\n"
     ]
    }
   ],
   "source": [
    "### 문자열의 길이\n",
    "\n",
    "print(len(a))\n",
    "print(len(b))\n",
    "print(len(c))"
   ]
  },
  {
   "cell_type": "code",
   "execution_count": 69,
   "id": "7aaa5a4a",
   "metadata": {},
   "outputs": [
    {
     "name": "stdout",
     "output_type": "stream",
     "text": [
      "e\n",
      "34\n",
      "-------------------\n",
      "n\n",
      "n\n"
     ]
    }
   ],
   "source": [
    "### 인덱싱(indexing)  : 원하는 문자에 접근할 수 있는 방법\n",
    "\n",
    "a = \"Life is too short, You need python\"\n",
    "\n",
    "print(a[3])\n",
    "print(len(a))\n",
    "\n",
    "print(\"-------------------\")\n",
    "print(a[-1])\n",
    "print(a[len(a)-1])    #len-1 하면 맨 뒤 (33번째)"
   ]
  },
  {
   "cell_type": "code",
   "execution_count": 74,
   "id": "75d7b414",
   "metadata": {},
   "outputs": [
    {
     "name": "stdout",
     "output_type": "stream",
     "text": [
      "Life i\n",
      "Life i\n",
      "s too short, You need python\n",
      "Life is too short, You need python\n",
      "You need\n"
     ]
    }
   ],
   "source": [
    "### 슬라이싱(slicing) -> [시작위치 : 끝위치] ...끝위치의 바로 앞인 (n-1)까지 출력! -일때 주의\n",
    "\n",
    "print(a[0:6])\n",
    "print(a[:6])\n",
    "print(a[6:])\n",
    "print(a[:])\n",
    "print(a[19:-7])    # 실제 출력은 -7-1임을 주의"
   ]
  },
  {
   "cell_type": "code",
   "execution_count": 77,
   "id": "f683c641",
   "metadata": {
    "scrolled": true
   },
   "outputs": [
    {
     "name": "stdout",
     "output_type": "stream",
     "text": [
      "Life is too short, You need python\n",
      "Lf stosot o edpto\n",
      "nohtyp deen uoY ,trohs oot si efiL\n"
     ]
    }
   ],
   "source": [
    "#### [시작위치 : 끝위치 : step]\n",
    "\n",
    "print(a[::1]) #1칸씩 건너뛰어서 접근\n",
    "print(a[::2])\n",
    "print(a[::-1]) #뒤부터 거꾸로 접근"
   ]
  },
  {
   "cell_type": "code",
   "execution_count": 79,
   "id": "c0940482",
   "metadata": {},
   "outputs": [
    {
     "data": {
      "text/plain": [
       "'i'"
      ]
     },
     "execution_count": 79,
     "metadata": {},
     "output_type": "execute_result"
    }
   ],
   "source": [
    "#### 수정 불가\n",
    "\n",
    "a = 'pithon'   \n",
    "# a[1] = 'y' 수정 불가! 에러 뜬다.\n"
   ]
  },
  {
   "cell_type": "code",
   "execution_count": 49,
   "id": "9baa3a6f",
   "metadata": {},
   "outputs": [
    {
     "name": "stdout",
     "output_type": "stream",
     "text": [
      "23\n",
      "3\n",
      "-----------------------------------------------------------------\n",
      "a,b,c,d,e,f,g\n",
      "a-b-c-d-e-f-g\n",
      "-----------------------------------------------------------------\n",
      "['홍길동', ' 홍경래', ' 홍장군', ' 임경업', ' 신돌석']\n",
      "-----------------------------------------------------------------\n",
      "1 21 -1\n",
      "1 -1\n",
      "-----------------------------------------------------------------\n",
      "python\n",
      "               pytho\n",
      "ytho\n",
      "python\n",
      "홍길동 홍경래 홍장군 임경업 신돌석\n",
      "-----------------------------------------------------------------\n",
      "Hello, Python!\n",
      "123456789\n",
      "1이3사5육칠팔구\n"
     ]
    }
   ],
   "source": [
    "#### 문자열 관련 함수\n",
    "\n",
    "# count: 특정 데이터의 갯수\n",
    "\n",
    "str1 = \"홍길동, 홍경래, 홍장군, 임경업, 신돌석\"\n",
    "\n",
    "print(len(str1))\n",
    "print(str1.count(\"홍\"))\n",
    "\n",
    "\n",
    "print(\"-----------------------------------------------------------------\")\n",
    "\n",
    "\n",
    "# join()\n",
    "str1 = \"abcdefg\"\n",
    "print(\",\".join(str1))  #csv형태에서 ,로 데이터 구분 많이 해놓는다.\n",
    "print(\"-\".join(str1))\n",
    "\n",
    "\n",
    "print(\"-----------------------------------------------------------------\")\n",
    "\n",
    "\n",
    "# split()    \n",
    "str1 = \"홍길동, 홍경래, 홍장군, 임경업, 신돌석\"\n",
    "print(str1.split(\",\"))     # ,기준으로 5개 문자열로 나눠서 나온다.\n",
    "\n",
    "\n",
    "print(\"-----------------------------------------------------------------\")\n",
    "\n",
    " \n",
    "#find(), index()          #찾고자 하는 문자의 위치 반환\n",
    "print(str1.find(\"길\"), str1.find(\"돌\"), str1.find(\"별\"))   #없는 문자 찾으면 -`\n",
    "print(str1.index(\"길\"), str1.find(\"별\"))     #없는 문자 찾으면 에러\n",
    "\n",
    "\n",
    "print(\"-----------------------------------------------------------------\")\n",
    "\n",
    "\n",
    "#lsrtip(), rstrip(), strip()   #왼쪽, 오른쪽, 양쪽에 있는 특정 문자 제거(공백제거시)\n",
    "str1 = \"               python\"\n",
    "\n",
    "print(str1.lstrip())\n",
    "print(str1.rstrip(\"n\"))\n",
    "print(str1.strip(\"p , n\"))\n",
    "\n",
    "str1 = \"python.,\"\n",
    "print(str1.rstrip(\".,\"))\n",
    "\n",
    "\n",
    "#문제\n",
    "str1 = \"홍길동, 홍경래, 홍장군, 임경업, 신돌석\"\n",
    "a = (str1.split(\",\"))\n",
    "print(a[0], (a[1]).lstrip(), (a[2]).lstrip(), (a[3]).lstrip(), (a[4]).lstrip())\n",
    "\n",
    "\n",
    "print(\"-----------------------------------------------------------------\")\n",
    "\n",
    "\n",
    "# replace(), [maketrans(), translate()]\n",
    "str1 = \"Hello, World!\"\n",
    "print(str1.replace(\"World\" , \"Python\"))\n",
    "\n",
    "str1 = \"일이삼사오육칠팔구\"\n",
    "print(str1.replace(\"일이삼사오육칠팔구\" , \"123456789\"))\n",
    "print(str1.translate(str1.maketrans(\"일삼오\" , \"135\")))    #문자열 중간도 바꿀수 있다."
   ]
  },
  {
   "cell_type": "code",
   "execution_count": 116,
   "id": "548c9407",
   "metadata": {},
   "outputs": [
    {
     "name": "stdout",
     "output_type": "stream",
     "text": [
      "현재 온도는 15degree 입니다. 그리고 오늘의 날씨는 맑음입니다.\n",
      " \n",
      "나눗셈의 결과 : 3 / 5 = 0.600000\n",
      "  나눗셈의 결과 : 3 / 5 = 0.600000\n",
      "나눗셈  의 결과 : 3 / 5 = 0.600000\n",
      "나눗셈  의 결과 : 3 / 5 = 0.60\n",
      "나눗셈의 결과 : 3 / 5 = 0.6 입니다.\n",
      "5의 결과 : 나눗셈 3 / = 0.6 입니다.\n",
      "나눗셈의 결과 : 3 / 5 = 0.6 입니다.\n",
      "*********5의 결과 : 나눗셈 3 / = 0.60 입니다.\n"
     ]
    }
   ],
   "source": [
    "#### 문자열 포맷팅 : %, format()\n",
    "\n",
    "### %를 이용하는 방법\n",
    "print(\"현재 온도는 %ddegree 입니다. 그리고 오늘의 날씨는 %s입니다.\\n \"  %(15 ,\"맑음\"))\n",
    "\n",
    "#문제 __ 나눗셈의 결과:  3 / 5 = 0.6 입니다.\n",
    "print(\"%s의 결과 : %d %c %d = %f\"  %(\"나눗셈\", 3, \"/\", 5, (3/5)))\n",
    "print(\"%5s의 결과 : %d %c %d = %f\"  %(\"나눗셈\", 3, \"/\", 5, (3/5)))   #글자위치위해 %뒤에 숫자 삽입\n",
    "print(\"%-5s의 결과 : %d %c %d = %f\"  %(\"나눗셈\", 3, \"/\", 5, (3/5)))   #왼쪽 정렬\n",
    "print(\"%-5s의 결과 : %d %c %d = %0.2f\"  %(\"나눗셈\", 3, \"/\", 5, (3/5)))  #소수점 둘쨋자리까지 표시\n",
    "\n",
    "\n",
    "### format()을 사용하는 방법\n",
    "print(\"{}의 결과 : {} {} {} = {} 입니다.\" .format(\"나눗셈\", 3, \"/\", 5, (3/5)))  #함수이므로 .format 으로 사용함\n",
    "print(\"{3}의 결과 : {0} {1} {2} = {4} 입니다.\" .format(\"나눗셈\", 3, \"/\", 5, (3/5)))   #{}안에 순서 지정\n",
    "print(\"{title}의 결과 : {num1} {operator} {num2} = {result} 입니다.\"\n",
    "      .format(num1 = 3, title = \"나눗셈\", operator = \"/\", num2 = 5, result = (3/5)))   #변수 이름 지정\n",
    "\n",
    "print(\"{3:*>10}의 결과 : {0} {1} {2} = {4:0.2f} 입니다.\" .format(\"나눗셈\", 3, \"/\", 5, (3/5)))\n",
    "      # 위치:자릿수 생성,   \n",
    "      # < 왼쪽정렬, > 오른쪽 정렬\n",
    "      # * : 빈 공간 채우기, 모양꾸미기 용도\n",
    "      # 0.2f 소숫점 2쨋자리까지 표시\n",
    "\n"
   ]
  },
  {
   "cell_type": "markdown",
   "id": "d0b45536",
   "metadata": {},
   "source": [
    "----------\n",
    "\n",
    "### (2) bool"
   ]
  },
  {
   "cell_type": "code",
   "execution_count": 132,
   "id": "dafb04b0",
   "metadata": {},
   "outputs": [
    {
     "name": "stdout",
     "output_type": "stream",
     "text": [
      "False\n",
      "<class 'bool'>\n",
      "-------------------------------------------------------\n",
      "True True True False False\n",
      "True True False\n",
      "False\n"
     ]
    }
   ],
   "source": [
    "a = False\n",
    "print(a)\n",
    "print(type(a))\n",
    "\n",
    "print(\"-------------------------------------------------------\")\n",
    "\n",
    "print(bool(10), bool(3.14), bool(-2), bool(0), bool(-0))    #0제외 모든 수는 다 true\n",
    "print(bool(\"가\"), bool(' '), bool(''))   #공백은 (문자)참, 값이 없는 것은 거짓\n",
    "\n",
    "a = None\n",
    "print(bool(a))"
   ]
  },
  {
   "cell_type": "markdown",
   "id": "5242a712",
   "metadata": {},
   "source": [
    "### (3) list\n",
    "+ [     ] 사용\n",
    "+ 임의의 객체를 순차적으로 저장하는 집합적 자료형 (Sequence Data) \n",
    "+ 인덱스 사용\n",
    "+ mutable (수정 가능)"
   ]
  },
  {
   "cell_type": "code",
   "execution_count": 141,
   "id": "0536f644",
   "metadata": {},
   "outputs": [
    {
     "name": "stdout",
     "output_type": "stream",
     "text": [
      "<class 'int'> <class 'list'>\n",
      "10\n",
      "[10, 11, 12]\n",
      "10 11\n",
      "3.14\n"
     ]
    }
   ],
   "source": [
    "#a = 10\n",
    "#b = 11\n",
    "#c = 12\n",
    "\n",
    "a, b, c = 10, 11, 12   #기본자료형- int\n",
    "\n",
    "d= [10, 11, 12]   #집합자료형- list\n",
    "\n",
    "print(type(a), type(d))\n",
    "print(a)\n",
    "\n",
    "print(d)\n",
    "print(d[0], d[1])\n",
    "\n",
    "e = [\"james\", 178, 3.14, True]  #파이썬에서 가장 많이 쓰는 자료형 list\n",
    "print(e[2])"
   ]
  },
  {
   "cell_type": "code",
   "execution_count": 146,
   "id": "8b04cf96",
   "metadata": {},
   "outputs": [
    {
     "name": "stdout",
     "output_type": "stream",
     "text": [
      "b\n",
      "b\n",
      "3\n"
     ]
    }
   ],
   "source": [
    "#### indexing\n",
    "\n",
    "a = [1, 2, 3, \"가\", 3.14, ['a', 'b', 'c']]\n",
    "print(a[5][1])  \n",
    "print(a[-1][-2])\n",
    "print(a.index(\"가\"))"
   ]
  },
  {
   "cell_type": "code",
   "execution_count": 9,
   "id": "61a8479d",
   "metadata": {},
   "outputs": [
    {
     "name": "stdout",
     "output_type": "stream",
     "text": [
      "[10, 2, 3, 4, 5] [10, 2, 3, 4, 5]\n",
      "-------------------------------------------------------\n",
      "[1, 2, 3, 4, 5] [100, 2, 3, 4, 5]\n"
     ]
    }
   ],
   "source": [
    "#### 복사(얕은 복사, 깊은 복사)\n",
    "\n",
    "a = [1, 2, 3, 4, 5]\n",
    "\n",
    "b = a    #데이터는 그대로 하나, b는 a가 가르키는 주소만 복사한다. : 얕은 복사\n",
    "b[0] = 10\n",
    "print(a, b)   #b의 원소를 바꿨지만 결국 가르키는 데이터는 하나, 같으므로 a출력해도 바뀐다.\n",
    "\n",
    "\n",
    "print(\"-------------------------------------------------------\")\n",
    "\n",
    "a = [1, 2, 3, 4, 5]\n",
    "\n",
    "b = a[0:5]  #a가 가르키는 주소에 있는 데이터 자체를 복사해 b에 담는다 : 깊은 복사\n",
    "            #b = a[:]\n",
    "\n",
    "b[0] = 100\n",
    "print(a, b)  #n-1까지이므로 0:4 가 아니라 0:5로 써야 인덱스 4까지 된다.\n",
    "            #데이터 자체를 새로 복사해서 (b에)담았으므로 b의 원소를 바꾸면 a는 영향 없음\n",
    "    \n",
    "    \n"
   ]
  },
  {
   "cell_type": "code",
   "execution_count": 10,
   "id": "8fefd639",
   "metadata": {},
   "outputs": [
    {
     "name": "stdout",
     "output_type": "stream",
     "text": [
      "<class 'list'>\n"
     ]
    }
   ],
   "source": [
    "#### list의 생성\n",
    "\n",
    "a = []\n",
    "a = list()  #정식 표기\n",
    "\n",
    "print(type(a))\n"
   ]
  },
  {
   "cell_type": "code",
   "execution_count": 1,
   "id": "2dd48210",
   "metadata": {},
   "outputs": [
    {
     "name": "stdout",
     "output_type": "stream",
     "text": [
      "10 <class 'int'>\n",
      "10 <class 'str'>\n",
      "10.0 <class 'float'>\n",
      "True <class 'bool'>\n",
      "\n",
      "\n",
      "['1', '0'] <class 'list'>\n",
      "['10'] <class 'list'>\n",
      "\n",
      "\n",
      "['가나'] <class 'list'>\n"
     ]
    }
   ],
   "source": [
    "#### 각 자료형 함수(참고사항)\n",
    "\n",
    "a = '10'\n",
    "print(int(a), type(int(a)))   #문자 10 -> 정수 10으로 변환\n",
    "print(str(a), type(str(a)))\n",
    "print(float(a), type(float(a)))\n",
    "print(bool(a), type(bool(a)))\n",
    "\n",
    "print(\"\\n\")\n",
    "\n",
    "print(list(a), type(list(a))) \n",
    "print(list([a]), type(list([a]))) \n",
    "\n",
    "print(\"\\n\")\n",
    "\n",
    "b = '가나'\n",
    "print(list([b]), type(list([b]))) \n"
   ]
  },
  {
   "cell_type": "code",
   "execution_count": 44,
   "id": "390a8563",
   "metadata": {},
   "outputs": [
    {
     "name": "stdout",
     "output_type": "stream",
     "text": [
      "[1, 2, 3]\n",
      "[0, 1, 2, 3, 4, 5, 6, 7, 8, 9]\n",
      "[0, 1, 2, 3, 4, 5, 6, 7, 8, 9, 10, 11, 12, 13, 14, 15, 16, 17, 18, 19]\n",
      "[0, 2, 4, 6, 8, 10, 12, 14, 16, 18]\n",
      "[5, 7, 9, 11]\n",
      "[-4, -3, -2, -1, 0, 1, 2, 3, 4]\n",
      "[10, 9, 8, 7, 6, 5, 4, 3, 2, 1]\n"
     ]
    }
   ],
   "source": [
    "#### list 초기화\n",
    "\n",
    "a = 10  #변수 생성 후 첫 값 : 초기화\n",
    "a = 5  #초기화 아님\n",
    "\n",
    "b = list([1,2,3])  #초기화\n",
    "print(b)\n",
    "\n",
    "c = list(range(0, 10))    #0~10까지 범위의 숫자를 생성\n",
    "print(c)\n",
    "\n",
    "c= list(range(20))\n",
    "print(d)\n",
    "\n",
    "c = list(range(0, 20, 2))  #step 설정- 2씩 띄어서\n",
    "print(c)\n",
    "\n",
    "c = list(range(5, 12, 2))\n",
    "print(c)\n",
    "\n",
    "c = list(range(-4, 5))   #n-1임을 주의\n",
    "print(c)\n",
    "\n",
    "a = list(range(10, 0, -1))\n",
    "print(a)"
   ]
  },
  {
   "cell_type": "code",
   "execution_count": 3,
   "id": "43b10d2a",
   "metadata": {},
   "outputs": [
    {
     "name": "stdout",
     "output_type": "stream",
     "text": [
      "[1, 2, 3, 4, 5, 6]\n",
      "[1, 2, 3, 1, 2, 3, 1, 2, 3]\n",
      "2 hi~~\n",
      "2  hi~~\n"
     ]
    }
   ],
   "source": [
    "#### 연산기능\n",
    "\n",
    "a = [1, 2, 3]\n",
    "b = [4, 5, 6]\n",
    "\n",
    "print(a + b) \n",
    "print(a * 3)   #값끼리의 연산 아님, 그냥 반복\n",
    "\n",
    "print(str(a[1]) +\" \" \"hi~~\")   #연결해주려면 둘 다 같은 형식이어야 함\n",
    "print(str(a[1]) ,\" \" \"hi~~\")  "
   ]
  },
  {
   "cell_type": "code",
   "execution_count": 82,
   "id": "65199d2f",
   "metadata": {},
   "outputs": [
    {
     "name": "stdout",
     "output_type": "stream",
     "text": [
      "[1, 2, 3]\n",
      "[1, 2, 100, 3]\n",
      "[1, 2, 100, 3, 4]\n",
      "[1, 2, 100, 3, 4, 5]\n",
      "[1, 2, 100, 3, 4, 5, 6, 7, 8]\n",
      "[1, 2, 100, 3, 4, 5, 6, 7, 8, [100, 200, 300]]\n"
     ]
    }
   ],
   "source": [
    "#### 추가하기 : insert(), append(), extend()\n",
    "\n",
    "a = [1, 2, 3]\n",
    "print(a)\n",
    "\n",
    "a.insert(2, 100)  #원하는 위치에 추가할 수 있음\n",
    "print(a)             # print(a.insert(2, 100))  이렇게 바로하면 안 됨\n",
    "   \n",
    "a.append(4)      # 맨 뒤에 추가\n",
    "print(a)\n",
    "\n",
    "a.extend(list([5]))  # 맨 뒤에 추가/ list모양으로 추가! (하나를 추가하더라도 리스트로)\n",
    "print(a)\n",
    "    \n",
    "a.extend(list([6, 7, 8]))  # 맨 뒤에 추가/ list모양으로 추가! (하나를 추가하더라도 리스트로)\n",
    "print(a)                   #각자 추가됨\n",
    "\n",
    "a.append([100, 200, 300])  # append 리스트로 추가하면, 리스트 통째로 추가\n",
    "print(a)\n"
   ]
  },
  {
   "cell_type": "code",
   "execution_count": 13,
   "id": "88b01e6a",
   "metadata": {},
   "outputs": [
    {
     "name": "stdout",
     "output_type": "stream",
     "text": [
      "[1, 2, 3, 4]\n",
      "[1, 2, 3, 4]\n",
      "[1, 4, 3, 2]\n",
      "[1, 2, 3, 4]\n",
      "[4, 3, 2, 1]\n"
     ]
    }
   ],
   "source": [
    "#### 정렬\n",
    "\n",
    "a = [1, 4, 3, 2]\n",
    "\n",
    "a.sort()     # a의 실제 데이터가 변경 (a가 가르키는 주소값의 데이터를 정렬)\n",
    "print(a) \n",
    "\n",
    "a = [1, 4, 3, 2]\n",
    "print(sorted(a))      # 정렬 결과를 별도로 저장, a의 실제 데이터는 불변\n",
    "\n",
    "a = sorted(a)   #a: 정렬결과가 별도로 저장된 주소를 가르킨다. \n",
    "print(a)            #원래 a가 가르키던 원본 데이터는 garbage된다\n",
    "\n",
    "\n",
    "a.reverse()\n",
    "print(a)"
   ]
  },
  {
   "cell_type": "code",
   "execution_count": 18,
   "id": "235c6cd6",
   "metadata": {},
   "outputs": [
    {
     "name": "stdout",
     "output_type": "stream",
     "text": [
      "[1, 1, 2, 3]\n",
      "[1, 3, 1, 2, 3]\n",
      "[1, 1, 2, 3]\n",
      "----------------------------------------------\n",
      "[]\n",
      "[]\n",
      "3 [1, 2]\n",
      "2 [1]\n"
     ]
    }
   ],
   "source": [
    "#### 제거\n",
    "\n",
    "# 범위를 지정해서 제거\n",
    "a = [1,2,3,1,2,3]\n",
    "a[1:3] = []\n",
    "print(a)\n",
    "\n",
    "\n",
    "# 값을 찾아서 삭제\n",
    "a = [1,2,3,1,2,3]\n",
    "a.remove(2)       #처음으로 나오는 2제거\n",
    "print(a)\n",
    "\n",
    "\n",
    "#위치를 찾아서 삭제\n",
    "del a[1]\n",
    "print(a)\n",
    "\n",
    "\n",
    "print(\"----------------------------------------------\")\n",
    "\n",
    "\n",
    "#전체 데이터 삭제\n",
    "\n",
    "a[:] = []\n",
    "print(a)\n",
    "\n",
    "\n",
    "b = [1,2,3,1,2,3]\n",
    "del b[:]               #del b 하면 변수 자체를 삭제, print(b)안된다.\n",
    "print(b)\n",
    "\n",
    "\n",
    "# stack    (잠깐 사용할 데이터 보관용도임)\n",
    "a= [1,2,3]\n",
    "b= a.pop()    #1,2,3순서로 들어갔음, 3이 먼저 나옴\n",
    "print(b, a)\n",
    "\n",
    "b = a.pop()\n",
    "print(b, a)"
   ]
  },
  {
   "cell_type": "code",
   "execution_count": 35,
   "id": "2d199262",
   "metadata": {},
   "outputs": [
    {
     "name": "stdout",
     "output_type": "stream",
     "text": [
      "3\n",
      "True\n",
      "False\n"
     ]
    }
   ],
   "source": [
    "#### 검색     :문자열에서 썼던 index()쓸 수 있다. 리스트에는 find는 없음\n",
    "\n",
    "a = [1,2,3,4,5,6]\n",
    "print(a.index(4))\n",
    "#print(a.index(7))\n",
    "\n",
    "print(3 in a)    #in 연산자: 값 있는지 없는지 확인 \n",
    "print(7 in a)"
   ]
  },
  {
   "cell_type": "markdown",
   "id": "5ca9ea10",
   "metadata": {},
   "source": [
    "---\n",
    "#### (4) tuple\n",
    "\n",
    "+ ( )사용\n",
    "+ immutable ( data를 보호하며 사용 가능)\n",
    "+ immutable 빼곤 리스트와 같다,"
   ]
  },
  {
   "cell_type": "code",
   "execution_count": 38,
   "id": "2acc57c5",
   "metadata": {},
   "outputs": [
    {
     "name": "stdout",
     "output_type": "stream",
     "text": [
      "<class 'tuple'>\n",
      "1\n",
      "4\n"
     ]
    }
   ],
   "source": [
    "a = ('a', 'b', 'c', 5, 6)\n",
    "print(type(a))\n",
    "print(a.count('c'))\n",
    "print(a.index(6))"
   ]
  },
  {
   "cell_type": "code",
   "execution_count": 45,
   "id": "9b584395",
   "metadata": {},
   "outputs": [
    {
     "name": "stdout",
     "output_type": "stream",
     "text": [
      "<class 'list'>\n",
      "('a', 'b', 'c', 5, 6)\n",
      "['a', 'b', 'c', 5, 6]\n",
      "['a', 'b', 10, 5, 6]\n",
      "('a', 'b', 10, 5, 6)\n"
     ]
    }
   ],
   "source": [
    "#a[1] = 10\n",
    "b = list(a)     #tuple -> list \n",
    "print(type(b))\n",
    "\n",
    "print(a)\n",
    "print(b)\n",
    "\n",
    "b[2] = 10    #list는 변경 가능 mutable     ***\n",
    "print(b)\n",
    "\n",
    "c = tuple(b)   #list-> tuple      **\n",
    "print(c)"
   ]
  },
  {
   "cell_type": "code",
   "execution_count": 49,
   "id": "93dfc365",
   "metadata": {},
   "outputs": [
    {
     "name": "stdout",
     "output_type": "stream",
     "text": [
      "(10, 20, 30)\n",
      "10 20 30\n"
     ]
    }
   ],
   "source": [
    "##### packing과 unpacking 자동적으로!!!  (list 와 tuple의 차이점)   ***\n",
    "\n",
    "a = 10, 20, 30     # 3개 값을 '하나의 변수에' -> tuple로 packing\n",
    "print(a)\n",
    "\n",
    "a1, a2, a3 = a     # unpacking\n",
    "print(a1, a2, a3)"
   ]
  },
  {
   "cell_type": "markdown",
   "id": "65c3a38f",
   "metadata": {},
   "source": [
    "---\n",
    "#### (5) dict (dictionary)     \n",
    "##### *매우 중요\n",
    "+ 순서가 없다. (인덱스가 없다)\n",
    "+ {키:값, 키:값, 키:값  ....}\n",
    "+ 키를 이용하여 값을 조회 \n",
    "+ 검색 목적일때만 쓰기"
   ]
  },
  {
   "cell_type": "code",
   "execution_count": 3,
   "id": "85a07f54",
   "metadata": {},
   "outputs": [
    {
     "name": "stdout",
     "output_type": "stream",
     "text": [
      "{1: '가'}\n",
      "{1: '가', 2: 'b'}\n",
      "{1: '가', 2: 'b', 0: 'a'}\n",
      "{'name': '윤하', 'tel': '111-1111', 'age': '24'}\n",
      "<class 'dict'>\n"
     ]
    }
   ],
   "source": [
    "a = {1:\"가\"}\n",
    "print(a)\n",
    "\n",
    "a[2] = 'b'\n",
    "print(a)\n",
    "\n",
    "a[0] = 'a'      # *순서, 인덱스가 없다!\n",
    "print(a)\n",
    "\n",
    "\n",
    "b = {\"name\": \"윤하\", \"tel\":'111-1111', 'age': '24'}\n",
    "print(b)\n",
    "print(type(b))"
   ]
  },
  {
   "cell_type": "code",
   "execution_count": 63,
   "id": "406292d1",
   "metadata": {},
   "outputs": [
    {
     "name": "stdout",
     "output_type": "stream",
     "text": [
      "윤하 111-1111 a\n"
     ]
    }
   ],
   "source": [
    "print(b['name'], b['tel'], a[0])     # 키를 이용하여 값 조회\n"
   ]
  },
  {
   "cell_type": "code",
   "execution_count": 5,
   "id": "62291a4e",
   "metadata": {},
   "outputs": [
    {
     "name": "stdout",
     "output_type": "stream",
     "text": [
      "dict_keys(['name', 'tel', 'age'])\n",
      "dict_values(['윤하', '111-1111', '24'])\n",
      "dict_items([('name', '윤하'), ('tel', '111-1111'), ('age', '24')])\n",
      "{'name': '윤하', 'tel': '111-1111', 'age': '24'}\n"
     ]
    }
   ],
   "source": [
    "print(b.keys())\n",
    "print(b.values())\n",
    "print(b.items())  "
   ]
  },
  {
   "cell_type": "code",
   "execution_count": 72,
   "id": "bc324bfc",
   "metadata": {},
   "outputs": [
    {
     "name": "stdout",
     "output_type": "stream",
     "text": [
      "<class 'dict_items'>\n",
      "['name', 'tel', 'age']\n",
      "<class 'list'>\n",
      "[('name', '윤하'), ('tel', '111-1111'), ('age', '24')]\n",
      "<class 'list'>\n",
      "('name', '윤하') 111-1111\n"
     ]
    }
   ],
   "source": [
    "#dict는 자동화(반복)을 위해 list형식으로 바꿔야 할 경우가 존재한다.\n",
    "\n",
    "c = b.items()\n",
    "print(type(c))     #dict와도 다른 또 하나의 자료형 dict_items\n",
    "\n",
    "c = list(b)        #dict-> list 한다면 key값만 list만 된다... ***\n",
    "print(c)\n",
    "print(type(c))\n",
    "\n",
    "c = list(b.items())   # list(tuple)  형태.....하려면 .items()를 list로!   ***\n",
    "print(c)\n",
    "print(type(c))\n",
    "\n",
    "print(c[0], c[1][1])   #list가 됐기 때문에 인덱스 사용 가능\n",
    "                    "
   ]
  },
  {
   "cell_type": "code",
   "execution_count": 74,
   "id": "92cca991",
   "metadata": {},
   "outputs": [
    {
     "name": "stdout",
     "output_type": "stream",
     "text": [
      "{'name': '홍길동', 'tel': '111-1111', 'age': '24'}\n"
     ]
    }
   ],
   "source": [
    "#### 수정 (=list)   /dict를 수정하려면? .items()를 list로 변환후 인덱스를 사용해 수정\n",
    "\n",
    "b['name'] = \"홍길동\"\n",
    "print(b)"
   ]
  },
  {
   "cell_type": "code",
   "execution_count": 75,
   "id": "bd0c02f3",
   "metadata": {},
   "outputs": [
    {
     "name": "stdout",
     "output_type": "stream",
     "text": [
      "{'name': '홍길동', 'tel': '111-1111', 'age': '24', 'hobby': ['낚시', '여행', '독서']}\n"
     ]
    }
   ],
   "source": [
    "#### 추가\n",
    "\n",
    "b[\"hobby\"] = [\"낚시\", \"여행\", \"독서\"]\n",
    "print(b)"
   ]
  },
  {
   "cell_type": "code",
   "execution_count": 76,
   "id": "ad8e107e",
   "metadata": {},
   "outputs": [
    {
     "name": "stdout",
     "output_type": "stream",
     "text": [
      "{'name': '홍길동', 'age': '24', 'hobby': ['낚시', '여행', '독서']}\n"
     ]
    }
   ],
   "source": [
    "#### 삭제 (두번 실행하면 에러난다~)   : del b[\"키값\"]\n",
    "\n",
    "del b[\"tel\"]\n",
    "print(b)"
   ]
  },
  {
   "cell_type": "code",
   "execution_count": 77,
   "id": "d44fa2e8",
   "metadata": {},
   "outputs": [
    {
     "name": "stdout",
     "output_type": "stream",
     "text": [
      "{}\n"
     ]
    }
   ],
   "source": [
    "b.clear()       #모조리 삭제\n",
    "print(b)"
   ]
  },
  {
   "cell_type": "code",
   "execution_count": 82,
   "id": "d99c4160",
   "metadata": {},
   "outputs": [
    {
     "name": "stdout",
     "output_type": "stream",
     "text": [
      "윤하\n",
      "윤하\n",
      "노래듣기\n"
     ]
    }
   ],
   "source": [
    "#### 데이터 가져오기 :get(\"key\", default)\n",
    "\n",
    "a = {\"name\": \"윤하\", \"tel\":'111-1111', 'age': '24'}\n",
    "print(a[\"name\"])\n",
    "print(a.get(\"name\"))\n",
    "\n",
    "#print(a[\"hobby\"]) 는 에러\n",
    "print(a.get(\"hobby\", \"노래듣기\"))      # get: 값이 없을 때 기본 값 설정 가능"
   ]
  },
  {
   "cell_type": "markdown",
   "id": "e6cb990a",
   "metadata": {},
   "source": [
    "---\n",
    "#### (6) set\n",
    "\n",
    "+ {} 사용\n",
    "+ 순서가 없다 (인덱스가 없다!!)\n",
    "+ 중복 불가 **\n"
   ]
  },
  {
   "cell_type": "code",
   "execution_count": 84,
   "id": "48675b4e",
   "metadata": {},
   "outputs": [
    {
     "name": "stdout",
     "output_type": "stream",
     "text": [
      "{1, 2, 3, 4, 5}\n",
      "<class 'set'>\n"
     ]
    }
   ],
   "source": [
    "a = {1,2,3,4,5,4}\n",
    "print(a)               #중복 데이터는 빠져서 출력\n",
    "print(type(a))"
   ]
  },
  {
   "cell_type": "code",
   "execution_count": 87,
   "id": "e28c0300",
   "metadata": {},
   "outputs": [
    {
     "name": "stdout",
     "output_type": "stream",
     "text": [
      "[1, 2, 3, 4, 5]\n",
      "1\n"
     ]
    }
   ],
   "source": [
    "# print(b[0])  순서, 인덱스가 없으므로 꺼내올 수 없다 -> 데이터 사용하려면 list로 바꾸기\n",
    "\n",
    "b = list(a)\n",
    "print(b)\n",
    "print(b[0])"
   ]
  },
  {
   "cell_type": "code",
   "execution_count": 88,
   "id": "b8acd7f5",
   "metadata": {},
   "outputs": [
    {
     "name": "stdout",
     "output_type": "stream",
     "text": [
      "{1, 2, 3, 4, 5, 6, 7, 8, 9}\n",
      "{4, 5, 6}\n",
      "{1, 2, 3}\n"
     ]
    }
   ],
   "source": [
    "#### 집합 연산   <- set 사용\n",
    "\n",
    "\n",
    "s1 = {1,2,3,4,5,6}\n",
    "s2 = {4,5,6,7,8,9}\n",
    "\n",
    "# 합집합\n",
    "print(s1.union(s2))       # 중복 빼고 출력\n",
    "\n",
    "#교집합\n",
    "print(s1.intersection(s2))\n",
    "\n",
    "#차집합\n",
    "print(s1.difference(s2))\n"
   ]
  },
  {
   "cell_type": "code",
   "execution_count": 95,
   "id": "b43959f0",
   "metadata": {},
   "outputs": [
    {
     "name": "stdout",
     "output_type": "stream",
     "text": [
      "{1, 2, 3, 4, 5, 6, 7, 8}\n",
      "{1, 2, 3, 4, 5, 6, 7, 8, 9}\n",
      "{1, 2, 3, 4, 5, 6, 7, 8}\n",
      "{1, 2, 3, 4, 5, 6, 7}\n"
     ]
    }
   ],
   "source": [
    "#### CRUD\n",
    "\n",
    "#여러 개 추가 :update\n",
    "s1.update({7,8})    #중괄호 {} 써야함\n",
    "print(s1)\n",
    "\n",
    "#한 개 추가 :add\n",
    "s1.add(9)\n",
    "print(s1)\n",
    "\n",
    "# 삭제 :remove    없는 값 삭제 시 에러 , discard\n",
    "s1.remove(9)\n",
    "print(s1)\n",
    "\n",
    "s1.discard(8)\n",
    "print(s1)\n",
    "\n",
    "\n"
   ]
  },
  {
   "cell_type": "code",
   "execution_count": 98,
   "id": "2142da62",
   "metadata": {},
   "outputs": [
    {
     "name": "stdout",
     "output_type": "stream",
     "text": [
      "[1, 2, 3, 4, 5]\n"
     ]
    }
   ],
   "source": [
    "###중복된 데이터를 제거하고 재구성\n",
    "\n",
    "data = [1,2,3,4,4,5,2]\n",
    "a = list(set(data))      #data = list(a) 하면 기존 data가 바뀐다!\n",
    "print(a)"
   ]
  },
  {
   "cell_type": "markdown",
   "id": "0baf42d1",
   "metadata": {},
   "source": [
    "----\n",
    "## 4. Operator 연산자\n",
    "\n",
    "    1) 산술 연산자\n",
    "        *   /   +   -   %(나머지)   //(몫)  **(제곱)\n",
    "\n",
    "\n",
    "    2) 비교 연산자\n",
    "        >    <    >=    <=    ==(같다)   !=\n",
    "        \n",
    "    \n",
    "    3) 논리 연산자\n",
    "        and       or      not(단항 연산자, toggle 연산자)\n",
    "        \n",
    "        x  y             x and y       x  or y     not x      not y   x ^ y\n",
    "        -------------------------------------------------------------------------------\n",
    "        T  T              = T             T         F         F        F\n",
    "        T  F              = F             T         F         T        T\n",
    "        F  T              = F             T         T         F        T\n",
    "        F  F              = F             F         T         T        F\n",
    "        \n",
    "        \n",
    "    \n",
    "    4) 대입 연산자\n",
    "      =   +=   -=    *=    ...\n",
    "    \n",
    "    \n",
    "    5) 포함 여부 연산자 \n",
    "      in     not in\n",
    "      \n",
    "    6) 비트 연산자\n",
    "       &(and)    |(or)     ^(xor):exclusive or ...암호화 복호화\n",
    "    "
   ]
  },
  {
   "cell_type": "code",
   "execution_count": 103,
   "id": "a8d2933a",
   "metadata": {},
   "outputs": [
    {
     "name": "stdout",
     "output_type": "stream",
     "text": [
      "5\n",
      "9\n"
     ]
    }
   ],
   "source": [
    "#### 대입 연산자\n",
    "a = 1\n",
    "a = 3\n",
    "a = 5\n",
    "print(a)\n",
    "\n",
    "\n",
    "b = 1\n",
    "b +=3\n",
    "b +=5\n",
    "print(b)"
   ]
  },
  {
   "cell_type": "code",
   "execution_count": 6,
   "id": "eaa670a1",
   "metadata": {},
   "outputs": [
    {
     "name": "stdout",
     "output_type": "stream",
     "text": [
      "True\n",
      "True\n",
      "3\n"
     ]
    }
   ],
   "source": [
    "#### 비트 연산자\n",
    "a = 7\n",
    "b = 3\n",
    "\n",
    "result = a>3 and b<5\n",
    "print(result)\n",
    "\n",
    "result = a>3 & b<5    #비트연산자\n",
    "print(result)\n",
    "\n",
    "result = a & b    # ?\n",
    "print(result)"
   ]
  },
  {
   "cell_type": "code",
   "execution_count": 118,
   "id": "c7be74e7",
   "metadata": {},
   "outputs": [
    {
     "name": "stdout",
     "output_type": "stream",
     "text": [
      "암호화 :  39603178\n",
      "---------------------------------------\n",
      "복호화:  980980\n"
     ]
    }
   ],
   "source": [
    "# ^(xor): 암호화 복호화\n",
    "\n",
    "data = 980980\n",
    "key = 38976542\n",
    "\n",
    "encode = data ^ key\n",
    "print(\"암호화 : \", encode)\n",
    "\n",
    "print(\"---------------------------------------\")\n",
    "\n",
    "decode = encode ^ key\n",
    "print(\"복호화: \", decode)\n",
    "\n"
   ]
  },
  {
   "cell_type": "code",
   "execution_count": null,
   "id": "a5c862b8",
   "metadata": {},
   "outputs": [],
   "source": []
  }
 ],
 "metadata": {
  "kernelspec": {
   "display_name": "Python 3",
   "language": "python",
   "name": "python3"
  },
  "language_info": {
   "codemirror_mode": {
    "name": "ipython",
    "version": 3
   },
   "file_extension": ".py",
   "mimetype": "text/x-python",
   "name": "python",
   "nbconvert_exporter": "python",
   "pygments_lexer": "ipython3",
   "version": "3.8.8"
  }
 },
 "nbformat": 4,
 "nbformat_minor": 5
}
