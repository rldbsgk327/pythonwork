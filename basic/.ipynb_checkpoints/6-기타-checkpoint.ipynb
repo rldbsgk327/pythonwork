{
 "cells": [
  {
   "cell_type": "markdown",
   "id": "df428b7b",
   "metadata": {},
   "source": [
    "## 1. 모듈"
   ]
  },
  {
   "cell_type": "markdown",
   "id": "720ebb8e",
   "metadata": {},
   "source": [
    "### (1) 정의\n",
    "\n",
    "+ 비슷하거나 관련된 일을 하는 함수, 클래스, 상수값들을 모아 하나의 파일에 저장하고 추후에 사용하기 위한 목적\n",
    "+ 상수, 함수, 클래스들을 모아놓은 파일: .py\n",
    "\n",
    "### (2) 종류\n",
    "\n",
    "+ 표준 모듈\n",
    "+ 사용자 정의 모듈\n",
    "+ 서드 파티 모듈\n",
    "\n",
    "### (3) 참조\n",
    "\n",
    "+ 같은 경로\n",
    "+ 기존 모듈 경로에 추가: 주로 아나콘다의 경우에는 Lib/site-packages\n",
    "+ sys 모듈을 이용해서 path 경로에 추가\n",
    "    - sys.path.append(\"경로\")\n",
    "    \n",
    "\n",
    "### (4) 선언 방법\n",
    "\n",
    "+ import 모듈명\n",
    "+ import 모듈명 as 별칭\n",
    "+ from 모듈명 import 상수, 함수, 클래스\n",
    "+ from 모듈명 import *\n",
    "+ from 모듈명 import 이름 as 별칭\n",
    "\n",
    "### (5) 패키지\n",
    "+ 여러 모듈들을 모아놓은 폴더"
   ]
  },
  {
   "cell_type": "code",
   "execution_count": 12,
   "id": "41efae54",
   "metadata": {},
   "outputs": [],
   "source": [
    "import sys\n",
    "sys.path.append(\"C:\\\\mylib\")    #  \\\\ 두개"
   ]
  },
  {
   "cell_type": "code",
   "execution_count": 18,
   "id": "367d0ef3",
   "metadata": {},
   "outputs": [
    {
     "name": "stdout",
     "output_type": "stream",
     "text": [
      "50\n",
      "키 :  180\n",
      "몸무게 :  80\n",
      "기타 :  {'name': '홍길동', 'blood': '0'}\n",
      "파이썬 주식회사\n",
      "3.141592\n",
      "28.274328\n"
     ]
    }
   ],
   "source": [
    "\"\"\"\n",
    "import mymodule2\n",
    "\n",
    "print(mymodule2.sum(20, 30))\n",
    "mymodule2.info(80, 180, name=\"홍길동\", blood=\"0\")\n",
    "print(mymodule2.company)\n",
    "print(mymodule2.Math().PI)\n",
    "print(mymodule2.Math().solve(3))\n",
    "\n",
    "\"\"\"\n",
    "\n",
    "\"\"\"\n",
    "import mymodule2 as my\n",
    "\n",
    "print(my.sum(20, 30))\n",
    "my.info(80, 180, name=\"홍길동\", blood=\"0\")\n",
    "print(my.company)\n",
    "print(my.Math().PI)\n",
    "print(my.Math().solve(3))\n",
    "\n",
    "\"\"\"\n",
    "\n",
    "\n",
    "\"\"\"\n",
    "from mymodule2 import sum, info, company, Math   # 이렇게 쓰는게 더 좋다\n",
    "\n",
    "print(sum(20, 30))\n",
    "info(80, 180, name=\"홍길동\", blood=\"0\")\n",
    "print(company)\n",
    "print(Math().PI)\n",
    "print(Math().solve(3))\n",
    "\n",
    "\n",
    "\"\"\"\n",
    "\n",
    "\n",
    "from mymodule2 import *\n",
    "\n",
    "print(sum(20, 30))\n",
    "info(80, 180, name=\"홍길동\", blood=\"0\")\n",
    "print(company)\n",
    "print(Math().PI)\n",
    "print(Math().solve(3))\n"
   ]
  },
  {
   "cell_type": "code",
   "execution_count": 24,
   "id": "282fc056",
   "metadata": {},
   "outputs": [
    {
     "name": "stdout",
     "output_type": "stream",
     "text": [
      "play\n",
      "render\n",
      "echo\n"
     ]
    }
   ],
   "source": [
    "import game.play   #패키지.모듈이름\n",
    "import game.graphic.render  #반드시 모듈 이름까지 넣어줘야 함!\n",
    "import game.sound.echo\n",
    "\n",
    "game.play.play_test()\n",
    "game.graphic.render.render_test()\n",
    "game.sound.echo.echo_test()"
   ]
  },
  {
   "cell_type": "markdown",
   "id": "55dcef25",
   "metadata": {},
   "source": [
    "___\n",
    "## 2. 예외처리 (에러처리)\n",
    "참고: 예외: 코드 상/ 에러: 하드웨어, 시스템 상\n",
    "\n"
   ]
  },
  {
   "cell_type": "markdown",
   "id": "b9191f9c",
   "metadata": {},
   "source": [
    "### (1) 예외처리를 하는 이유\n",
    "+ 자연스러운 예외 메세지를 출력\n",
    "+ 프로그램의 비정상적인 종료를 방지\n",
    "\n",
    "### (2) 문법\n",
    "    try:        #모니터링\n",
    "        코드        #예외발생?\n",
    "        ...\n",
    "    except:     #처리\n",
    "        코드\n",
    "        ..."
   ]
  },
  {
   "cell_type": "code",
   "execution_count": 12,
   "id": "b4d4d276",
   "metadata": {},
   "outputs": [
    {
     "name": "stdout",
     "output_type": "stream",
     "text": [
      "3.3333333333333335\n",
      "나머지 코드 실행~\n",
      "--------------------------\n",
      "5.0\n",
      "나머지 코드 실행~\n",
      "--------------------------\n",
      "!에러가 났어요! 0으로 나누면 안됩니다!\n",
      "나머지 코드 실행~\n",
      "--------------------------\n",
      "알 수 없는 오류\n",
      "나머지 코드 실행~\n"
     ]
    }
   ],
   "source": [
    "def test(num):\n",
    "    try:                   #예외가 발생할 수 있는 곳  try로 묶어준다.\n",
    "        result= 10 / num\n",
    "        print(result)\n",
    "    except ZeroDivisionError: #ZeroDivisionError 라는 클래스가 에러 잡아준 것\n",
    "        print(\"!에러가 났어요! 0으로 나누면 안됩니다!\")\n",
    "    except:                    #ZeroDivisionError외의 나머지 에러들의 경우.\n",
    "        print(\"알 수 없는 오류\")\n",
    "    \n",
    "        \n",
    "    print(\"나머지 코드 실행~\")\n",
    "    \n",
    "    \n",
    "############################\n",
    "\n",
    "test(3) \n",
    "print(\"--------------------------\")\n",
    "test(2)\n",
    "print(\"--------------------------\")\n",
    "test(0)  #예외 발생 시 밑의 코드도 실행되지 않고 중지.\n",
    "print(\"--------------------------\")\n",
    "test('가')"
   ]
  },
  {
   "cell_type": "code",
   "execution_count": 20,
   "id": "f5fd5142",
   "metadata": {},
   "outputs": [
    {
     "name": "stdout",
     "output_type": "stream",
     "text": [
      "5.0\n",
      "2\n",
      "나머지 코드 실행~\n",
      "--------------------------\n",
      "3.3333333333333335\n",
      "오류: 인덱스 접근이 잘못되었습니다. 존재하지 않는 인덱스를 입력했습니다.\n",
      "나머지 코드 실행~\n"
     ]
    }
   ],
   "source": [
    "def test(num):\n",
    "    try:\n",
    "        result = 10 / num\n",
    "        print(result)\n",
    "        \n",
    "        arr = [0, 1, 2]\n",
    "        print(arr[num])\n",
    "    except ZeroDivisionError:\n",
    "        print(\"오류:0으로 나누면 안됩니다\")\n",
    "    except IndexError: \n",
    "        print(\"오류: 인덱스 접근이 잘못되었습니다. 존재하지 않는 인덱스를 입력했습니다.\")\n",
    "    except:                       # 가장 넓은 범위 잡\n",
    "        print(\"알 수 없는 오류\")\n",
    "              \n",
    "    print(\"나머지 코드 실행~\")\n",
    "              \n",
    "# except 조건(ZeroDivisionError 등)은 자식class -> 부모 class 순으로 (구체적인 오류를 먼저 쓰고, 밑으로 갈수록 광범위한 오류)               \n",
    "############################\n",
    "              \n",
    "test(2)           \n",
    "print(\"--------------------------\")\n",
    "test(3)             "
   ]
  },
  {
   "cell_type": "code",
   "execution_count": 21,
   "id": "f790e6f0",
   "metadata": {},
   "outputs": [
    {
     "name": "stdout",
     "output_type": "stream",
     "text": [
      "5.0\n",
      "2\n",
      "나머지 코드 실행~\n",
      "--------------------------\n",
      "3.3333333333333335\n",
      "오류:0으로 나누었거나, 인덱스 접근이 잘못 되었습니다.\n",
      "나머지 코드 실행~\n"
     ]
    }
   ],
   "source": [
    "def test(num):\n",
    "    try:\n",
    "        result = 10 / num\n",
    "        print(result)\n",
    "        \n",
    "        arr = [0, 1, 2]\n",
    "        print(arr[num])\n",
    "    except (ZeroDivisionError, IndexError):\n",
    "        print(\"오류:0으로 나누었거나, 인덱스 접근이 잘못 되었습니다.\") #비슷한 오류들, 비슷한 레벨 클래스의 오류들을 튜플로 묶어 한번에 잡을수도 O\n",
    "    except:                     \n",
    "        print(\"알 수 없는 오류\")\n",
    "              \n",
    "    print(\"나머지 코드 실행~\")\n",
    "              \n",
    "# 파이썬 홈페이지에서 예외 계층도 참고!                \n",
    "############################\n",
    "              \n",
    "test(2)           \n",
    "print(\"--------------------------\")\n",
    "test(3)             "
   ]
  },
  {
   "cell_type": "code",
   "execution_count": 29,
   "id": "80f3a7d9",
   "metadata": {},
   "outputs": [
    {
     "name": "stdout",
     "output_type": "stream",
     "text": [
      "오류:0으로 나누면 안됩니다 ( division by zero )\n",
      "나머지 코드 실행~\n",
      "--------------------------\n",
      "5.0\n",
      "2\n",
      "나머지 코드 실행~\n",
      "--------------------------\n",
      "3.3333333333333335\n",
      "오류: 인덱스 접근이 잘못되었습니다. ( list index out of range )\n",
      "나머지 코드 실행~\n",
      "--------------------------\n",
      "알 수 없는 오류 ( unsupported operand type(s) for /: 'int' and 'str' )\n",
      "나머지 코드 실행~\n"
     ]
    }
   ],
   "source": [
    "def test(num):\n",
    "    try:\n",
    "        result = 10 / num\n",
    "        print(result)\n",
    "        \n",
    "        arr = [0, 1, 2]\n",
    "        print(arr[num])\n",
    "    except ZeroDivisionError as e:\n",
    "        print(\"오류:0으로 나누면 안됩니다\", \"(\",e, \")\")\n",
    "    except IndexError as e: \n",
    "        print(\"오류: 인덱스 접근이 잘못되었습니다.\",\"(\",e, \")\" )\n",
    "    except Exception as e:                  # Exception: 가장 넓은 범위, 예외처리의 가장 부모 클래스임\n",
    "        print(\"알 수 없는 오류\", \"(\",e, \")\" )   # 무슨 에러인지 출력되어 확인 가능\n",
    "              \n",
    "    print(\"나머지 코드 실행~\")\n",
    "              \n",
    "               \n",
    "############################\n",
    "              \n",
    "test(0)           \n",
    "print(\"--------------------------\")\n",
    "test(2)           \n",
    "print(\"--------------------------\")\n",
    "test(3)\n",
    "print(\"--------------------------\")\n",
    "test(\"가\")"
   ]
  },
  {
   "cell_type": "code",
   "execution_count": 27,
   "id": "c2c88e5d",
   "metadata": {},
   "outputs": [
    {
     "name": "stdout",
     "output_type": "stream",
     "text": [
      "--------------------------\n",
      "5.0\n",
      "2\n",
      "알 수 없는 오류 ( [Errno 2] No such file or directory: 'nothing.txt' )\n",
      "이곳의 코드는 반드시 실행됨\n"
     ]
    }
   ],
   "source": [
    "def test(num):\n",
    "    try:\n",
    "        result = 10 / num\n",
    "        print(result)\n",
    "        \n",
    "        arr = [0, 1, 2]\n",
    "        print(arr[num])\n",
    "        \n",
    "        f = None       #변수 초기화 하면 2 에러는 없다\n",
    "        f = open(\"nothing.txt\", \"r\")        #에러상황(1. 없는 파일 2.f 변수도 만들어지지 않는다는 문제도 있다.)\n",
    "        #f.close   # 윗줄에서 에러나면 이 줄이 실행안되고 close되지 않는다.\n",
    "        \n",
    "    except ZeroDivisionError as e:\n",
    "        print(\"오류:0으로 나누면 안됩니다\", \"(\",e, \")\")\n",
    "        return               #return을 달아도 finally는 실행됨\n",
    "    except IndexError as e: \n",
    "        print(\"오류: 인덱스 접근이 잘못되었습니다.\",\"(\",e, \")\" )\n",
    "        return\n",
    "    except Exception as e:                 \n",
    "        print(\"알 수 없는 오류\", \"(\",e, \")\" ) \n",
    "        return\n",
    "    finally:                  # 반드시 실행 됨(위에서 오류가 나도!)\n",
    "        print(\"이곳의 코드는 반드시 실행됨\")\n",
    "        if f != None:\n",
    "             f.close()       # 아무리 중간에 에러가 나더라도 close는 실행된다!!!\n",
    "        \n",
    "    print(\"나머지 코드 실행~\")\n",
    "    \n",
    "############################\n",
    "\n",
    "\n",
    "print(\"--------------------------\")\n",
    "test(2)             "
   ]
  },
  {
   "cell_type": "code",
   "execution_count": 25,
   "id": "7d6d016e",
   "metadata": {},
   "outputs": [
    {
     "name": "stdout",
     "output_type": "stream",
     "text": [
      "--------------------------\n",
      "5.0\n",
      "2\n",
      "오류: 파일이 없습니다. ( [Errno 2] No such file or directory: 'nothing.txt' )\n",
      "이곳의 코드는 반드시 실행됨\n"
     ]
    }
   ],
   "source": [
    "def test(num):\n",
    "    try:\n",
    "        result = 10 / num\n",
    "        print(result)\n",
    "        \n",
    "        arr = [0, 1, 2]\n",
    "        print(arr[num])\n",
    "        \n",
    "        f = None\n",
    "        f = open(\"nothing.txt\", \"r\")        #에러상황만듬\n",
    "        #f.close   # 윗줄에서 에러나면 이 줄이 실행안되고 close되지 않는다.\n",
    "        \n",
    "    except ZeroDivisionError as e:\n",
    "        print(\"오류:0으로 나누면 안됩니다\", \"(\",e, \")\")\n",
    "        return               #return을 달아도 finally는 실행됨\n",
    "    except IndexError as e: \n",
    "        print(\"오류: 인덱스 접근이 잘못되었습니다.\",\"(\",e, \")\" )\n",
    "        return\n",
    "    except (FileNotFoundError) as e: \n",
    "        print(\"오류: 파일이 없습니다.\",\"(\",e, \")\" )\n",
    "        return\n",
    "    except Exception as e:                 \n",
    "        print(\"알 수 없는 오류\", \"(\",e, \")\" ) \n",
    "        return\n",
    "    finally:                  # 반드시 실행 됨(위에서 오류가 나도!)\n",
    "        print(\"이곳의 코드는 반드시 실행됨\")\n",
    "        try:\n",
    "            if f != None:\n",
    "                f.close()       # 아무리 중간에 에러가 나더라도 close는 실행된다!!!\n",
    "        except:\n",
    "            pass\n",
    "        \n",
    "        \n",
    "    print(\"나머지 코드 실행~\")\n",
    "    \n",
    "############################\n",
    "\n",
    "\n",
    "print(\"--------------------------\")\n",
    "test(2)             "
   ]
  },
  {
   "cell_type": "code",
   "execution_count": null,
   "id": "27c001a6",
   "metadata": {},
   "outputs": [],
   "source": []
  },
  {
   "cell_type": "code",
   "execution_count": null,
   "id": "a7b149b8",
   "metadata": {},
   "outputs": [],
   "source": []
  }
 ],
 "metadata": {
  "kernelspec": {
   "display_name": "Python 3",
   "language": "python",
   "name": "python3"
  },
  "language_info": {
   "codemirror_mode": {
    "name": "ipython",
    "version": 3
   },
   "file_extension": ".py",
   "mimetype": "text/x-python",
   "name": "python",
   "nbconvert_exporter": "python",
   "pygments_lexer": "ipython3",
   "version": "3.8.8"
  }
 },
 "nbformat": 4,
 "nbformat_minor": 5
}
