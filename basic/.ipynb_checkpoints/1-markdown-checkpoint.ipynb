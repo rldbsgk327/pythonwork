{
 "cells": [
  {
   "cell_type": "markdown",
   "id": "5bcbe400",
   "metadata": {},
   "source": [
    "# 글자크기\n",
    "## 글자 크기\n",
    "### 글자 크기 \n",
    "#### 글자크기 \n",
    "##### 글자크기와 이텔릭체\n",
    "일반 글자크기\n",
    "\n",
    "<h1>html글자크기1</h1>\n",
    "<h3>html글자크기3</h3>\n",
    "\n",
    "글자크기\n",
    "=====\n",
    "글자 크기 \n",
    "==\n",
    "글자크기\n",
    "------\n",
    "글자 크기\n",
    "===\n"
   ]
  },
  {
   "cell_type": "markdown",
   "id": "d009bdab",
   "metadata": {},
   "source": [
    "두번째 쉘\n",
    "\n",
    "---\n",
    "구분선\n",
    "\n",
    "들여쓰기 문법입니다.\n",
    "> 첫 번째 들여쓰기\n",
    "\n",
    "> 두 번째 들여쓰기\n",
    "\n",
    ">> 세 번째 들여쓰기\n"
   ]
  },
  {
   "cell_type": "markdown",
   "id": "1dc7001c",
   "metadata": {},
   "source": [
    "---\n",
    "\n",
    "목록 작성 (순서 있는 리스트)\n",
    "과일의 종류\n",
    "1. 사과\n",
    "2. 배\n",
    "3. 포도\n",
    "\n",
    "\n",
    "좋아하는 색상(순서 없는 리스트)\n",
    "- 하늘\n",
    "+ 연보라\n",
    "* 노랑\n",
    "\n",
    "\n",
    "\n",
    "지역\n",
    "* 서울  \n",
    "   + 용산구\n",
    "   - 마포구\n",
    "   * 영등포구\n",
    "   \n",
    "\n",
    "* 경기\n",
    "    + 안양시(tab누르면 여러번 띄어짐)\n",
    "    - 의정부\n",
    "    + 만안구 "
   ]
  },
  {
   "cell_type": "markdown",
   "id": "366f8391",
   "metadata": {},
   "source": [
    "[네이버](https://www.naver.com/)\n"
   ]
  },
  {
   "cell_type": "markdown",
   "id": "0b5f1999",
   "metadata": {},
   "source": [
    "이것은 *이텔릭체* 입니다. \n",
    "\n",
    "이것은 **볼드체**입니다. \n",
    "\n",
    "이것은 ~관통선/취소선~입니다."
   ]
  },
  {
   "cell_type": "markdown",
   "id": "b8444c07",
   "metadata": {},
   "source": [
    "---\n",
    "\n",
    "이미지 불러오기 (같은 위치에있으니까 폴더이름만 쓴 것)\n",
    "\n",
    "![고양이이미지](images/cat.jpg)\n",
    "![이미지가 없을 경우 텍스트]()\n"
   ]
  },
  {
   "cell_type": "markdown",
   "id": "13b2bd75",
   "metadata": {},
   "source": [
    "------\n",
    "\n",
    "\n",
    "## 연습\n",
    "\n",
    "*python* **python** ~python~\n",
    "\n",
    ">들여쓰기\n",
    "\n",
    ">> 들여쓰기\n",
    "\n",
    ">>> 들여쓰기\n",
    "\n",
    "----\n",
    "\n",
    "\n",
    "* [나의 깃허브](https://github.com/rldbsgk327)\n",
    "\n",
    "* 나의 사진\n",
    "    + 이름: 기윤하\n",
    "    + 사진 종류: 증명사진\n",
    "![나의 사진](images/증명사진.jpg)"
   ]
  },
  {
   "cell_type": "code",
   "execution_count": null,
   "id": "09e59aab",
   "metadata": {},
   "outputs": [],
   "source": []
  }
 ],
 "metadata": {
  "kernelspec": {
   "display_name": "Python 3",
   "language": "python",
   "name": "python3"
  },
  "language_info": {
   "codemirror_mode": {
    "name": "ipython",
    "version": 3
   },
   "file_extension": ".py",
   "mimetype": "text/x-python",
   "name": "python",
   "nbconvert_exporter": "python",
   "pygments_lexer": "ipython3",
   "version": "3.8.8"
  }
 },
 "nbformat": 4,
 "nbformat_minor": 5
}
