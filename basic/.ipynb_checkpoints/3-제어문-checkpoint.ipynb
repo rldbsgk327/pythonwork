{
 "cells": [
  {
   "cell_type": "markdown",
   "id": "bbd9dc4f",
   "metadata": {},
   "source": [
    "## 1. 입력 기능"
   ]
  },
  {
   "cell_type": "code",
   "execution_count": 2,
   "id": "9d369587",
   "metadata": {},
   "outputs": [
    {
     "name": "stdout",
     "output_type": "stream",
     "text": [
      "당신의 이름은?홍길동\n"
     ]
    }
   ],
   "source": [
    "name = input(\"당신의 이름은?\")      #이 인풋된 데이터(홍길동)을 계속 쓸 순 없음->변수name"
   ]
  },
  {
   "cell_type": "code",
   "execution_count": 5,
   "id": "db3b424a",
   "metadata": {},
   "outputs": [
    {
     "name": "stdout",
     "output_type": "stream",
     "text": [
      "안녕하세요! 홍길동님 어서오세요!\n"
     ]
    }
   ],
   "source": [
    "print(\"안녕하세요! {}님 어서오세요!\" .format(name))"
   ]
  },
  {
   "cell_type": "code",
   "execution_count": 7,
   "id": "17b237d3",
   "metadata": {},
   "outputs": [
    {
     "name": "stdout",
     "output_type": "stream",
     "text": [
      "첫번째 숫자:  10\n",
      "두번째 숫자:  20\n",
      "결과:   30\n"
     ]
    }
   ],
   "source": [
    "num1 = int(input(\"첫번째 숫자:  \"))\n",
    "num2 = int(input(\"두번째 숫자:  \"))\n",
    "\n",
    "print(\"결과:  \", num1+ num2)"
   ]
  },
  {
   "cell_type": "markdown",
   "id": "f8b224a9",
   "metadata": {},
   "source": [
    "---\n",
    "## 2. 제어문 (Control Statement)\n",
    "\n",
    "    1) 조건문( 만약 조건이 참이라면~)\n",
    "        - if\n",
    "        - switch\n",
    "        \n",
    "     2) 반복문\n",
    "        - while\n",
    "        - for\n",
    "        - 주의할 점\n",
    "            + 무한 반복\n",
    "            + 반복 횟수\n",
    "        \n",
    "        - 구조: 초기화, 조건식, 카운터!\n"
   ]
  },
  {
   "cell_type": "markdown",
   "id": "9ec3c570",
   "metadata": {},
   "source": [
    "---\n",
    "### (1) if\n",
    "    \n",
    "    1) 첫 번째 유형 \n",
    "        if 조건식 : \n",
    "           문장\n",
    "           ...\n",
    "           \n",
    "        if 조건식 : 문장\n",
    "        \n",
    "     2) 두 번째 유형\n",
    "        if 조건식:\n",
    "            문장\n",
    "            ...\n",
    "            \n",
    "         else\n",
    "             문장\n",
    "             ...\n",
    "             \n",
    "      3) 세 번째 유형\n",
    "        if 조건식:\n",
    "            문장\n",
    "            ...\n",
    "            \n",
    "         elif 조건식:\n",
    "             문장\n",
    "             ...\n",
    "             \n",
    "         elif 조건식:\n",
    "             문장\n",
    "             ...\n",
    "             \n",
    "         [ else:\n",
    "              문장\n",
    "              ...]\n",
    "              \n",
    "        4) 조건문의 중첩(nested)\n",
    "        \n",
    "            if 조건식:\n",
    "                문장\n",
    "                ...\n",
    "                \n",
    "             if 조건식:\n",
    "                 문장\n",
    "                 ..."
   ]
  },
  {
   "cell_type": "code",
   "execution_count": 15,
   "id": "7c94ae1e",
   "metadata": {},
   "outputs": [
    {
     "name": "stdout",
     "output_type": "stream",
     "text": [
      "숫자: 45\n",
      "45 은/는 홀수 입니다.\n"
     ]
    }
   ],
   "source": [
    "# 입력받은 숫자가 짝수/홀수인지 판별\n",
    "\n",
    "num = int(input(\"숫자: \"))\n",
    "\n",
    "if num % 2 == 0:\n",
    "    print(num, \"은/는 짝수 입니다.\")\n",
    "else:\n",
    "    print(num, \"은/는 홀수 입니다.\")"
   ]
  },
  {
   "cell_type": "code",
   "execution_count": 21,
   "id": "9adcb6ab",
   "metadata": {},
   "outputs": [
    {
     "name": "stdout",
     "output_type": "stream",
     "text": [
      "알파벳을 입력하세요: h\n",
      "오답\n"
     ]
    }
   ],
   "source": [
    "# 입력받은 값이 a,b,c,d이면 \"정답\", 아니면 \"오답\"\n",
    "\n",
    "#내 답\n",
    "num = input(\"알파벳을 입력하세요: \")\n",
    "\n",
    "if 'a' in num or 'b' in num or 'c' in num or 'd' in num:      #in은 뒤에 집합이 와야 자연스럽다\n",
    "        print(\"정답\")\n",
    "else: \n",
    "        print(\"오답\")\n",
    "        "
   ]
  },
  {
   "cell_type": "code",
   "execution_count": 23,
   "id": "20e4c2d6",
   "metadata": {},
   "outputs": [
    {
     "name": "stdout",
     "output_type": "stream",
     "text": [
      "답변을 입력하세요e\n",
      "오답입니다.\n"
     ]
    }
   ],
   "source": [
    "correct = ['a', 'b', 'c', 'd']\n",
    "\n",
    "answer = input(\"답변을 입력하세요\")\n",
    "\n",
    "if answer in correct:\n",
    "        print(\"정답입니다.\")\n",
    "else:\n",
    "        print(\"오답입니다.\")\n"
   ]
  },
  {
   "cell_type": "code",
   "execution_count": 32,
   "id": "60cbf0c2",
   "metadata": {},
   "outputs": [
    {
     "name": "stdout",
     "output_type": "stream",
     "text": [
      "답변을 입력하세요: e\n",
      "오답\n"
     ]
    }
   ],
   "source": [
    "answer = input(\"답변을 입력하세요: \")\n",
    "\n",
    "correct = ('a', 'b', 'c', 'd')\n",
    "\n",
    "if correct.count(answer) > 0:    # count: 특정 데이터의 갯수 < 전체.count(찾으려는 것) >\n",
    "    print(\"정답\")\n",
    "else:\n",
    "    print(\"오답\")\n",
    "    "
   ]
  },
  {
   "cell_type": "code",
   "execution_count": 28,
   "id": "516c6080",
   "metadata": {},
   "outputs": [
    {
     "name": "stdout",
     "output_type": "stream",
     "text": [
      "답변을 입력하세요: a\n",
      "정답\n"
     ]
    }
   ],
   "source": [
    "answer = input(\"답변을 입력하세요: \")\n",
    "\n",
    "if answer >= 'a' and answer <= 'd':\n",
    "    print(\"정답\")\n",
    "else:\n",
    "    print(\"오답\")"
   ]
  },
  {
   "cell_type": "code",
   "execution_count": 34,
   "id": "364f4dd8",
   "metadata": {},
   "outputs": [
    {
     "name": "stdout",
     "output_type": "stream",
     "text": [
      "97 65 98\n",
      "a Y B\n"
     ]
    }
   ],
   "source": [
    "print(ord('a'), ord('A'), ord('b'))  #아스키코드 알아보기   *\n",
    "print(chr(97), chr(89), chr(66))    #아스키코드 해당 번호에 어떤 문자/숫자?"
   ]
  },
  {
   "cell_type": "code",
   "execution_count": 40,
   "id": "653c6ed7",
   "metadata": {},
   "outputs": [
    {
     "name": "stdout",
     "output_type": "stream",
     "text": [
      "연도를 입력하세요: 2020\n",
      "윤년입니다.\n"
     ]
    }
   ],
   "source": [
    "#윤년 계산 프로그램\n",
    "\n",
    "#1) 기원 연수가 4로 나누어 떨어지는 해는 우선 윤년으로 한다.\n",
    "#2) 그 중에서 100으로 나누어 떨어지는 해는 평년으로 한다.\n",
    "#3) 다만 400으로 나누어 떨어지는 해는 다시 윤년으로 정한다.\n",
    "\n",
    "#연도를 입력 : 2019(엔터) 참고로 2020년이 윤년윤년\n",
    "#결과 : 윤년입니다.(윤년이 아닙니다)\n",
    "\n",
    "year = int(input(\"연도를 입력하세요: \"))\n",
    "\n",
    "if year % 4 == 0:\n",
    "    if year % 100 == 0:\n",
    "        if year % 100 == 400: \n",
    "                print(\"윤년입니다.\")\n",
    "        print(\"평년입니다.\")\n",
    "    print(\"윤년입니다.\")\n",
    "\n",
    "else: print(\"평년입니다.\")"
   ]
  },
  {
   "cell_type": "code",
   "execution_count": 41,
   "id": "6e6b7e97",
   "metadata": {},
   "outputs": [
    {
     "name": "stdout",
     "output_type": "stream",
     "text": [
      "C학점\n"
     ]
    }
   ],
   "source": [
    "#### 다중 if문\n",
    "\n",
    "avg = 73\n",
    "if avg >=90:\n",
    "    print(\"A학점\")\n",
    "elif avg >= 80:\n",
    "    print(\"B학점\")\n",
    "elif avg >= 70:\n",
    "    print(\"C학점\")\n",
    "elif avg >= 60:\n",
    "    print(\"D학점\")\n",
    "else : \n",
    "    print(\"F학점\")\n",
    "    "
   ]
  },
  {
   "cell_type": "code",
   "execution_count": 2,
   "id": "a2bd3b87",
   "metadata": {},
   "outputs": [
    {
     "name": "stdout",
     "output_type": "stream",
     "text": [
      "연산자를 입력하세요: -\n",
      "숫자를 입력하세요: 230\n",
      "숫자를 입력하세요: 11\n",
      "219\n"
     ]
    }
   ],
   "source": [
    "#전자 계산기 프로그램(사칙연산)   -> chat올리기\n",
    "#----------------------------------\n",
    "#연산자 : +\n",
    "#숫자1 : 10\n",
    "#숫자2 : 5\n",
    "\n",
    "#결과 : 10 + 5 = 15\n",
    "\n",
    "\n",
    "op = input(\"연산자를 입력하세요: \")\n",
    "num1 = int(input(\"숫자를 입력하세요: \"))\n",
    "num2 = int(input(\"숫자를 입력하세요: \"))\n",
    "\n",
    "if op == '+':\n",
    "    print(num1 + num2)\n",
    "elif op == '-':\n",
    "    print(num1 - num2)\n",
    "elif op == '*':\n",
    "    print(num1 * num2)\n",
    "elif op == '/':\n",
    "    print(num1 / num2)\n",
    "else: print(\"연산자가 잘못되었습니다. +, -, *, / 중에서 선택해주세요\")"
   ]
  },
  {
   "cell_type": "code",
   "execution_count": 2,
   "id": "5fa3dd34",
   "metadata": {},
   "outputs": [
    {
     "name": "stdout",
     "output_type": "stream",
     "text": [
      "b가 가장 크다\n",
      "-----------------------------------------\n",
      "\n",
      "ID: tiger\n",
      "PassWord: 1111\n",
      "로그인 성공\n"
     ]
    }
   ],
   "source": [
    "#### 조건문의 중첩\n",
    "\n",
    "a, b, c = 8, 10, 3\n",
    "\n",
    "if a > b:\n",
    "    if a > c:\n",
    "        print(\"a가 가장 크다\")\n",
    "    else:\n",
    "        print(\"c가 가장 크다\")\n",
    "else: \n",
    "    if b > c:\n",
    "        print(\"b가 가장 크다\")\n",
    "    else:\n",
    "        print(\"c가 가장 크다\")\n",
    "        \n",
    "        \n",
    "print(\"-----------------------------------------\\n\")\n",
    "\n",
    "\n",
    "id = input(\"ID: \")  #tiger\n",
    "pw = input(\"PassWord: \") #1111\n",
    "\n",
    "if id != \"tiger\":\n",
    "    if pw != \"1111\":\n",
    "        print(\"아이디와 패스워드가 틀렸습니다.\")\n",
    "    else: \n",
    "        print(\"아이디가 틀렸습니다.\")\n",
    "else:\n",
    "    if pw != \"1111\":\n",
    "        print(\"패스워드가 틀렸습니다.\")\n",
    "    else: \n",
    "        print(\"로그인 성공\")       ##주의"
   ]
  },
  {
   "cell_type": "code",
   "execution_count": 16,
   "id": "fa93d252",
   "metadata": {},
   "outputs": [
    {
     "data": {
      "text/plain": [
       "1"
      ]
     },
     "execution_count": 16,
     "metadata": {},
     "output_type": "execute_result"
    }
   ],
   "source": [
    "import random             #모듈, 라이브러리    *import 잊지말기\n",
    "\n",
    "random.randint(0, 10)             # randint : 정수형 랜덤, 0~10 중에서 난수!"
   ]
  },
  {
   "cell_type": "code",
   "execution_count": null,
   "id": "94b233fe",
   "metadata": {},
   "outputs": [
    {
     "name": "stdout",
     "output_type": "stream",
     "text": [
      "\n",
      "1= 가위, 2= 바위, 3 = 보 중에서 하나를 입력하세요: 3\n",
      "\n",
      "컴퓨터: 바위, 사용자: 보\n",
      ">> 사용자 승!\n",
      "\n",
      "1= 가위, 2= 바위, 3 = 보 중에서 하나를 입력하세요: 2\n",
      "\n",
      "컴퓨터: 가위, 사용자: 바위\n",
      ">> 사용자 승!\n",
      "\n"
     ]
    }
   ],
   "source": [
    "#(가위, 바위, 보) 중에서 하나를 입력 : 가위(엔터)\n",
    "#컴퓨터 : 보, 사용자 : 가위\n",
    "#사용자 승\n",
    "\n",
    "\n",
    "\n",
    "import random\n",
    "\n",
    "while True :\n",
    "    \n",
    "    a = random.randint(1,3)\n",
    "    print()\n",
    "    b = input(\"1= 가위, 2= 바위, 3 = 보 중에서 하나를 입력하세요: \")\n",
    "    print()\n",
    "\n",
    "    \n",
    "    \n",
    "    if a == 1:\n",
    "        if b == '2':\n",
    "            print(\"컴퓨터: 가위, 사용자: 바위\\n>> 사용자 승!\")\n",
    "        elif b == '3':\n",
    "            print(\"컴퓨터: 가위, 사용자: 보\\n>> 컴퓨터 승!\")\n",
    "        elif b == 'x' or b == 'q':\n",
    "            break\n",
    "        else: print(\"컴퓨터: 가위, 사용자: 가위\\n>> 무승부~\")\n",
    "\n",
    "    elif a == 2:\n",
    "        if b == '1':\n",
    "            print(\"컴퓨터: 바위, 사용자: 가위\\n>> 컴퓨터 승!\")\n",
    "        elif b == '2':\n",
    "            print(\"컴퓨터: 바위, 사용자: 바위\\n>> 무승부~\")\n",
    "        elif b == 'x' or b == 'q':\n",
    "            break\n",
    "        else: print(\"컴퓨터: 바위, 사용자: 보\\n>> 사용자 승!\")\n",
    "    \n",
    "    \n",
    "    elif a == 3:\n",
    "        if b == '1':\n",
    "            print(\"컴퓨터: 보, 사용자: 가위\\n>> 사용자 승!\")\n",
    "        elif b == '2':\n",
    "            print(\"컴퓨터: 보, 사용자: 바위\\n>> 컴퓨터 승!\")\n",
    "        elif b == 'x' or b == 'q':\n",
    "            break\n",
    "        else: print(\"컴퓨터: 보, 사용자: 보\\n>> 무승부~\")\n",
    "    \n",
    "    else: print(\"숫자를 잘못 입력하셨습니다. 다시 입력하세요\")\n",
    "\n",
    "\n"
   ]
  },
  {
   "cell_type": "markdown",
   "id": "653220f6",
   "metadata": {},
   "source": [
    "---\n",
    "\n",
    "### (2) while\n",
    "   \n",
    "    while 조건식:\n",
    "        문장\n",
    "        ..."
   ]
  },
  {
   "cell_type": "code",
   "execution_count": 29,
   "id": "c715460e",
   "metadata": {},
   "outputs": [
    {
     "name": "stdout",
     "output_type": "stream",
     "text": [
      "****\n",
      "*  *  *  *  *  *  *  *  *  *  "
     ]
    }
   ],
   "source": [
    "print(\"*\" * 4)\n",
    "\n",
    "cnt = 0\n",
    "while cnt <10:\n",
    "    print(\"*\", end = \"  \")   # end = \"\\n\" 였던 것 제거: 줄바꿈 안하고 출력/ 공백\n",
    "    cnt += 1"
   ]
  },
  {
   "cell_type": "code",
   "execution_count": 33,
   "id": "a1caea5e",
   "metadata": {},
   "outputs": [
    {
     "name": "stdout",
     "output_type": "stream",
     "text": [
      "결과: 55\n"
     ]
    }
   ],
   "source": [
    "#### 1부터 10까지 합계\n",
    "\n",
    "cnt = 0\n",
    "sum = 0\n",
    "\n",
    "while cnt <= 10:\n",
    "    sum += cnt\n",
    "    cnt += 1\n",
    "\n",
    "\n",
    "print(\"결과:\" , sum)"
   ]
  },
  {
   "cell_type": "code",
   "execution_count": 34,
   "id": "be1a26f2",
   "metadata": {},
   "outputs": [
    {
     "name": "stdout",
     "output_type": "stream",
     "text": [
      "결과: 1024\n"
     ]
    }
   ],
   "source": [
    "#### 2의 10승 :1024\n",
    "\n",
    "cnt = 0\n",
    "sum = 1\n",
    "\n",
    "while cnt < 10:\n",
    "    sum *= 2\n",
    "    cnt += 1\n",
    "\n",
    "\n",
    "print(\"결과:\" , sum)"
   ]
  },
  {
   "cell_type": "markdown",
   "id": "26827d18",
   "metadata": {},
   "source": [
    "---\n",
    "### (3) for\n",
    "\n",
    "    for 변수 in 집합자료형:    (반복횟수 지정하지 않음, 집합자료형일때 쓰면 굿)\n",
    "        문장\n",
    "        ...\n",
    "        \n",
    " "
   ]
  },
  {
   "cell_type": "code",
   "execution_count": 18,
   "id": "5f1fc870",
   "metadata": {},
   "outputs": [
    {
     "name": "stdout",
     "output_type": "stream",
     "text": [
      "10\n",
      "4\n",
      "67\n",
      "55\n",
      "Hi\n",
      "False\n",
      "apple\n",
      "----------------------------------------------\n",
      "10\n",
      "4\n",
      "67\n",
      "55\n",
      "Hi\n",
      "False\n",
      "apple\n",
      "*\n",
      "*\n",
      "*\n",
      "*\n",
      "*\n",
      "*\n",
      "*\n",
      "----------------------------------------------\n",
      "**********"
     ]
    }
   ],
   "source": [
    "data = [10, 4, 67, 55, \"Hi\", False, \"apple\"]\n",
    "\n",
    "cnt = 0\n",
    "while cnt < len(data) :       #7로 해도 되지만, len쓰면 더 효율적\n",
    "    print(data[cnt])\n",
    "    cnt += 1\n",
    "\n",
    "\n",
    "print(\"----------------------------------------------\")\n",
    "\n",
    "\n",
    "for v in data :      #data에서 하나씩 꺼내서 v에 저장, 집합원소 갯수만큼 반복출력(?)\n",
    "    print(v)\n",
    "\n",
    "\n",
    "for v in data:\n",
    "    print(\"*\")\n",
    "\n",
    "print(\"----------------------------------------------\")\n",
    "\n",
    "\n",
    "for v in range(10):   #range(10): 0~9까지 10개의 숫자 생성\n",
    "    print(\"*\", end = \"\")\n",
    "\n"
   ]
  },
  {
   "cell_type": "markdown",
   "id": "cf75924b",
   "metadata": {},
   "source": [
    "---\n",
    "### (4) 반복문의 강제 종료\n",
    "\n",
    "+ break  : 완전 종료\n",
    "+ continue  : 일시 종료"
   ]
  },
  {
   "cell_type": "code",
   "execution_count": 26,
   "id": "0a1d3c00",
   "metadata": {},
   "outputs": [
    {
     "name": "stdout",
     "output_type": "stream",
     "text": [
      "0\n",
      "1\n",
      "2\n",
      "3\n",
      "4\n",
      "6\n",
      "7\n",
      "8\n",
      "9\n",
      "--------------------------------------\n",
      "\n",
      "********************"
     ]
    }
   ],
   "source": [
    "for v in range(10): \n",
    "    \n",
    "    if v == 5:\n",
    "        #break         #다음 반복으로 올라가지 않고 완전 종료. 반복문 빠져나간다. -> 4까지만 출력\n",
    "        continue      #continue 만나면 그 줄에서 중지, 밑에 실행하지 않고 그냥 다음 반복으로 올라감  -> 5는 출력되지 않음\n",
    "    print(v)\n",
    " \n",
    "\n",
    "print(\"--------------------------------------\\n\")\n",
    "\n",
    "\n",
    "cnt = 0\n",
    "while True:           #조건을 어떻게 할 지 모를때, 일단 참 -> 무한반복 이므로 중지선언 있어야.\n",
    "    if cnt == 20 :\n",
    "        break\n",
    "        \n",
    "    print(\"*\", end = \"\")\n",
    "    cnt += 1\n"
   ]
  },
  {
   "cell_type": "markdown",
   "id": "fa8393bf",
   "metadata": {},
   "source": [
    "### 풀고 chat 올리기\n",
    "\"\"\"\n",
    "문제1\n",
    "전자계산기 프로그램을 반복문을 이용하여 업그레이드\n",
    "(끝나는 조건은 연산자에 x를 입력하면 종료)\n",
    "\n",
    "..전자계산기 문제에 접목하기...true,종료문\n",
    "\n",
    "----------------------------------------------------\n",
    "\n",
    "문제2\n",
    "가위바위보 게임을 반복문을 이용하여 업그레이드\n",
    "(끝나는 조건은 x나 q를 입력하면 종료)\n",
    "\n",
    "끝날 때 결과에 ?승 ?패를 출력\n",
    "\n",
    "-----------------------------------------------------\n",
    "\n",
    "문제3\n",
    "숫자를 입력받아 짝수의 합과 홀수의 합을 구하시오.(0을 입력하면 종료)\n",
    "\n",
    "숫자1: 2\n",
    "숫자2: 3\n",
    "숫자3: 1\n",
    "숫자4: 6\n",
    "숫자5: 0\n",
    "\n",
    "짝수의 합:?\n",
    "홀수의 합:?\n",
    "\n",
    "---------------------------------------------------------\n",
    "\n",
    "문제4\n",
    "숫자 맞추기 게임\n",
    "\n",
    "예시) 1부터 100사이의 숫자를 맞추시오 ....random 이용\n",
    "\n",
    "숫자 입력 : 50\n",
    "낮음!\n",
    "\n",
    "숫자 입력 : 75\n",
    "낮음\n",
    "\n",
    "....\n",
    "\n",
    "숫자 입력 : 89\n",
    "정답입니다. 시도회수는 ?번입니다.\n",
    "\"\"\"\n",
    "\n",
    "\n",
    "--------------------------------------------------------------\n",
    "\n",
    "\n",
    "문제 5\n",
    "\n",
    "\"\"\"\n",
    "친구 관리 프로그램  /////1-9메뉴는 계속 반복해서 출력\n",
    "\n",
    "====================\n",
    "\n",
    "1.친구 리스트 출력\n",
    "2.친구 추가 ...list 사용\n",
    "3.친구 삭제\n",
    "4.이름 변경\n",
    "9.종료\n",
    "메뉴를 선택 : 2 (엔터)\n",
    "이름을 입력 : 홍길동 (엔터)\n",
    "\n",
    "-----------------------\n",
    "1.친구 리스트 출력\n",
    "2.친구 추가\n",
    "3.친구 삭제\n",
    "4.이름 변경\n",
    "9.종료\n",
    "메뉴를 선택 : 2 (엔터)\n",
    "이름을 입력 : 임꺽정 (엔터)\n",
    "\n",
    "-----------------------\n",
    "1.친구 리스트 출력\n",
    "2.친구 추가\n",
    "3.친구 삭제\n",
    "4.이름 변경\n",
    "9.종료\n",
    "메뉴를 선택 : 1 (엔터)\n",
    "\n",
    "\n",
    "[\"홍길동\", \"임꺽정\"]\n",
    "\n",
    "----------------------\n",
    "1.친구 리스트 출력\n",
    "2.친구 추가\n",
    "3.친구 삭제\n",
    "4.이름 변경\n",
    "9.종료\n",
    "메뉴를 선택 : 4 (엔터)\n",
    "변경할 이름 선택 : 홍길동 (엔터)\n",
    "변경하고 싶은 이름 입력 : 홍길순 (엔터)\n",
    "\n",
    "-------------------------------\n",
    "1.친구 리스트 출력\n",
    "2.친구 추가\n",
    "3.친구 삭제\n",
    "4.이름 변경\n",
    "9.종료\n",
    "메뉴를 선택 : 1 (엔터)\n",
    "[\"홍길순\", \"임꺽정\"]\n",
    "\n",
    "-------------------------------\n",
    "1.친구 리스트 출력\n",
    "2.친구 추가\n",
    "3.친구 삭제\n",
    "4.이름 변경\n",
    "9.종료\n",
    "메뉴를 선택 : 3 (엔터)\n",
    "삭제할 이름 입력 : 홍길순\n",
    "\n",
    "------------------------------\n",
    "\"\"\"\n",
    "\n"
   ]
  },
  {
   "cell_type": "markdown",
   "id": "0cd5c4f6",
   "metadata": {},
   "source": [
    "---\n",
    "### (5) 반복문의 중첩\n",
    "\n"
   ]
  },
  {
   "cell_type": "code",
   "execution_count": 28,
   "id": "c8afa3cb",
   "metadata": {},
   "outputs": [
    {
     "name": "stdout",
     "output_type": "stream",
     "text": [
      "**********\n",
      "**********\n",
      "**********\n"
     ]
    }
   ],
   "source": [
    "\"\"\"\n",
    "**********\n",
    "**********\n",
    "**********\n",
    "\n",
    "\"\"\"\n",
    "\n",
    "\n",
    "for v1 in range(3):          #행\n",
    "    for v2 in range(10):     #열\n",
    "        print(\"*\", end=\"\")\n",
    "    print()\n",
    "    \n",
    "    "
   ]
  },
  {
   "cell_type": "code",
   "execution_count": 31,
   "id": "aef55a88",
   "metadata": {},
   "outputs": [
    {
     "name": "stdout",
     "output_type": "stream",
     "text": [
      "*\n",
      "**\n",
      "***\n",
      "****\n",
      "*****\n",
      "******\n"
     ]
    }
   ],
   "source": [
    "\"\"\"\n",
    "*\n",
    "**\n",
    "***\n",
    "****\n",
    "*****\n",
    "******\n",
    "\n",
    "\"\"\"\n",
    "\n",
    "for v1 in range(6):          \n",
    "    for v2 in range(v1+1):     \n",
    "        print(\"*\", end=\"\")\n",
    "    print()\n",
    "    \n",
    "    \n"
   ]
  },
  {
   "cell_type": "code",
   "execution_count": null,
   "id": "b6c595bc",
   "metadata": {},
   "outputs": [],
   "source": [
    "#문제 6\n",
    "\"\"\"\n",
    "    *\n",
    "   ***\n",
    "  *****\n",
    " *******\n",
    "*********\n",
    "\n",
    "\"\"\""
   ]
  },
  {
   "cell_type": "markdown",
   "id": "48aaf2a6",
   "metadata": {},
   "source": [
    "### (6) List Comprehenshion"
   ]
  },
  {
   "cell_type": "code",
   "execution_count": 5,
   "id": "7fcf5739",
   "metadata": {},
   "outputs": [
    {
     "name": "stdout",
     "output_type": "stream",
     "text": [
      "[0, 1, 2, 3, 4, 5, 6, 7, 8, 9]\n",
      "[0, 1, 2, 3, 4, 5, 6, 7, 8, 9]\n",
      "\n",
      "--------------------------------------------------------\n",
      "\n",
      "[0, 2, 4, 6, 8]\n",
      "[0, 2, 4, 6, 8]\n"
     ]
    }
   ],
   "source": [
    "result = []\n",
    "\n",
    "for i in range(10):     #10번 반복\n",
    "    result.append(i)\n",
    "print(result)\n",
    "\n",
    "\n",
    "###########################################\n",
    "\n",
    "\n",
    "result = [i for i in range(10)]        #맨 앞의 i가 list안에 쌓인다  ~~ append    ****\n",
    "print(result)\n",
    "\n",
    "\n",
    "print(\"\\n--------------------------------------------------------\\n\")\n",
    "\n",
    "\n",
    "\n",
    "result = []\n",
    "\n",
    "for i in range(10):     #10번 반복\n",
    "    if i % 2 == 0:\n",
    "        result.append(i)\n",
    "print(result)\n",
    "\n",
    "\n",
    "\n",
    "###########################################\n",
    "\n",
    "\n",
    "\n",
    "result = [i for i in range(10) if i % 2 == 0 ]      #조건문\n",
    "print(result)\n"
   ]
  },
  {
   "cell_type": "code",
   "execution_count": 62,
   "id": "22d68f25",
   "metadata": {},
   "outputs": [
    {
     "name": "stdout",
     "output_type": "stream",
     "text": [
      "['AD', 'AE', 'AA', 'BD', 'BE', 'BA', 'CD', 'CE', 'CA']\n",
      "['AD', 'AE', 'AA', 'BD', 'BE', 'BA', 'CD', 'CE', 'CA']\n",
      "['AD', 'AE', 'AA', 'BD', 'BE', 'BA', 'CD', 'CE', 'CA']\n",
      "['AD', 'AE', 'BD', 'BE', 'BA', 'CD', 'CE', 'CA']\n",
      "['AD', 'AE', 'BD', 'BE', 'BA', 'CD', 'CE', 'CA']\n"
     ]
    }
   ],
   "source": [
    "c1 = [\"A\", \"B\", \"C\"]\n",
    "c2 = [\"D\", \"E\", \"A\"]\n",
    "\n",
    "result = []\n",
    "\n",
    "for row in c1:     \n",
    "    for col in c2:\n",
    "        result.append(row + col)\n",
    "print(result)\n",
    "\n",
    "\n",
    "############################################\n",
    "\n",
    "result = [row + col for row in c1 for col in c2]          #중첩 반복문\n",
    "print( result )\n",
    "        \n",
    "result = [row + col for row in c1 for col in c2 ]          #중첩 반복문\n",
    "print( result )\n",
    "          \n",
    "    \n",
    "#['AD', 'AE', 'BD', 'BE', 'BA', 'CD', 'CE', 'CA'] 같은 것끼리 빼기\n",
    "\n",
    "result = []\n",
    "for row in c1:\n",
    "    for col in c2:\n",
    "        if row != col:\n",
    "            result.append(row + col)\n",
    "            \n",
    "print(result)\n",
    "        \n",
    "#############################################\n",
    "\n",
    "result = [row + col for row in c1 for col in c2 if row != col]   # if not row == col   \n",
    "print( result )\n",
    "        \n",
    "    \n",
    "    "
   ]
  },
  {
   "cell_type": "code",
   "execution_count": 86,
   "id": "db566e48",
   "metadata": {},
   "outputs": [
    {
     "name": "stdout",
     "output_type": "stream",
     "text": [
      "[['AD', 'AE', 'AA'], ['BD', 'BE', 'BA'], ['CD', 'CE', 'CA']]\n",
      "[['AD', 'AE', 'AA'], ['BD', 'BE', 'BA'], ['CD', 'CE', 'CA']]\n"
     ]
    }
   ],
   "source": [
    "#문제1     묶어서 [[\"AD\", \"AE\", \"AA\"], [   ]]   ****** \n",
    "\n",
    "c1 = [\"A\", \"B\", \"C\"]\n",
    "c2 = [\"D\", \"E\", \"A\"]\n",
    "\n",
    "result = []\n",
    "\n",
    "for row in c1: \n",
    "    line = []\n",
    "    for col in c2:\n",
    "        line.append(row + col) \n",
    "    result.append(line)\n",
    "print(result)\n",
    "     \n",
    "\n",
    "result = [[row + col for col in c2] for row in c1]\n",
    "print(result)"
   ]
  },
  {
   "cell_type": "code",
   "execution_count": 13,
   "id": "4888a914",
   "metadata": {},
   "outputs": [
    {
     "name": "stdout",
     "output_type": "stream",
     "text": [
      "['SOME', 'some', 4]\n",
      "['WHERE', 'where', 5]\n",
      "['OVER', 'over', 4]\n",
      "['THE', 'the', 3]\n",
      "['RAINBOW', 'rainbow', 7]\n",
      "['WAY', 'way', 3]\n",
      "['UP', 'up', 2]\n",
      "['HIGH', 'high', 4]\n"
     ]
    }
   ],
   "source": [
    "#문제 2\n",
    "\n",
    "words = \"some where over the rainbow way up high\"\n",
    "\n",
    "a = list(words.split(\" \"))\n",
    "\n",
    "for i in a:\n",
    "    print([i.upper(), i, len(i)])\n",
    "\n"
   ]
  },
  {
   "cell_type": "code",
   "execution_count": null,
   "id": "3af06358",
   "metadata": {},
   "outputs": [],
   "source": []
  }
 ],
 "metadata": {
  "kernelspec": {
   "display_name": "Python 3",
   "language": "python",
   "name": "python3"
  },
  "language_info": {
   "codemirror_mode": {
    "name": "ipython",
    "version": 3
   },
   "file_extension": ".py",
   "mimetype": "text/x-python",
   "name": "python",
   "nbconvert_exporter": "python",
   "pygments_lexer": "ipython3",
   "version": "3.8.8"
  }
 },
 "nbformat": 4,
 "nbformat_minor": 5
}
